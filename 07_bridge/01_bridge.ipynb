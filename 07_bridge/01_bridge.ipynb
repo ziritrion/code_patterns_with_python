{
 "cells": [
  {
   "cell_type": "markdown",
   "id": "2a3fbeaf",
   "metadata": {},
   "source": [
    "# Bridge\n",
    "\n",
    "> Connecting components together through abstractions"
   ]
  },
  {
   "cell_type": "markdown",
   "id": "92ec041f",
   "metadata": {},
   "source": [
    "Let's suppose we are developing a drawing application that can draw different shapes:\n",
    "* Circles\n",
    "* Squares\n",
    "\n",
    " Also, we want to be able to render our drawings in 2 different ways:\n",
    " * Raster (pixel) form\n",
    " * Vector form\n",
    "\n",
    "This gives us 4 possible combinations of shape and rendering:\n",
    "* RasterCircle\n",
    "* RasterSquare\n",
    "* VectorCircle\n",
    "* VectorSquare\n",
    "\n",
    "This obviously doesn't scale well if we were to add additional shapes and renderings. We need a way to reduce the number of objects: instead of creating every possible permutation, we need a way to combine them in a way that does not require us to do so explicitly.\n",
    "\n",
    "This is where the Bridge pattern comes into play. Let's begin by creating a base `Renderer` class:"
   ]
  },
  {
   "cell_type": "code",
   "execution_count": 1,
   "id": "e4aefd8e",
   "metadata": {},
   "outputs": [],
   "source": [
    "class Renderer():\n",
    "    def render_circle(self, radius):\n",
    "        pass\n",
    "\n",
    "    # For simplicity, we'll only implement circle."
   ]
  },
  {
   "cell_type": "markdown",
   "id": "d7439c70",
   "metadata": {},
   "source": [
    "Now let's create our actual renderers:"
   ]
  },
  {
   "cell_type": "code",
   "execution_count": 2,
   "id": "1e829c01",
   "metadata": {},
   "outputs": [],
   "source": [
    "class VectorRenderer(Renderer):\n",
    "    def render_circle(self, radius):\n",
    "        print(f'Drawing a circle of radius {radius}')\n",
    "\n",
    "\n",
    "class RasterRenderer(Renderer):\n",
    "    def render_circle(self, radius):\n",
    "        print(f'Drawing pixels for circle of radius {radius}')"
   ]
  },
  {
   "cell_type": "markdown",
   "id": "2d846351",
   "metadata": {},
   "source": [
    "Now let's take care of the shapes. Just like with `Renderer`, we'll create a base `Shape` class and we'll have shape implementations that will inherit from it.\n",
    "\n",
    "This is where we \"build\" the bridge: in the `__init__` method of the base class, we'll pass a `renderer` instance as an argument and we will store it. The implementations will also ovverride `__init__`, then call the superclass' `__init__` and do whatever initializations that they require."
   ]
  },
  {
   "cell_type": "code",
   "execution_count": 3,
   "id": "2763c72e",
   "metadata": {},
   "outputs": [],
   "source": [
    "class Shape:\n",
    "    def __init__(self, renderer):\n",
    "        self.renderer = renderer # Building the bridge\n",
    "\n",
    "    def draw(self): pass\n",
    "    def resize(self, factor): pass\n",
    "\n",
    "\n",
    "class Circle(Shape):\n",
    "    def __init__(self, renderer, radius):\n",
    "        super().__init__(renderer)\n",
    "        self.radius = radius\n",
    "\n",
    "    def draw(self):\n",
    "        self.renderer.render_circle(self.radius) # Using the bridge\n",
    "\n",
    "    def resize(self, factor):\n",
    "        self.radius *= factor"
   ]
  },
  {
   "cell_type": "markdown",
   "id": "ba9949a3",
   "metadata": {},
   "source": [
    "We actually \"use\" the bridge in the `draw` call of our shape: we simply access the `render_circle` method of our renderer.\n",
    "\n",
    "Let's see it in action:"
   ]
  },
  {
   "cell_type": "code",
   "execution_count": 5,
   "id": "2f6b1641",
   "metadata": {},
   "outputs": [
    {
     "name": "stdout",
     "output_type": "stream",
     "text": [
      "Drawing a circle of radius 5\n",
      "Drawing a circle of radius 10\n",
      "Drawing pixels for circle of radius 4\n"
     ]
    }
   ],
   "source": [
    "raster = RasterRenderer()\n",
    "vector = VectorRenderer()\n",
    "vectorcircle = Circle(vector, 5)\n",
    "vectorcircle.draw()\n",
    "vectorcircle.resize(2)\n",
    "vectorcircle.draw()\n",
    "rastercircle = Circle(raster, 4)\n",
    "rastercircle.draw()"
   ]
  },
  {
   "cell_type": "markdown",
   "id": "3049bf63",
   "metadata": {},
   "source": [
    "As seen here, the bridge pattern is actually a very simply pattern that helps us escape the complexity explosion as we get more possible combinations of different classes.\n",
    "\n",
    "A bridge simply connects 2 hierarchies of different classes with a parameter: in our case, by adding a parameter to our initializer and storing it in the class, we have a connection between the 2 hierarchies (`Shape`and `Renderer`).\n",
    "\n",
    "However, in our specific scenario, the renderer is tied to the object that is rendered, which is a violation of the Open-Closed Principle because should we want to add a new shape, we would have to add new methods for each renderer, but this is a small price to pay for the reduced complexity."
   ]
  }
 ],
 "metadata": {
  "kernelspec": {
   "display_name": ".venv",
   "language": "python",
   "name": "python3"
  },
  "language_info": {
   "codemirror_mode": {
    "name": "ipython",
    "version": 3
   },
   "file_extension": ".py",
   "mimetype": "text/x-python",
   "name": "python",
   "nbconvert_exporter": "python",
   "pygments_lexer": "ipython3",
   "version": "3.12.9"
  }
 },
 "nbformat": 4,
 "nbformat_minor": 5
}
