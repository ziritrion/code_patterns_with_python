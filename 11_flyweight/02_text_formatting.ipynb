{
 "cells": [
  {
   "cell_type": "markdown",
   "metadata": {},
   "source": [
    "# Flyweight (again)\n",
    "\n",
    "> Dealing with more complex scenarios"
   ]
  },
  {
   "cell_type": "markdown",
   "metadata": {},
   "source": [
    "In this lesson we are going to look into ways of implementing text formatting.\n",
    "\n",
    "Let's begin with a simple `FormattedText` class that stores the plain text it's trying to format. For the sake of simplicity, this class will only deal with capitalizing certaing letters of the text, so we will provide a method to do just that and a string representation for the class.\n",
    "\n",
    "In order to store out formatting information, we will use a brute force approach: we will have a boolean array of the same length as the plain text and for each letter that we want to capitalize, we will set the matching index in the boolean array to `True`."
   ]
  },
  {
   "cell_type": "code",
   "execution_count": 1,
   "metadata": {},
   "outputs": [],
   "source": [
    "class FormattedText:\n",
    "    def __init__(self, plain_text):\n",
    "        self.plain_text = plain_text\n",
    "        self.caps = [False] * len(plain_text)\n",
    "\n",
    "    def capitalize(self, start, end):\n",
    "        for i in range(start, end):\n",
    "            self.caps[i] = True\n",
    "\n",
    "    def __str__(self):\n",
    "        result = []\n",
    "        for i in range(len(self.plain_text)):\n",
    "            c = self.plain_text[i]\n",
    "            result.append(c.upper() if self.caps[i] else c)\n",
    "        return ''.join(result)"
   ]
  },
  {
   "cell_type": "markdown",
   "metadata": {},
   "source": [
    "Let's test our class:"
   ]
  },
  {
   "cell_type": "code",
   "execution_count": 2,
   "metadata": {},
   "outputs": [
    {
     "name": "stdout",
     "output_type": "stream",
     "text": [
      "This is a BRAVE new world\n",
      "25\n",
      "25\n"
     ]
    }
   ],
   "source": [
    "ft = FormattedText('This is a brave new world')\n",
    "ft.capitalize(10, 15)\n",
    "print(ft)\n",
    "print(len(ft.plain_text))\n",
    "print(len(ft.caps))"
   ]
  },
  {
   "cell_type": "markdown",
   "metadata": {},
   "source": [
    "Our code works, but we're wasting too much memory with our boolean array: if we were to store a very long text (like, for example, a complete novel), our boolean array would be equally long and possibly most of the data within would be wasted because we probably won't be capitalizing most letters.\n",
    "\n",
    "Let's create instead a new `BetterFormattedText` class that implements the **flyweight pattern** to optimize memory usage: our class will store the plain text and an empty formatting list; we will also create an inner `TextRange` flyweight class that will specify the range of characters that we want to format as well as formatting options."
   ]
  },
  {
   "cell_type": "code",
   "execution_count": 3,
   "metadata": {},
   "outputs": [],
   "source": [
    "class BetterFormattedText:\n",
    "    def __init__(self, plain_text):\n",
    "        self.plain_text = plain_text\n",
    "        self.formatting = []\n",
    "\n",
    "    class TextRange:\n",
    "        def __init__(self, start, end, capitalize=False, bold=False, italic=False):\n",
    "            \"\"\"We specify what kinf of formatting we are doing as well as the range (start and end positions)\"\"\"\n",
    "            self.start = start\n",
    "            self.end = end\n",
    "            self.bold = bold\n",
    "            self.capitalize = capitalize\n",
    "            self.italic = italic\n",
    "\n",
    "        def covers(self, position):\n",
    "            \"\"\"Utility method that returns True if position is within the range of the formatting\"\"\"\n",
    "            return self.start <= position <= self.end\n",
    "\n",
    "    def get_range(self, start, end):\n",
    "        \"\"\"We create a TextRange instance and append it to our formatting list\"\"\"\n",
    "        range = self.TextRange(start, end)\n",
    "        self.formatting.append(range)\n",
    "        return range\n",
    "\n",
    "    def __str__(self):\n",
    "        \"\"\"We go through our plain text and apply the formatting. For simplicity, we will only deal with capitalization\"\"\"\n",
    "        result = []\n",
    "        for i in range(len(self.plain_text)):\n",
    "            c = self.plain_text[i]\n",
    "            for r in self.formatting:\n",
    "                if r.covers(i) and r.capitalize:\n",
    "                    c = c.upper()\n",
    "            result.append(c)\n",
    "        return ''.join(result)"
   ]
  },
  {
   "cell_type": "markdown",
   "metadata": {},
   "source": [
    "Instead of wasting space like in our first implementation, our new class has a much smaller list that simply stores ranges, and the API that the class provides allows us to easily add formatting ranges to the text.\n",
    "\n",
    "Let's see our new class in action:"
   ]
  },
  {
   "cell_type": "code",
   "execution_count": 4,
   "metadata": {},
   "outputs": [
    {
     "name": "stdout",
     "output_type": "stream",
     "text": [
      "This is a brave NEW world\n",
      "25\n",
      "1\n"
     ]
    }
   ],
   "source": [
    "bft = BetterFormattedText('This is a brave new world')\n",
    "bft.get_range(16, 19).capitalize = True\n",
    "print(bft)\n",
    "print(len(bft.plain_text))\n",
    "print(len(bft.formatting))"
   ]
  }
 ],
 "metadata": {
  "kernelspec": {
   "display_name": ".venv",
   "language": "python",
   "name": "python3"
  },
  "language_info": {
   "codemirror_mode": {
    "name": "ipython",
    "version": 3
   },
   "file_extension": ".py",
   "mimetype": "text/x-python",
   "name": "python",
   "nbconvert_exporter": "python",
   "pygments_lexer": "ipython3",
   "version": "3.12.6"
  }
 },
 "nbformat": 4,
 "nbformat_minor": 2
}
