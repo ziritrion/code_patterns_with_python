{
 "cells": [
  {
   "cell_type": "markdown",
   "metadata": {},
   "source": [
    "# Flyweight\n",
    "\n",
    "> Optimizing memory usage"
   ]
  },
  {
   "cell_type": "markdown",
   "metadata": {},
   "source": [
    "Let's suppose we are building a multiplayer game. We have a `User` class that stores the full names of our users."
   ]
  },
  {
   "cell_type": "code",
   "execution_count": 1,
   "metadata": {},
   "outputs": [],
   "source": [
    "class User:\n",
    "    def __init__(self, name):\n",
    "        self.name = name"
   ]
  },
  {
   "cell_type": "markdown",
   "metadata": {},
   "source": [
    "Since many people have similar or even identical names, if we simply store the full name of each user, we will end up with lots of duplicate data.\n",
    "\n",
    "Let's simulate this scenario by generating random names for a few users."
   ]
  },
  {
   "cell_type": "code",
   "execution_count": 3,
   "metadata": {},
   "outputs": [
    {
     "name": "stdout",
     "output_type": "stream",
     "text": [
      "10000\n"
     ]
    }
   ],
   "source": [
    "import random\n",
    "import string\n",
    "\n",
    "def random_string():\n",
    "    chars = string.ascii_lowercase\n",
    "    return ''.join([random.choice(chars) for x in range(8)])\n",
    "\n",
    "users = []\n",
    "\n",
    "first_names = [random_string() for x in range(100)]\n",
    "last_names = [random_string() for x in range(100)]\n",
    "\n",
    "# let's make 10,000 Users!\n",
    "for first in first_names:\n",
    "    for last in last_names:\n",
    "        users.append(User(f'{first} {last}'))\n",
    "        \n",
    "print(len(users))"
   ]
  },
  {
   "cell_type": "markdown",
   "metadata": {},
   "source": [
    "In this example we've ended up with 10,000 unique users, even though we are only have 100 first names and 100 last names. We are consuming memory for 10k strings when we could be using only the memory for 200 strings instead.\n",
    "\n",
    "We can optimize our `User` class with the **flyweight pattern**: we will build a class which is simply a pointer into some common store.\n",
    "\n",
    "Our new `User2` class will contain a static list of all the common first and last names. When we initialize a new user with a particular name (which for simplicity's sake we will assume it will always be a first and a last name separated with a space), we will store both first and last name in the static list (if they weren't present before) and the user instance will contain indices of the position of the first and last name in the static list instead."
   ]
  },
  {
   "cell_type": "code",
   "execution_count": 4,
   "metadata": {},
   "outputs": [],
   "source": [
    "class User2:\n",
    "    strings = [] # static list / store\n",
    "\n",
    "    def __init__(self, full_name):\n",
    "        def get_or_add(s):\n",
    "            \"\"\"Get the index of name s or add it to the store and return its index\"\"\"\n",
    "            if s in self.strings:\n",
    "                return self.strings.index(s)\n",
    "            else:\n",
    "                self.strings.append(s)\n",
    "                return len(self.strings)-1\n",
    "        self.names = [get_or_add(x) for x in full_name.split(' ')] # indices for the fist and last name of the user\n",
    "\n",
    "    def __str__(self):\n",
    "        return ' '.join([self.strings[x] for x in self.names])"
   ]
  },
  {
   "cell_type": "markdown",
   "metadata": {},
   "source": [
    "(We also make our new class printable by making it string representable with `__str__`).\n",
    "\n",
    "Let's test our new class:"
   ]
  },
  {
   "cell_type": "code",
   "execution_count": 5,
   "metadata": {},
   "outputs": [
    {
     "name": "stdout",
     "output_type": "stream",
     "text": [
      "[0, 1]\n",
      "[2, 1]\n",
      "['Jim', 'Jones', 'Frank']\n",
      "10000\n",
      "203\n"
     ]
    }
   ],
   "source": [
    "u2 = User2('Jim Jones')\n",
    "u3 = User2('Frank Jones')\n",
    "print(u2.names)\n",
    "print(u3.names)\n",
    "print(User2.strings)\n",
    "\n",
    "users2 = []\n",
    "\n",
    "first_names = [random_string() for x in range(100)]\n",
    "last_names = [random_string() for x in range(100)]\n",
    "\n",
    "for first in first_names:\n",
    "    for last in last_names:\n",
    "        users2.append(User2(f'{first} {last}'))\n",
    "        \n",
    "print(len(users2))\n",
    "print(len(User2.strings))"
   ]
  },
  {
   "cell_type": "markdown",
   "metadata": {},
   "source": [
    "As you can see above, even though we've also created 10k `User2` instances, we are only storing 203 names in total (the 3 we create in the first lines and the 200 we randomly generate afterwards). Each instance of `User2` only stores the indices to the names."
   ]
  }
 ],
 "metadata": {
  "kernelspec": {
   "display_name": ".venv",
   "language": "python",
   "name": "python3"
  },
  "language_info": {
   "codemirror_mode": {
    "name": "ipython",
    "version": 3
   },
   "file_extension": ".py",
   "mimetype": "text/x-python",
   "name": "python",
   "nbconvert_exporter": "python",
   "pygments_lexer": "ipython3",
   "version": "3.12.6"
  }
 },
 "nbformat": 4,
 "nbformat_minor": 2
}
