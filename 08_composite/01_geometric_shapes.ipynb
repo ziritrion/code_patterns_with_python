{
 "cells": [
  {
   "cell_type": "markdown",
   "id": "a873b40c",
   "metadata": {},
   "source": [
    "# Composite pattern\n",
    "\n",
    "> Treating individual and aggregate objects uniformly"
   ]
  },
  {
   "cell_type": "markdown",
   "id": "1f8b452b",
   "metadata": {},
   "source": [
    "In drawing applications, you can drag and drop shapes individually, but you can also group several shapes together and drag and drop them as if they were a single shape.\n",
    "\n",
    "Let's do something similar. We'll create a base class for a `GraphicObject` and inherit from it to create our actual shapes. We will also use this same base class to actually hold a group of objects together."
   ]
  },
  {
   "cell_type": "code",
   "execution_count": 1,
   "id": "65061f57",
   "metadata": {},
   "outputs": [],
   "source": [
    "class GraphicObject:\n",
    "    def __init__(self, color=None):\n",
    "        self.color = color\n",
    "        self.children = []\n",
    "        self._name = 'Group' # private attribute\n",
    "\n",
    "    # remember that the @property decorator is for defining getters for our private attributes.\n",
    "    @property\n",
    "    def name(self):\n",
    "        return self._name\n",
    "\n",
    "    # We want to be able to draw our object. Since we're in text mode, we will simply print some representation of the object.\n",
    "\n",
    "    def _print(self, items, depth):\n",
    "        \"\"\"Utility method to determine what we actually need to print. We either print our items or ourselves.\"\"\"\n",
    "        items.append('*' * depth)\n",
    "        if self.color:\n",
    "            items.append(self.color)\n",
    "        items.append(f'{self.name}\\n')\n",
    "        for child in self.children:\n",
    "            child._print(items, depth + 1)\n",
    "\n",
    "    def __str__(self):\n",
    "        items = []\n",
    "        self._print(items, 0)\n",
    "        return ''.join(items)"
   ]
  },
  {
   "cell_type": "markdown",
   "id": "0aa1858d",
   "metadata": {},
   "source": [
    "We will now implement our actual graphical objects:"
   ]
  },
  {
   "cell_type": "code",
   "execution_count": 2,
   "id": "85d31e4d",
   "metadata": {},
   "outputs": [],
   "source": [
    "class Circle(GraphicObject):\n",
    "    @property\n",
    "    def name(self):\n",
    "        return 'Circle'\n",
    "\n",
    "\n",
    "class Square(GraphicObject):\n",
    "    @property\n",
    "    def name(self):\n",
    "        return 'Square'"
   ]
  },
  {
   "cell_type": "markdown",
   "id": "a6233ccc",
   "metadata": {},
   "source": [
    "Let's see it in action:"
   ]
  },
  {
   "cell_type": "code",
   "execution_count": 3,
   "id": "bc421913",
   "metadata": {},
   "outputs": [
    {
     "name": "stdout",
     "output_type": "stream",
     "text": [
      "My Drawing\n",
      "*RedSquare\n",
      "*YellowCircle\n",
      "*Group\n",
      "**BlueCircle\n",
      "**BlueSquare\n",
      "\n"
     ]
    }
   ],
   "source": [
    "# 1st group\n",
    "drawing = GraphicObject()\n",
    "drawing._name = 'My Drawing' # _name is supposed to be private but eh, this is just for illustration purposes and to make the print easier to read\n",
    "drawing.children.append(Square('Red'))\n",
    "drawing.children.append(Circle('Yellow'))\n",
    "\n",
    "# 2nd group\n",
    "group = GraphicObject()  # no name\n",
    "group.children.append(Circle('Blue'))\n",
    "group.children.append(Square('Blue'))\n",
    "\n",
    "# We can add groups to other groups!\n",
    "drawing.children.append(group)\n",
    "\n",
    "print(drawing)"
   ]
  },
  {
   "cell_type": "markdown",
   "id": "bde8e3b7",
   "metadata": {},
   "source": [
    "As seen in the output above, `My Drawing`contains 2 shapes and a group which contains 2 additional shapes. The `GraphicObject` class effectively behaves as both a scalar base class (for `Circle` and `Square`) and as a collection of shapes."
   ]
  }
 ],
 "metadata": {
  "kernelspec": {
   "display_name": ".venv",
   "language": "python",
   "name": "python3"
  },
  "language_info": {
   "codemirror_mode": {
    "name": "ipython",
    "version": 3
   },
   "file_extension": ".py",
   "mimetype": "text/x-python",
   "name": "python",
   "nbconvert_exporter": "python",
   "pygments_lexer": "ipython3",
   "version": "3.12.9"
  }
 },
 "nbformat": 4,
 "nbformat_minor": 5
}
