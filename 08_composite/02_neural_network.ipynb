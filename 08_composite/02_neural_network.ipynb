{
 "cells": [
  {
   "cell_type": "markdown",
   "id": "1d3de545",
   "metadata": {},
   "source": [
    "# Composite pattern (again)\n",
    "\n",
    "> Dealing with more complex scenarios"
   ]
  },
  {
   "cell_type": "markdown",
   "id": "2a21f50b",
   "metadata": {},
   "source": [
    "Let's try a more complex scenario now: we're going to create a neural network.\n",
    "\n",
    "Let's begin by defining a `Neuron` class. A neuron is characterized by their connections, so our neurons will have 2 lists:\n",
    "* inputs (neurons that will connect to our neuron)\n",
    "* outputs (neurons that our neuron will connect to)\n",
    "\n",
    "We will also create a `connect_to` method that will be used to connect our neuron to another one."
   ]
  },
  {
   "cell_type": "code",
   "execution_count": 1,
   "id": "36b78688",
   "metadata": {},
   "outputs": [],
   "source": [
    "class Neuron:\n",
    "    def __init__(self, name):\n",
    "        self.name = name\n",
    "        self.inputs = []\n",
    "        self.outputs = []\n",
    "\n",
    "    def __str__(self):\n",
    "        return f'{self.name}, {len(self.inputs)} inputs, {len(self.outputs)} outputs'\n",
    "\n",
    "    def connect_to(self, other):\n",
    "        self.outputs.append(other)\n",
    "        other.inputs.append(self)"
   ]
  },
  {
   "cell_type": "markdown",
   "id": "5de8d348",
   "metadata": {},
   "source": [
    "This code will work fine, but maybe we want to work with groups of neurons at a time. We could create some sort of `NeuronLayer` that will contain a list of `Neuron`s:"
   ]
  },
  {
   "cell_type": "code",
   "execution_count": 2,
   "id": "2c77bf45",
   "metadata": {},
   "outputs": [],
   "source": [
    "class NeuronLayer(list):\n",
    "    def __init__(self, name, count):\n",
    "        super().__init__()\n",
    "        self.name = name\n",
    "        for x in range(0, count):\n",
    "            self.append(Neuron(f'{name}-{x}')) # we name each neuron with the name of the layer and its position in the list\n",
    "\n",
    "    def __str__(self):\n",
    "        return f'{self.name} with {len(self)} neurons'"
   ]
  },
  {
   "cell_type": "markdown",
   "id": "8a69d1e5",
   "metadata": {},
   "source": [
    "However, we now have a problem: We can connect neurons to other neurons, but we don't have a way to connect a neuron to a layer, a layer to a neuron or a layer to a layer. We could implement methods for each scenario, but what we want is just a single method that will take care of all of them. How can we write this method?\n",
    "\n",
    "For example, we could move the `Neuron.connect_to` method outside the class and use it as a separate method that could iterate both the neurons in a layer and the neurons in a neuron:"
   ]
  },
  {
   "cell_type": "code",
   "execution_count": 3,
   "id": "5e2f10cc",
   "metadata": {},
   "outputs": [],
   "source": [
    "class Neuron:\n",
    "    def __init__(self, name):\n",
    "        self.name = name\n",
    "        self.inputs = []\n",
    "        self.outputs = []\n",
    "\n",
    "    def __str__(self):\n",
    "        return f'{self.name}, {len(self.inputs)} inputs, {len(self.outputs)} outputs'\n",
    "    \n",
    "    # we move the connect_to method outside the class\n",
    "\n",
    "def connect_to(self, other): # self doesn't refer to an instance; we just keep the names from the original method\n",
    "    if self == other:\n",
    "        return\n",
    "\n",
    "    for s in self:\n",
    "        for o in other:\n",
    "            s.outputs.append(o)\n",
    "            o.inputs.append(s)"
   ]
  },
  {
   "cell_type": "markdown",
   "id": "434a5154",
   "metadata": {},
   "source": [
    "With this method in place, we could now imbue it into both `Neuron` and `NeuronLayer` and use it from those classes. Let's try it out:"
   ]
  },
  {
   "cell_type": "code",
   "execution_count": 4,
   "id": "f0476e06",
   "metadata": {},
   "outputs": [
    {
     "ename": "TypeError",
     "evalue": "'Neuron' object is not iterable",
     "output_type": "error",
     "traceback": [
      "\u001b[31m---------------------------------------------------------------------------\u001b[39m",
      "\u001b[31mTypeError\u001b[39m                                 Traceback (most recent call last)",
      "\u001b[36mCell\u001b[39m\u001b[36m \u001b[39m\u001b[32mIn[4]\u001b[39m\u001b[32m, line 9\u001b[39m\n\u001b[32m      6\u001b[39m layer1 = NeuronLayer(\u001b[33m'\u001b[39m\u001b[33mL1\u001b[39m\u001b[33m'\u001b[39m, \u001b[32m3\u001b[39m)\n\u001b[32m      7\u001b[39m layer2 = NeuronLayer(\u001b[33m'\u001b[39m\u001b[33mL2\u001b[39m\u001b[33m'\u001b[39m, \u001b[32m4\u001b[39m)\n\u001b[32m----> \u001b[39m\u001b[32m9\u001b[39m \u001b[43mneuron1\u001b[49m\u001b[43m.\u001b[49m\u001b[43mconnect_to\u001b[49m\u001b[43m(\u001b[49m\u001b[43mneuron2\u001b[49m\u001b[43m)\u001b[49m\n\u001b[32m     10\u001b[39m neuron1.connect_to(layer1)\n\u001b[32m     11\u001b[39m layer1.connect_to(neuron2)\n",
      "\u001b[36mCell\u001b[39m\u001b[36m \u001b[39m\u001b[32mIn[3]\u001b[39m\u001b[32m, line 16\u001b[39m, in \u001b[36mconnect_to\u001b[39m\u001b[34m(self, other)\u001b[39m\n\u001b[32m     13\u001b[39m \u001b[38;5;28;01mif\u001b[39;00m \u001b[38;5;28mself\u001b[39m == other:\n\u001b[32m     14\u001b[39m     \u001b[38;5;28;01mreturn\u001b[39;00m\n\u001b[32m---> \u001b[39m\u001b[32m16\u001b[39m \u001b[43m\u001b[49m\u001b[38;5;28;43;01mfor\u001b[39;49;00m\u001b[43m \u001b[49m\u001b[43ms\u001b[49m\u001b[43m \u001b[49m\u001b[38;5;129;43;01min\u001b[39;49;00m\u001b[43m \u001b[49m\u001b[38;5;28;43mself\u001b[39;49m\u001b[43m:\u001b[49m\n\u001b[32m     17\u001b[39m \u001b[43m    \u001b[49m\u001b[38;5;28;43;01mfor\u001b[39;49;00m\u001b[43m \u001b[49m\u001b[43mo\u001b[49m\u001b[43m \u001b[49m\u001b[38;5;129;43;01min\u001b[39;49;00m\u001b[43m \u001b[49m\u001b[43mother\u001b[49m\u001b[43m:\u001b[49m\n\u001b[32m     18\u001b[39m \u001b[43m        \u001b[49m\u001b[43ms\u001b[49m\u001b[43m.\u001b[49m\u001b[43moutputs\u001b[49m\u001b[43m.\u001b[49m\u001b[43mappend\u001b[49m\u001b[43m(\u001b[49m\u001b[43mo\u001b[49m\u001b[43m)\u001b[49m\n",
      "\u001b[31mTypeError\u001b[39m: 'Neuron' object is not iterable"
     ]
    }
   ],
   "source": [
    "Neuron.connect_to = connect_to\n",
    "NeuronLayer.connect_to = connect_to\n",
    "\n",
    "neuron1 = Neuron('n1')\n",
    "neuron2 = Neuron('n2')\n",
    "layer1 = NeuronLayer('L1', 3)\n",
    "layer2 = NeuronLayer('L2', 4)\n",
    "\n",
    "neuron1.connect_to(neuron2)\n",
    "neuron1.connect_to(layer1)\n",
    "layer1.connect_to(neuron2)\n",
    "layer1.connect_to(layer2)\n",
    "\n",
    "print(neuron1)\n",
    "print(neuron2)\n",
    "print(layer1)\n",
    "print(layer2)"
   ]
  },
  {
   "cell_type": "markdown",
   "id": "cce0eb5a",
   "metadata": {},
   "source": [
    "Oops, that didn't work. The line `for s in self` inside `connect_to` seems to be causing the error; the reason is that this specific line is trying to iterate through and object which happens to be a scalar rather than iterable (the `Neuron`).\n",
    "\n",
    "But his is very easy to solve: we simply implement `__iter__` for the class and make it yield itself."
   ]
  },
  {
   "cell_type": "code",
   "execution_count": 6,
   "id": "08f58bf9",
   "metadata": {},
   "outputs": [],
   "source": [
    "class Neuron():\n",
    "    def __init__(self, name):\n",
    "        self.name = name\n",
    "        self.inputs = []\n",
    "        self.outputs = []\n",
    "\n",
    "    def __str__(self):\n",
    "        return f'{self.name}, {len(self.inputs)} inputs, {len(self.outputs)} outputs'\n",
    "    \n",
    "    # let's make our neuron iterable\n",
    "    def __iter__(self):\n",
    "        yield self"
   ]
  },
  {
   "cell_type": "markdown",
   "id": "369f0e71",
   "metadata": {},
   "source": [
    "Let's run the same code as before:"
   ]
  },
  {
   "cell_type": "code",
   "execution_count": 7,
   "id": "0f55957e",
   "metadata": {},
   "outputs": [
    {
     "name": "stdout",
     "output_type": "stream",
     "text": [
      "n1, 0 inputs, 4 outputs\n",
      "n2, 4 inputs, 0 outputs\n",
      "L1 with 3 neurons\n",
      "L2 with 4 neurons\n"
     ]
    }
   ],
   "source": [
    "Neuron.connect_to = connect_to\n",
    "NeuronLayer.connect_to = connect_to\n",
    "\n",
    "neuron1 = Neuron('n1')\n",
    "neuron2 = Neuron('n2')\n",
    "layer1 = NeuronLayer('L1', 3)\n",
    "layer2 = NeuronLayer('L2', 4)\n",
    "\n",
    "neuron1.connect_to(neuron2)\n",
    "neuron1.connect_to(layer1)\n",
    "layer1.connect_to(neuron2)\n",
    "layer1.connect_to(layer2)\n",
    "\n",
    "print(neuron1)\n",
    "print(neuron2)\n",
    "print(layer1)\n",
    "print(layer2)"
   ]
  },
  {
   "cell_type": "markdown",
   "id": "5784d5a5",
   "metadata": {},
   "source": [
    "It now works!\n",
    "\n",
    "We could leave the solution as it currently stands, but `connect_to` is now just out there, freestanding, which is kind of ugly.\n",
    "\n",
    "We could create a base class that would contain `connect_to`, and we can make it both iterable and abstract so that both `Neuron` and `NeuronLayer` can inherit from it:"
   ]
  },
  {
   "cell_type": "code",
   "execution_count": 8,
   "id": "65fc1965",
   "metadata": {},
   "outputs": [],
   "source": [
    "from abc import ABC\n",
    "from collections.abc import Iterable\n",
    "\n",
    "class Connectable(Iterable, ABC):\n",
    "    def connect_to(self, other):\n",
    "        if self == other:\n",
    "            return\n",
    "\n",
    "        for s in self:\n",
    "            for o in other:\n",
    "                s.outputs.append(o)\n",
    "                o.inputs.append(s)"
   ]
  },
  {
   "cell_type": "markdown",
   "id": "7b2cb490",
   "metadata": {},
   "source": [
    "Now let's modify both `Neuron` and `NeuronLayer` so that they both inherit from `Connectable`."
   ]
  },
  {
   "cell_type": "code",
   "execution_count": 9,
   "id": "51314678",
   "metadata": {},
   "outputs": [],
   "source": [
    "class Neuron(Connectable):\n",
    "    def __init__(self, name):\n",
    "        self.name = name\n",
    "        self.inputs = []\n",
    "        self.outputs = []\n",
    "\n",
    "    def __str__(self):\n",
    "        return f'{self.name}, {len(self.inputs)} inputs, {len(self.outputs)} outputs'\n",
    "    \n",
    "    # Check note below\n",
    "    def __iter__(self):\n",
    "        yield self\n",
    "\n",
    "class NeuronLayer(list, Connectable):\n",
    "    def __init__(self, name, count):\n",
    "        super().__init__()\n",
    "        self.name = name\n",
    "        for x in range(0, count):\n",
    "            self.append(Neuron(f'{name}-{x}'))\n",
    "\n",
    "    def __str__(self):\n",
    "        return f'{self.name} with {len(self)} neurons'"
   ]
  },
  {
   "cell_type": "markdown",
   "id": "362a39f7",
   "metadata": {},
   "source": [
    "> `Connectable` is an iterable abstract class, and as such, any class that implements it must be iterable. `Neuron` still needs to implement `__iter__`, because otherwise when we run the code, the interpreter will complain about it. `NeuronLayer` inherits from `list` which is already iterable, so there is no need for it.\n",
    "\n",
    "Now both `Neuron` and `NeuronLayer` have inherited `connect_to`. Let's test it:"
   ]
  },
  {
   "cell_type": "code",
   "execution_count": 10,
   "id": "bf1227d6",
   "metadata": {},
   "outputs": [
    {
     "name": "stdout",
     "output_type": "stream",
     "text": [
      "n1, 0 inputs, 4 outputs\n",
      "n2, 4 inputs, 0 outputs\n",
      "L1 with 3 neurons\n",
      "L2 with 4 neurons\n"
     ]
    }
   ],
   "source": [
    "neuron1 = Neuron('n1')\n",
    "neuron2 = Neuron('n2')\n",
    "layer1 = NeuronLayer('L1', 3)\n",
    "layer2 = NeuronLayer('L2', 4)\n",
    "\n",
    "neuron1.connect_to(neuron2)\n",
    "neuron1.connect_to(layer1)\n",
    "layer1.connect_to(neuron2)\n",
    "layer1.connect_to(layer2)\n",
    "\n",
    "print(neuron1)\n",
    "print(neuron2)\n",
    "print(layer1)\n",
    "print(layer2)"
   ]
  },
  {
   "cell_type": "markdown",
   "id": "501f5664",
   "metadata": {},
   "source": [
    "As you can see, we get the same output but we've made the syntax a bit nicer."
   ]
  },
  {
   "cell_type": "markdown",
   "id": "fba5e036",
   "metadata": {},
   "source": [
    "In conclusion: we've implemented the composite pattern by having our `Neuron` class behave as a collection even though it's a simple scalar element, and we've done this by implementing `__iter__` and have it yielding itself whenever somebody asks for the iteration."
   ]
  }
 ],
 "metadata": {
  "kernelspec": {
   "display_name": ".venv",
   "language": "python",
   "name": "python3"
  },
  "language_info": {
   "codemirror_mode": {
    "name": "ipython",
    "version": 3
   },
   "file_extension": ".py",
   "mimetype": "text/x-python",
   "name": "python",
   "nbconvert_exporter": "python",
   "pygments_lexer": "ipython3",
   "version": "3.12.9"
  }
 },
 "nbformat": 4,
 "nbformat_minor": 5
}
