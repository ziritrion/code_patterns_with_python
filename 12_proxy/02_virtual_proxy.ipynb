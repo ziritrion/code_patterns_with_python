{
 "cells": [
  {
   "cell_type": "markdown",
   "id": "358c5d93",
   "metadata": {},
   "source": [
    "# Virtual Proxy\n",
    "\n",
    "> Masquerading as another object that may not even exist"
   ]
  },
  {
   "cell_type": "markdown",
   "id": "ffdedea6",
   "metadata": {},
   "source": [
    "A **virtual proxy** is a proxy that appears to be a fully initialized object, but it's just mimicking the underlying functionality without necessarily having it (yet). So, for all intents and purposes, it appears to be the object it's supposed to represent, but behind the scenes can offer additional functionality and behave differently.\n",
    "\n",
    "For this example we will imagine that we're working on a photo manipulation program. We will define a `Bitmap` class that represents our images:"
   ]
  },
  {
   "cell_type": "code",
   "execution_count": 1,
   "id": "078d16c7",
   "metadata": {},
   "outputs": [],
   "source": [
    "class Bitmap:\n",
    "    def __init__(self, filename):\n",
    "        self.filename = filename\n",
    "        print(f'Loading image from {filename}')\n",
    "\n",
    "    def draw(self):\n",
    "        print(f'Drawing image {self.filename}')"
   ]
  },
  {
   "cell_type": "markdown",
   "id": "2e8ff59c",
   "metadata": {},
   "source": [
    "We will also define an additional function for drawing images:"
   ]
  },
  {
   "cell_type": "code",
   "execution_count": 2,
   "id": "480966b3",
   "metadata": {},
   "outputs": [],
   "source": [
    "def draw_image(image):\n",
    "    print('About to draw image')\n",
    "    image.draw()\n",
    "    print('Done drawing image')"
   ]
  },
  {
   "cell_type": "markdown",
   "id": "309c69e5",
   "metadata": {},
   "source": [
    "And here's how we would use the code:"
   ]
  },
  {
   "cell_type": "code",
   "execution_count": 3,
   "id": "80b89464",
   "metadata": {},
   "outputs": [
    {
     "name": "stdout",
     "output_type": "stream",
     "text": [
      "Loading image from facepalm.jpg\n",
      "About to draw image\n",
      "Drawing image facepalm.jpg\n",
      "Done drawing image\n"
     ]
    }
   ],
   "source": [
    "bmp = Bitmap('facepalm.jpg')\n",
    "draw_image(bmp)"
   ]
  },
  {
   "cell_type": "markdown",
   "id": "2f337b28",
   "metadata": {},
   "source": [
    "This code seems to work fine, but let's imagine for a second that for whatever reason we comment the `draw_image(bmp)` line and do nothing else:"
   ]
  },
  {
   "cell_type": "code",
   "execution_count": 4,
   "id": "c57ef2c0",
   "metadata": {},
   "outputs": [
    {
     "name": "stdout",
     "output_type": "stream",
     "text": [
      "Loading image from facepalm.jpg\n"
     ]
    }
   ],
   "source": [
    "bmp = Bitmap('facepalm.jpg')\n",
    "#draw_image(bmp)"
   ]
  },
  {
   "cell_type": "markdown",
   "id": "0f193572",
   "metadata": {},
   "source": [
    "We're still loading the full image even though we do nothing with it. This is a potentially expensive operation that we may want to avoid if our code isn't actually doing anything useful with the image.\n",
    "\n",
    "So, how can we avoid loading the image if we're not drawing it?\n",
    "1. Go back to the `Bitmap` class and modify it?\n",
    "    * Open-Closed Principle violation!\n",
    "2. Build a **virtual proxy** instead in order to get the API and the behavior we want.\n",
    "    * Our image will only load when we actually draw it. This is called *lazy loading*.\n",
    "\n",
    "Let's build our proxy:"
   ]
  },
  {
   "cell_type": "code",
   "execution_count": 7,
   "id": "e71237c6",
   "metadata": {},
   "outputs": [],
   "source": [
    "class LazyBitmap:\n",
    "    def __init__(self, filename):\n",
    "        self.filename = filename\n",
    "        self._bitmap = None # Private underlying class placeholder\n",
    "\n",
    "    def draw(self):\n",
    "        if not self._bitmap:\n",
    "            self._bitmap = Bitmap(self.filename) # we load only when we draw!\n",
    "        self._bitmap.draw()"
   ]
  },
  {
   "cell_type": "markdown",
   "id": "aded3148",
   "metadata": {},
   "source": [
    "With our virtual proxy in place, we can now lazily load images and actually load them only when we draw! Let's see it in action:"
   ]
  },
  {
   "cell_type": "code",
   "execution_count": 8,
   "id": "72da0f0e",
   "metadata": {},
   "outputs": [
    {
     "name": "stdout",
     "output_type": "stream",
     "text": [
      "About to draw image\n",
      "Loading image from facepalm.jpg\n",
      "Drawing image facepalm.jpg\n",
      "Done drawing image\n",
      "About to draw image\n",
      "Drawing image facepalm.jpg\n",
      "Done drawing image\n"
     ]
    }
   ],
   "source": [
    "bmp = LazyBitmap('facepalm.jpg')  # Bitmap\n",
    "draw_image(bmp)\n",
    "draw_image(bmp)"
   ]
  },
  {
   "cell_type": "markdown",
   "id": "bbb6f759",
   "metadata": {},
   "source": [
    "Note that even though we draw the image twice, we only load it once! The virtual proxy only loads the image on first invocation, and subsequently, whenever somebody wants to draw it, it no longer performs the initialization."
   ]
  }
 ],
 "metadata": {
  "kernelspec": {
   "display_name": ".venv",
   "language": "python",
   "name": "python3"
  },
  "language_info": {
   "codemirror_mode": {
    "name": "ipython",
    "version": 3
   },
   "file_extension": ".py",
   "mimetype": "text/x-python",
   "name": "python",
   "nbconvert_exporter": "python",
   "pygments_lexer": "ipython3",
   "version": "3.12.6"
  }
 },
 "nbformat": 4,
 "nbformat_minor": 5
}
