{
 "cells": [
  {
   "cell_type": "markdown",
   "id": "9c89ce31",
   "metadata": {},
   "source": [
    "# Protection Proxy\n",
    "\n",
    "> A proxy class that controls access to a particular resource"
   ]
  },
  {
   "cell_type": "markdown",
   "id": "4fba9b54",
   "metadata": {},
   "source": [
    "Let's define a couple of classes, one for a `Car` and another for a `Driver`. Cars are driven by drivers."
   ]
  },
  {
   "cell_type": "code",
   "execution_count": 1,
   "id": "bb2e89c6",
   "metadata": {},
   "outputs": [],
   "source": [
    "class Driver:\n",
    "    def __init__(self, name, age):\n",
    "        self.name = name\n",
    "        self.age = age\n",
    "        \n",
    "class Car:\n",
    "    def __init__(self, driver):\n",
    "        self.driver = driver\n",
    "\n",
    "    def drive(self):\n",
    "        print(f'Car being driven by {self.driver.name}')"
   ]
  },
  {
   "cell_type": "markdown",
   "id": "3c85eac1",
   "metadata": {},
   "source": [
    "Let's test this code:"
   ]
  },
  {
   "cell_type": "code",
   "execution_count": 3,
   "id": "87550f38",
   "metadata": {},
   "outputs": [
    {
     "name": "stdout",
     "output_type": "stream",
     "text": [
      "Car being driven by John\n"
     ]
    }
   ],
   "source": [
    "driver = Driver('John', 20)\n",
    "car = Car(driver)\n",
    "car.drive()"
   ]
  },
  {
   "cell_type": "markdown",
   "id": "a3f66bea",
   "metadata": {},
   "source": [
    "Cool. Now let's add age control. We don't want people who are too young to drive cars, after all.\n",
    "\n",
    "One option could be modifying the `drive()` method to check for the age, but that violates the Open-Closed Principle (we are not supposed to modify things which are already working). In some scenarios that could be necessary, but let's assume that our classes are already tested and working and we're commited to them.\n",
    "\n",
    "We will instead build a **proxy**, which will change the semantics of the `drive()` method while having the same interface as before:\n",
    "1. We create a `CarProxy` class with the same interface as `Car`.\n",
    "2. In the initializer, besides adding a `Driver` just like `Car`, we will also construct the underlying `Car` that we will keep behind the scenes (it will be private).\n",
    "3. We will then define the `drive()` method once again, but we will check the age before calling the actual `drive()` method from `Car`."
   ]
  },
  {
   "cell_type": "code",
   "execution_count": 12,
   "id": "35e9d3d1",
   "metadata": {},
   "outputs": [],
   "source": [
    "class CarProxy:\n",
    "    def __init__(self, driver):\n",
    "        self.driver = driver\n",
    "        self._car = Car(driver)\n",
    "\n",
    "    def drive(self):\n",
    "        if self.driver.age >= 16:\n",
    "            self._car.drive()\n",
    "        else:\n",
    "            print(f'{self.driver.name} is too young to drive a car')"
   ]
  },
  {
   "cell_type": "markdown",
   "id": "9d35ee12",
   "metadata": {},
   "source": [
    "Our proxy is ready. We now simply use `CarProxy` instead of `Car`:"
   ]
  },
  {
   "cell_type": "code",
   "execution_count": 13,
   "id": "6aadce47",
   "metadata": {},
   "outputs": [
    {
     "name": "stdout",
     "output_type": "stream",
     "text": [
      "Car being driven by John\n",
      "Jane is too young to drive a car\n"
     ]
    }
   ],
   "source": [
    "driver = Driver('John', 20)\n",
    "car = CarProxy(driver)\n",
    "car.drive()\n",
    "\n",
    "car2 = CarProxy(Driver('Jane', 12))\n",
    "car2.drive()"
   ]
  }
 ],
 "metadata": {
  "kernelspec": {
   "display_name": ".venv",
   "language": "python",
   "name": "python3"
  },
  "language_info": {
   "codemirror_mode": {
    "name": "ipython",
    "version": 3
   },
   "file_extension": ".py",
   "mimetype": "text/x-python",
   "name": "python",
   "nbconvert_exporter": "python",
   "pygments_lexer": "ipython3",
   "version": "3.12.6"
  }
 },
 "nbformat": 4,
 "nbformat_minor": 5
}
