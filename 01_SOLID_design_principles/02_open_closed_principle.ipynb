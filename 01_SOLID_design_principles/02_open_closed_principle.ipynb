{
 "cells": [
  {
   "cell_type": "markdown",
   "metadata": {},
   "source": [
    "# Open-Closed Principle\n",
    "\n",
    "> When you add a functionality, you should add it by extension rather than by modification > open for extension, closed for modification."
   ]
  },
  {
   "cell_type": "markdown",
   "metadata": {},
   "source": [
    "Let's define a Product class and some attributes that a product may have, such as Color and Size."
   ]
  },
  {
   "cell_type": "code",
   "execution_count": 2,
   "metadata": {},
   "outputs": [],
   "source": [
    "from enum import Enum\n",
    "\n",
    "class Color(Enum):\n",
    "    RED = 1\n",
    "    GREEN = 2\n",
    "    BLUE = 3\n",
    "\n",
    "class Size(Enum):\n",
    "    SMALL = 1\n",
    "    MEDIUM = 2\n",
    "    LARGE = 3\n",
    "\n",
    "class Product:\n",
    "    def __init__(self, name, color, size):\n",
    "        self.name = name\n",
    "        self.color = color\n",
    "        self.size = size"
   ]
  },
  {
   "cell_type": "markdown",
   "metadata": {},
   "source": [
    "Now we want to be able to filter by product attributes."
   ]
  },
  {
   "cell_type": "code",
   "execution_count": 3,
   "metadata": {},
   "outputs": [],
   "source": [
    "class ProductFilter:\n",
    "    def filter_by_color(self, products, color):\n",
    "        for p in products:\n",
    "            if p.color == color: yield p\n",
    "\n",
    "    def filter_by_size(self, products, size):\n",
    "        for p in products:\n",
    "            if p.size == size: yield p\n",
    "\n",
    "    def filter_by_size_and_color(self, products, size, color):\n",
    "        for p in products:\n",
    "            if p.color == color and p.size == size:\n",
    "                yield p\n",
    "\n",
    "    # we could keep adding boolean ops and additional conditions..."
   ]
  },
  {
   "cell_type": "markdown",
   "metadata": {},
   "source": [
    "This doesn't scale at all! If we had 3 or more features, the amount of methods would explode!\n",
    "\n",
    "> This is called the State Space Explosion.\n",
    "\n",
    "You would also be violating OCP each time you added a new feature to your products because you'd have to add new filters to this class.\n",
    "\n",
    "We will now use the [Specification design pattern](https://en.wikipedia.org/wiki/Specification_pattern) to make our solution scalable and keep the Open-Closed Principle. \n",
    "\n",
    "We will create a Specification base class that contains a single `is_satisfied() -> Bool` method that will return `True` if a condition is met, and we'll create separate `FeatureSpecifications` classes for each feature that will implement that method."
   ]
  },
  {
   "cell_type": "code",
   "execution_count": 4,
   "metadata": {},
   "outputs": [],
   "source": [
    "class Specification:\n",
    "    \"\"\"Base class\"\"\"\n",
    "    def is_satisfied(self, item):\n",
    "        \"\"\"All classes that inherit from Specification must implement this method\"\"\"\n",
    "        raise NotImplementedError()\n",
    "\n",
    "    def __and__(self, other):\n",
    "        \"\"\"\n",
    "        Overloads the ampersand (&) operator, allowing us to use AND operations with different Specification objects.\n",
    "        We overload the & operator because we cannot overload the \"and\" keyword.\n",
    "        Check below for the AndSpecification code\n",
    "        \"\"\"\n",
    "        return AndSpecification(self, other)"
   ]
  },
  {
   "cell_type": "markdown",
   "metadata": {},
   "source": [
    "We will now create a Filter class. Its method will simply pass, because the idea is that you extend by inheriting from other classes and add functionality there.\n",
    "\n",
    "This is how you avoid modifying already existing classes!"
   ]
  },
  {
   "cell_type": "code",
   "execution_count": 5,
   "metadata": {},
   "outputs": [],
   "source": [
    "class Filter:\n",
    "    \"\"\"Seems redundant; see explanation below\"\"\"\n",
    "    def filter(self, items, spec):\n",
    "        pass\n",
    "\n",
    "class BetterFilter(Filter):\n",
    "    def filter(self, items, spec):\n",
    "        for item in items:\n",
    "            if spec.is_satisfied(item):\n",
    "                yield item"
   ]
  },
  {
   "cell_type": "markdown",
   "metadata": {},
   "source": [
    "In the example above, even though the base class `Filter` doesn't seem to do anything and is unnecesary for `BetterFilter`, we're preserving OCP because `BetterFilter` is making assumptions about the implementation, such as assumning that `items` is an iterable object. There could be some instances where this is not the case; you could then create a separate class that inherits from `Filter` and implements the proper business logic for that particular use case.\n",
    "\n",
    "Now, let's create our feature specifications."
   ]
  },
  {
   "cell_type": "code",
   "execution_count": 6,
   "metadata": {},
   "outputs": [],
   "source": [
    "class ColorSpecification(Specification):\n",
    "    def __init__(self, color):\n",
    "        self.color = color\n",
    "\n",
    "    def is_satisfied(self, item):\n",
    "        return item.color == self.color\n",
    "\n",
    "class SizeSpecification(Specification):\n",
    "    def __init__(self, size):\n",
    "        self.size = size\n",
    "\n",
    "    def is_satisfied(self, item):\n",
    "        return item.size == self.size\n",
    "\n",
    "class AndSpecification(Specification):\n",
    "    \"\"\"Combinator class\"\"\"\n",
    "    def __init__(self, *args):\n",
    "        self.args = args\n",
    "\n",
    "    def is_satisfied(self, item):\n",
    "        \"\"\"Explanation below\"\"\"\n",
    "        return all(map(\n",
    "            lambda spec: spec.is_satisfied(item), self.args))"
   ]
  },
  {
   "cell_type": "markdown",
   "metadata": {},
   "source": [
    "Note that `AndSpecification` is a *Combinator class*; a Combinator is a structure that combines other structures.\n",
    "\n",
    "For this example, where we only combine a maximum of 2 classes, we could implement the Combinator in a more straight-forward manner, but the way it's implemented here makes it more generic and able to handle any number of classes:\n",
    "* The `__init__` method can get any number of arguments, which are then stored as a list in `self.args`.\n",
    "* The `is_satisfied` method will go through all the stored args and make sure that they're all satisfied.\n",
    "    * `map()` goes through every single element of `self.args` and applies a lambda function to each element.\n",
    "    * The lambda function takes a specification (a single argument from `self.args`) and checks that it's satisfied for the `item` we're passing as a parameter.\n",
    "    * `all()` checks that every single element in the map (the returns of all the lambdas) is `True`.\n",
    "\n",
    "Now let's create our sample products and product list:"
   ]
  },
  {
   "cell_type": "code",
   "execution_count": 7,
   "metadata": {},
   "outputs": [],
   "source": [
    "apple = Product('Apple', Color.GREEN, Size.SMALL)\n",
    "tree = Product('Tree', Color.GREEN, Size.LARGE)\n",
    "house = Product('House', Color.BLUE, Size.LARGE)\n",
    "\n",
    "products = [apple, tree, house]"
   ]
  },
  {
   "cell_type": "markdown",
   "metadata": {},
   "source": [
    "This is how we would filter using the old/bad filter:"
   ]
  },
  {
   "cell_type": "code",
   "execution_count": 8,
   "metadata": {},
   "outputs": [
    {
     "name": "stdout",
     "output_type": "stream",
     "text": [
      "Green products (old):\n",
      " - Apple is green\n",
      " - Tree is green\n"
     ]
    }
   ],
   "source": [
    "pf = ProductFilter()\n",
    "\n",
    "print('Green products (old):')\n",
    "for p in pf.filter_by_color(products, Color.GREEN):\n",
    "    print(f' - {p.name} is green')"
   ]
  },
  {
   "cell_type": "markdown",
   "metadata": {},
   "source": [
    "Let's filter now using our new and improved filter that respects OCP. We will instantiate our specifications as needed and use `BetterFilter.filter()` for filtering all the features, without requiring separate filter methods for each feature. Also, we can use our overloaded `&` operator to instantiate an `AndSpecification` object by combining 2 specifications."
   ]
  },
  {
   "cell_type": "code",
   "execution_count": 9,
   "metadata": {},
   "outputs": [
    {
     "name": "stdout",
     "output_type": "stream",
     "text": [
      "Green products (new):\n",
      " - Apple is green\n",
      " - Tree is green\n",
      "Large products:\n",
      " - Tree is large\n",
      " - House is large\n",
      "Large blue items:\n",
      " - House is large and blue\n"
     ]
    }
   ],
   "source": [
    "bf = BetterFilter()\n",
    "\n",
    "print('Green products (new):')\n",
    "green = ColorSpecification(Color.GREEN) # ColorSpecification for Green\n",
    "for p in bf.filter(products, green):\n",
    "    print(f' - {p.name} is green')\n",
    "\n",
    "print('Large products:')\n",
    "large = SizeSpecification(Size.LARGE) # SizeSpecification for Large\n",
    "for p in bf.filter(products, large):\n",
    "    print(f' - {p.name} is large')\n",
    "\n",
    "print('Large blue items:')\n",
    "# We instantiate an AndSpecification of Large and Blue using our & overloading\n",
    "large_blue = large & ColorSpecification(Color.BLUE)\n",
    "for p in bf.filter(products, large_blue):\n",
    "    print(f' - {p.name} is large and blue')"
   ]
  }
 ],
 "metadata": {
  "kernelspec": {
   "display_name": ".venv",
   "language": "python",
   "name": "python3"
  },
  "language_info": {
   "codemirror_mode": {
    "name": "ipython",
    "version": 3
   },
   "file_extension": ".py",
   "mimetype": "text/x-python",
   "name": "python",
   "nbconvert_exporter": "python",
   "pygments_lexer": "ipython3",
   "version": "3.12.6"
  }
 },
 "nbformat": 4,
 "nbformat_minor": 2
}
