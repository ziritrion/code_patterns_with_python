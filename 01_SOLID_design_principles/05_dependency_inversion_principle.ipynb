{
 "cells": [
  {
   "cell_type": "markdown",
   "metadata": {},
   "source": [
    "# Dependency Inversion Principle (DIP)\n",
    "\n",
    "> High-level modules should not import anything from low-level modules; both should depend on abstractions\n",
    "\n",
    "> Abstractions should not depend on details. Details (concrete implementations) should depend on abstractions.\n",
    "\n",
    "(Do not confuse with dependency injection!)"
   ]
  },
  {
   "cell_type": "markdown",
   "metadata": {},
   "source": [
    "Essentially, you want to depend on interfaces rather than concrete implementations, because that way you can swap one for the other.\n",
    "\n",
    "For this example, we'll simulate genealogy research. Let's begin by creating the `Relationship` enum and `Person` class."
   ]
  },
  {
   "cell_type": "code",
   "execution_count": 1,
   "metadata": {},
   "outputs": [],
   "source": [
    "from enum import Enum\n",
    "\n",
    "class Relationship(Enum):\n",
    "    PARENT = 0\n",
    "    CHILD = 1\n",
    "    SIBLING = 2\n",
    "\n",
    "class Person:\n",
    "    def __init__(self, name):\n",
    "        self.name = name"
   ]
  },
  {
   "cell_type": "markdown",
   "metadata": {},
   "source": [
    "Let's also create a `Relationships` class that will store the relation between 2 people:"
   ]
  },
  {
   "cell_type": "code",
   "execution_count": 2,
   "metadata": {},
   "outputs": [],
   "source": [
    "class Relationships():\n",
    "    def __init__(self):\n",
    "        self.relations = [] # we store relationships as a list, keep it in mind\n",
    "\n",
    "    def add_parent_and_child(self, parent, child):\n",
    "        self.relations.append((parent, Relationship.PARENT, child))\n",
    "        self.relations.append((child, Relationship.CHILD, parent))"
   ]
  },
  {
   "cell_type": "markdown",
   "metadata": {},
   "source": [
    "This is a *low-level module* because it's on the \"first layer\" and deals with our base data.\n",
    "\n",
    "Let's now create a *higher-level* `Research` module that builds on top on `Relationships` and thus depends on it."
   ]
  },
  {
   "cell_type": "code",
   "execution_count": 3,
   "metadata": {},
   "outputs": [],
   "source": [
    "class Research:\n",
    "    def __init__(self, relationships):\n",
    "        relations = relationships.relations # we're copying the Relationships list to Research\n",
    "        for r in relations:\n",
    "            if r[0].name == 'John' and r[1] == Relationship.PARENT:\n",
    "                print(f'John has a child called {r[2].name}.')"
   ]
  },
  {
   "cell_type": "markdown",
   "metadata": {},
   "source": [
    "Let's test our code:"
   ]
  },
  {
   "cell_type": "code",
   "execution_count": 4,
   "metadata": {},
   "outputs": [
    {
     "name": "stdout",
     "output_type": "stream",
     "text": [
      "John has a child called Chris.\n",
      "John has a child called Matt.\n"
     ]
    },
    {
     "data": {
      "text/plain": [
       "<__main__.Research at 0x7f88127f6fc0>"
      ]
     },
     "execution_count": 4,
     "metadata": {},
     "output_type": "execute_result"
    }
   ],
   "source": [
    "parent = Person('John')\n",
    "child1 = Person('Chris')\n",
    "child2 = Person('Matt')\n",
    "\n",
    "relationships = Relationships()\n",
    "relationships.add_parent_and_child(parent, child1)\n",
    "relationships.add_parent_and_child(parent, child2)\n",
    "\n",
    "Research(relationships)"
   ]
  },
  {
   "cell_type": "markdown",
   "metadata": {},
   "source": [
    "The code seems to work fine, but there's a big issue: we depend on how `Relationships` stores the relations, which is currently a list.\n",
    "\n",
    "It's possible that in the future we may need to change from a list to a more complex data structure for more sophisticated use cases. However, by doing so, we would break `Research`. Our current code is breaking DIP, because we're accessing the internal storage mechanism of a low-level module in our high-level module.\n",
    "\n",
    "We can restore DIP by defining an interface for the low-level module. `Research` would then depend on this interface (abstraction) rather than the implementation itself.\n",
    "\n",
    "We will now create this interface:"
   ]
  },
  {
   "cell_type": "code",
   "execution_count": 5,
   "metadata": {},
   "outputs": [],
   "source": [
    "from abc import ABC, abstractmethod\n",
    "\n",
    "class RelationshipBrowser(ABC):\n",
    "    @abstractmethod\n",
    "    def find_all_children_of(self, name): pass"
   ]
  },
  {
   "cell_type": "markdown",
   "metadata": {},
   "source": [
    "The interface provides a method to search relationships, which was previously implemented in `Research`. We have moved that functionality to a lower level, which means that `Research` no longer depends on how the relationships are implemented and we can update `Relationships` with a different implementation for storage without worrying about breaking higher-level modules.\n",
    "\n",
    "Let's update the `Relationships` class with an implementation of the interface:"
   ]
  },
  {
   "cell_type": "code",
   "execution_count": 6,
   "metadata": {},
   "outputs": [],
   "source": [
    "class Relationships(RelationshipBrowser):\n",
    "    relations = []\n",
    "\n",
    "    def add_parent_and_child(self, parent, child):\n",
    "        self.relations.append((parent, Relationship.PARENT, child))\n",
    "        self.relations.append((child, Relationship.PARENT, parent))\n",
    "            \n",
    "    def find_all_children_of(self, name):\n",
    "        \"\"\"\n",
    "        'yield' works like 'return' but does not stop execution of the current code block.\n",
    "        It's very useful for methods that return lists without having to construct the list itself within the method and then returning the complete list, because we can return each list element as we obtain it.\n",
    "        This method will return a list with all the children of the 'name' parent.\n",
    "        \"\"\"\n",
    "        for r in self.relations:\n",
    "            if r[0].name == name and r[1] == Relationship.PARENT:\n",
    "                yield r[2].name"
   ]
  },
  {
   "cell_type": "markdown",
   "metadata": {},
   "source": [
    "And we can now update `Research` to call the interface instead of the implementation:"
   ]
  },
  {
   "cell_type": "code",
   "execution_count": 7,
   "metadata": {},
   "outputs": [],
   "source": [
    "class Research:\n",
    "    def __init__(self, browser):\n",
    "        for p in browser.find_all_children_of(\"John\"):\n",
    "            print(f'John has a child called {p}')"
   ]
  },
  {
   "cell_type": "markdown",
   "metadata": {},
   "source": [
    "Note that the `browser` argument is for a `Relationships` instance, because `Relationships` inherits from `RelationshipBrowser`, which is an abstract class and thus cannot be instantiated.\n",
    "\n",
    "We can test our new solution by running the exact same code as before:"
   ]
  },
  {
   "cell_type": "code",
   "execution_count": 8,
   "metadata": {},
   "outputs": [
    {
     "name": "stdout",
     "output_type": "stream",
     "text": [
      "John has a child called Chris\n",
      "John has a child called Matt\n"
     ]
    },
    {
     "data": {
      "text/plain": [
       "<__main__.Research at 0x7f88127f7170>"
      ]
     },
     "execution_count": 8,
     "metadata": {},
     "output_type": "execute_result"
    }
   ],
   "source": [
    "parent = Person('John')\n",
    "child1 = Person('Chris')\n",
    "child2 = Person('Matt')\n",
    "\n",
    "relationships = Relationships()\n",
    "relationships.add_parent_and_child(parent, child1)\n",
    "relationships.add_parent_and_child(parent, child2)\n",
    "\n",
    "Research(relationships)"
   ]
  }
 ],
 "metadata": {
  "kernelspec": {
   "display_name": ".venv",
   "language": "python",
   "name": "python3"
  },
  "language_info": {
   "codemirror_mode": {
    "name": "ipython",
    "version": 3
   },
   "file_extension": ".py",
   "mimetype": "text/x-python",
   "name": "python",
   "nbconvert_exporter": "python",
   "pygments_lexer": "ipython3",
   "version": "3.12.6"
  }
 },
 "nbformat": 4,
 "nbformat_minor": 2
}
