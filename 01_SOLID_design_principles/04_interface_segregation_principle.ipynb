{
 "cells": [
  {
   "cell_type": "markdown",
   "metadata": {},
   "source": [
    "# Interface Segregation Principle\n",
    "\n",
    "> You don't want to stick too many elements into an interface."
   ]
  },
  {
   "cell_type": "markdown",
   "metadata": {},
   "source": [
    "Let's create a `Machine` base class that defines a bunch of methods that we can use for multiple devices, such as printers, faxes, scanners, etc."
   ]
  },
  {
   "cell_type": "code",
   "execution_count": 1,
   "metadata": {},
   "outputs": [],
   "source": [
    "class Machine:\n",
    "    def print(self, document):\n",
    "        raise NotImplementedError()\n",
    "\n",
    "    def fax(self, document):\n",
    "        raise NotImplementedError()\n",
    "\n",
    "    def scan(self, document):\n",
    "        raise NotImplementedError()"
   ]
  },
  {
   "cell_type": "markdown",
   "metadata": {},
   "source": [
    "Let's now implement a `MultiFunctionalPrinter` class that implements all of these methods."
   ]
  },
  {
   "cell_type": "code",
   "execution_count": 2,
   "metadata": {},
   "outputs": [],
   "source": [
    "class MultiFunctionPrinter(Machine):\n",
    "    \"\"\"This subclass has no problems inheriting from Machine\"\"\"\n",
    "    def print(self, document):\n",
    "        pass\n",
    "\n",
    "    def fax(self, document):\n",
    "        pass\n",
    "\n",
    "    def scan(self, document):\n",
    "        pass"
   ]
  },
  {
   "cell_type": "markdown",
   "metadata": {},
   "source": [
    "So far so good, but let's try implementing an `OldFashionedPrinter` class now.\n",
    "\n",
    "A regular printer cannot fax nor scan, so what should we do with those two methods?"
   ]
  },
  {
   "cell_type": "code",
   "execution_count": 3,
   "metadata": {},
   "outputs": [],
   "source": [
    "class OldFashionedPrinter(Machine):\n",
    "    def print(self, document):\n",
    "        # imagine some code goes here instead of pass\n",
    "        pass\n",
    "\n",
    "    def fax(self, document):\n",
    "        \"\"\" Option 1: do nothing \"\"\"\n",
    "        pass  # do-nothing\n",
    "\n",
    "    def scan(self, document):\n",
    "        \"\"\" Option 2: raise an error \"\"\"\n",
    "        raise NotImplementedError('Printer cannot scan!')"
   ]
  },
  {
   "cell_type": "markdown",
   "metadata": {},
   "source": [
    "Both of these options are bad, because these methods will be available in the class API even though they are useless, and why would you make these methods available to someone else anyway if you're only going to confuse them or worse, induce them to error?\n",
    "\n",
    "So what can we do? We split our original interface into smaller ones!"
   ]
  },
  {
   "cell_type": "code",
   "execution_count": 4,
   "metadata": {},
   "outputs": [],
   "source": [
    "from abc import ABC, abstractmethod\n",
    "\n",
    "class Printer(ABC):\n",
    "    \"\"\"Class for machines that print\"\"\"\n",
    "    @abstractmethod\n",
    "    def print(self, document): pass\n",
    "\n",
    "class Scanner(ABC):\n",
    "    \"\"\"Class for machines that scan\"\"\"\n",
    "    @abstractmethod\n",
    "    def scan(self, document): pass\n",
    "\n",
    "# same for Fax, etc."
   ]
  },
  {
   "cell_type": "markdown",
   "metadata": {},
   "source": [
    "The classes above are defined as *Abstract Base Classes* (ABCs). An ABC is a \"blueprint\" for other classes; an ABC cannot be instantiated by itself and needs to be implemented in other classes.\n",
    "\n",
    "The `@abstractmethod` decorator is used to create abstract methods, which are definitions without implementation that must be implemented by subclasses.\n",
    "\n",
    "Now that we have our smaller interfaces, we can inherit from them as needed, even from multiple of them at the same time."
   ]
  },
  {
   "cell_type": "code",
   "execution_count": 5,
   "metadata": {},
   "outputs": [],
   "source": [
    "# Inherit from a single base class\n",
    "class MyPrinter(Printer):\n",
    "    def print(self, document):\n",
    "        print(document)\n",
    "\n",
    "# Inherit from multiple base classes\n",
    "class Photocopier(Printer, Scanner):\n",
    "    def print(self, document):\n",
    "        print(document)\n",
    "\n",
    "    def scan(self, document):\n",
    "        # something meaningful code should go here\n",
    "        pass"
   ]
  },
  {
   "cell_type": "markdown",
   "metadata": {},
   "source": [
    "There are instances where you may need a bigger interface for many functionalities. In that case, you can create another base class that inherits from multiple base classes."
   ]
  },
  {
   "cell_type": "code",
   "execution_count": 6,
   "metadata": {},
   "outputs": [],
   "source": [
    "class MultiFunctionDevice(Printer, Scanner):  # , Fax, etc\n",
    "    @abstractmethod\n",
    "    def print(self, document):\n",
    "        pass\n",
    "\n",
    "    @abstractmethod\n",
    "    def scan(self, document):\n",
    "        pass"
   ]
  },
  {
   "cell_type": "markdown",
   "metadata": {},
   "source": [
    "And here we implement our new compound base class:"
   ]
  },
  {
   "cell_type": "code",
   "execution_count": 7,
   "metadata": {},
   "outputs": [],
   "source": [
    "class MultiFunctionMachine(MultiFunctionDevice):\n",
    "    def __init__(self, printer, scanner):\n",
    "        \"\"\"This is a decorator pattern; we'll see it in other lessons\"\"\"\n",
    "        self.printer = printer\n",
    "        self.scanner = scanner\n",
    "\n",
    "    def print(self, document):\n",
    "        self.printer.print(document)\n",
    "\n",
    "    def scan(self, document):\n",
    "        self.scanner.scan(document)"
   ]
  },
  {
   "cell_type": "markdown",
   "metadata": {},
   "source": [
    "Let's now see what would happen with our original interface if we try to run it:"
   ]
  },
  {
   "cell_type": "code",
   "execution_count": 8,
   "metadata": {},
   "outputs": [
    {
     "ename": "NotImplementedError",
     "evalue": "Printer cannot scan!",
     "output_type": "error",
     "traceback": [
      "\u001b[31m---------------------------------------------------------------------------\u001b[39m",
      "\u001b[31mNotImplementedError\u001b[39m                       Traceback (most recent call last)",
      "\u001b[36mCell\u001b[39m\u001b[36m \u001b[39m\u001b[32mIn[8]\u001b[39m\u001b[32m, line 3\u001b[39m\n\u001b[32m      1\u001b[39m printer = OldFashionedPrinter()\n\u001b[32m      2\u001b[39m printer.fax(\u001b[32m123\u001b[39m)  \u001b[38;5;66;03m# nothing happens\u001b[39;00m\n\u001b[32m----> \u001b[39m\u001b[32m3\u001b[39m \u001b[43mprinter\u001b[49m\u001b[43m.\u001b[49m\u001b[43mscan\u001b[49m\u001b[43m(\u001b[49m\u001b[32;43m123\u001b[39;49m\u001b[43m)\u001b[49m  \u001b[38;5;66;03m# oops!\u001b[39;00m\n",
      "\u001b[36mCell\u001b[39m\u001b[36m \u001b[39m\u001b[32mIn[3]\u001b[39m\u001b[32m, line 12\u001b[39m, in \u001b[36mOldFashionedPrinter.scan\u001b[39m\u001b[34m(self, document)\u001b[39m\n\u001b[32m     10\u001b[39m \u001b[38;5;28;01mdef\u001b[39;00m\u001b[38;5;250m \u001b[39m\u001b[34mscan\u001b[39m(\u001b[38;5;28mself\u001b[39m, document):\n\u001b[32m     11\u001b[39m \u001b[38;5;250m    \u001b[39m\u001b[33;03m\"\"\" Option 2: raise an error \"\"\"\u001b[39;00m\n\u001b[32m---> \u001b[39m\u001b[32m12\u001b[39m     \u001b[38;5;28;01mraise\u001b[39;00m \u001b[38;5;167;01mNotImplementedError\u001b[39;00m(\u001b[33m'\u001b[39m\u001b[33mPrinter cannot scan!\u001b[39m\u001b[33m'\u001b[39m)\n",
      "\u001b[31mNotImplementedError\u001b[39m: Printer cannot scan!"
     ]
    }
   ],
   "source": [
    "printer = OldFashionedPrinter()\n",
    "printer.fax(123)  # nothing happens\n",
    "printer.scan(123)  # oops!"
   ]
  }
 ],
 "metadata": {
  "kernelspec": {
   "display_name": ".venv",
   "language": "python",
   "name": "python3"
  },
  "language_info": {
   "codemirror_mode": {
    "name": "ipython",
    "version": 3
   },
   "file_extension": ".py",
   "mimetype": "text/x-python",
   "name": "python",
   "nbconvert_exporter": "python",
   "pygments_lexer": "ipython3",
   "version": "3.12.6"
  }
 },
 "nbformat": 4,
 "nbformat_minor": 2
}
