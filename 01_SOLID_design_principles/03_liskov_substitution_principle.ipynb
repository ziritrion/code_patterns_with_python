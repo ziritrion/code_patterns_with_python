{
 "cells": [
  {
   "cell_type": "markdown",
   "metadata": {},
   "source": [
    "# Liskov Substitution Principle\n",
    "\n",
    "> An object (such as a class) should be able to be replaced by a sub-object (such as a class that extends the first class) without breaking the program."
   ]
  },
  {
   "cell_type": "markdown",
   "metadata": {},
   "source": [
    "(This code may seem a little convoluted and does not have any \"fix\" to the LSP violation.)\n",
    "\n",
    "For demonstration purposes, let's create a `Rectangle` class with private properties, setters and getters.\n",
    "\n",
    "In Python, a property is a special kind of attribute that has `__get__`, `__set__` and/or `__delete__` methods."
   ]
  },
  {
   "cell_type": "code",
   "execution_count": 1,
   "metadata": {},
   "outputs": [],
   "source": [
    "class Rectangle:\n",
    "    def __init__(self, width, height):\n",
    "        self._height = height # private property\n",
    "        self._width = width # private property\n",
    "\n",
    "    @property # The property decorator is used for getter methods\n",
    "    def width(self):\n",
    "        return self._width\n",
    "\n",
    "    @width.setter # setter decorator for the width property \n",
    "    def width(self, value): # note that the method has the same name as the getter but different amount of params\n",
    "        self._width = value\n",
    "\n",
    "    @property\n",
    "    def height(self):\n",
    "        return self._height\n",
    "\n",
    "    @height.setter\n",
    "    def height(self, value):\n",
    "        self._height = value\n",
    "\n",
    "    @property\n",
    "    def area(self):\n",
    "        return self._width * self._height\n",
    "\n",
    "    def __str__(self): # string representation of a rectangle\n",
    "        return f'Width: {self.width}, height: {self.height}'"
   ]
  },
  {
   "cell_type": "markdown",
   "metadata": {},
   "source": [
    "Let's now consider a square, which is a special case of rectangle in which the height and width are equal.\n",
    "\n",
    "We can try to represent this case with a subclass of `Rectangle` that tries to enforce this condition."
   ]
  },
  {
   "cell_type": "code",
   "execution_count": 2,
   "metadata": {},
   "outputs": [],
   "source": [
    "class Square(Rectangle):\n",
    "    def __init__(self, size):\n",
    "        Rectangle.__init__(self, size, size)\n",
    "\n",
    "    # The following 2 methods break LSP, because when we update a property, we also update the other.\n",
    "    @Rectangle.width.setter\n",
    "    def width(self, value):\n",
    "        _width = _height = value\n",
    "\n",
    "    @Rectangle.height.setter\n",
    "    def height(self, value):\n",
    "        _width = _height = value"
   ]
  },
  {
   "cell_type": "markdown",
   "metadata": {},
   "source": [
    "As noted in the code, the setters we have defined make sure that both width and height are modified, but this has unintended side effects that the base `Rectangle` class does not have, which violates LSP.\n",
    "\n",
    "We will now write some code to showcase this issue."
   ]
  },
  {
   "cell_type": "code",
   "execution_count": 3,
   "metadata": {},
   "outputs": [
    {
     "name": "stdout",
     "output_type": "stream",
     "text": [
      "Expected an area of 20, got 20\n",
      "Expected an area of 50, got 25\n"
     ]
    }
   ],
   "source": [
    "def use_it(rc):\n",
    "    w = rc.width\n",
    "    rc.height = 10  # problematic line!\n",
    "    expected_area = int(w * 10)\n",
    "    print(f'Expected an area of {expected_area}, got {rc.area}')\n",
    "\n",
    "# This will work as expected\n",
    "rc = Rectangle(2, 3)\n",
    "use_it(rc)\n",
    "\n",
    "# This will not work! LSP has been violated and you will have 2 different values\n",
    "sq = Square(5)\n",
    "use_it(sq)"
   ]
  },
  {
   "cell_type": "markdown",
   "metadata": {},
   "source": [
    "The line `rc.height = 10` will also update the width if we're using a square, which means that the value of w in the previous line will not match the actual width of our square. LSP is broken because using a subclass (`Square`) of our base class (`Rectangle`) will show different and unexpected behaviour.\n",
    "\n",
    "There are multiple ways of fixing this specific problem:\n",
    "* You probably don't need a separate subclass for a square.\n",
    "* You could simply add a boolean property to a rectangle that tells you whether or not it's a square.\n",
    "* Or maybe create a factory method (seen in future lessons)"
   ]
  }
 ],
 "metadata": {
  "kernelspec": {
   "display_name": ".venv",
   "language": "python",
   "name": "python3"
  },
  "language_info": {
   "codemirror_mode": {
    "name": "ipython",
    "version": 3
   },
   "file_extension": ".py",
   "mimetype": "text/x-python",
   "name": "python",
   "nbconvert_exporter": "python",
   "pygments_lexer": "ipython3",
   "version": "3.12.6"
  }
 },
 "nbformat": 4,
 "nbformat_minor": 2
}
