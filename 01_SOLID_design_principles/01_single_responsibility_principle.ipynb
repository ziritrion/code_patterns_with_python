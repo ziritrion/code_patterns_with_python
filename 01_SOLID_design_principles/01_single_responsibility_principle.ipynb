{
 "cells": [
  {
   "cell_type": "markdown",
   "metadata": {},
   "source": [
    "# Single Responsibility Principle (SRP)\n",
    "\n",
    "AKA Separation of Concerns (SOC)\n",
    "\n",
    "> If you have a class, the class should have its primary responsibility and should not take on other responsibilities."
   ]
  },
  {
   "cell_type": "markdown",
   "metadata": {},
   "source": [
    "Let's create a journal for your thoughts. The journal will have methods such as `add_entry()` and `remove_entry()`, which are the main concerns of the journal. We will also handle file permanence with the class."
   ]
  },
  {
   "cell_type": "code",
   "execution_count": 4,
   "metadata": {},
   "outputs": [],
   "source": [
    "class Journal:\n",
    "    def __init__(self):\n",
    "        self.entries = []\n",
    "        self.count = 0\n",
    "\n",
    "    def add_entry(self, text):\n",
    "        self.entries.append(f\"{self.count}: {text}\")\n",
    "        self.count += 1\n",
    "\n",
    "    def remove_entry(self, pos):\n",
    "        del self.entries[pos]\n",
    "\n",
    "    def __str__(self):\n",
    "        \"\"\"\n",
    "        This is a dunder method that defines how to print the Journal class object as a string.\n",
    "        Learn more about dunder methods, __str__ and __repr__ here:\n",
    "        https://www.digitalocean.com/community/tutorials/python-str-repr-functions\n",
    "        \"\"\"\n",
    "        return \"\\n\".join(self.entries)\n",
    "\n",
    "    ### File permanence methods below\n",
    "    \n",
    "    def save(self, filename):\n",
    "        file = open(filename, \"w\")\n",
    "        file.write(str(self))\n",
    "        file.close()\n",
    "\n",
    "    def load(self, filename):\n",
    "        pass\n",
    "\n",
    "    def load_from_web(self, uri):\n",
    "        pass"
   ]
  },
  {
   "cell_type": "markdown",
   "metadata": {},
   "source": [
    "The issue is that the file permanence methods break SRP.\n",
    "\n",
    "What happens if you have multiple classes, each with their own file permanence methods, and you want to add a new functionality such as safe path handling to all of them? You will be forced to upade every single class individually!\n",
    "\n",
    "We can keep SRP with a separate class for these file permanence methods instead."
   ]
  },
  {
   "cell_type": "code",
   "execution_count": 5,
   "metadata": {},
   "outputs": [],
   "source": [
    "class PersistenceManager:\n",
    "    @staticmethod\n",
    "    def save_to_file(journal, filename):\n",
    "        \"\"\"\n",
    "        This is a static method. A static method is bound to the class rather than the object, like class methods, but unlike class methods, static methods cannot access class state.\n",
    "        \"\"\"\n",
    "        file = open(filename, \"w\")\n",
    "        file.write(str(journal))\n",
    "        file.close()"
   ]
  },
  {
   "cell_type": "markdown",
   "metadata": {},
   "source": [
    "Let's try creating a journal"
   ]
  },
  {
   "cell_type": "code",
   "execution_count": 6,
   "metadata": {},
   "outputs": [
    {
     "name": "stdout",
     "output_type": "stream",
     "text": [
      "Journal entries:\n",
      "0: I cried today.\n",
      "1: I ate a bug.\n",
      "\n"
     ]
    }
   ],
   "source": [
    "j = Journal()\n",
    "j.add_entry(\"I cried today.\")\n",
    "j.add_entry(\"I ate a bug.\")\n",
    "print(f\"Journal entries:\\n{j}\\n\")"
   ]
  },
  {
   "cell_type": "markdown",
   "metadata": {},
   "source": [
    "Now we will use our `PersistenceManager` class to handle file permanence."
   ]
  },
  {
   "cell_type": "code",
   "execution_count": 7,
   "metadata": {},
   "outputs": [],
   "source": [
    "from pathlib import Path\n",
    "p = PersistenceManager()\n",
    "file = str(Path.home() / 'journal.txt')\n",
    "p.save_to_file(j, file)"
   ]
  },
  {
   "cell_type": "markdown",
   "metadata": {},
   "source": [
    "Finally, let's check that it works:"
   ]
  },
  {
   "cell_type": "code",
   "execution_count": 8,
   "metadata": {},
   "outputs": [
    {
     "name": "stdout",
     "output_type": "stream",
     "text": [
      "0: I cried today.\n",
      "1: I ate a bug.\n"
     ]
    }
   ],
   "source": [
    "with open(file) as fh:\n",
    "    print(fh.read())"
   ]
  }
 ],
 "metadata": {
  "kernelspec": {
   "display_name": ".venv",
   "language": "python",
   "name": "python3"
  },
  "language_info": {
   "codemirror_mode": {
    "name": "ipython",
    "version": 3
   },
   "file_extension": ".py",
   "mimetype": "text/x-python",
   "name": "python",
   "nbconvert_exporter": "python",
   "pygments_lexer": "ipython3",
   "version": "3.12.6"
  }
 },
 "nbformat": 4,
 "nbformat_minor": 2
}
