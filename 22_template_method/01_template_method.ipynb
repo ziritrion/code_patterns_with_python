{
 "cells": [
  {
   "cell_type": "markdown",
   "id": "36284fa7",
   "metadata": {},
   "source": [
    "# Template Method\n",
    "\n",
    "> A high-level blueprint for an algorithm to be completed by inheritors"
   ]
  },
  {
   "cell_type": "markdown",
   "id": "0ade75b6",
   "metadata": {},
   "source": [
    "The **Template Method** is very similar to the **Strategy** design pattern except for the type of mechanism that they use to provide the boilerplate as well as to fill it in:\n",
    "* In the **Strategy pattern**, a component takes a strategy as a parameter, it assigns it and then it uses the strategie's methods.\n",
    "* In the **Template method pattern**, we use inheritance instead of providing an argument.\n",
    "\n",
    "In the following scenario we'll create a `Game` abstract class that will work as a skeleton for other games, based on common game characteristics:\n",
    "* A game has a certain number of players.\n",
    "* One of the player will (eventually) become the winner\n",
    "* The game runs as long as there is no winner\n",
    "* The game is divided in turns. When the game is running, it executes turn after turn"
   ]
  },
  {
   "cell_type": "code",
   "execution_count": 1,
   "id": "27bedd57",
   "metadata": {},
   "outputs": [],
   "source": [
    "from abc import ABC\n",
    "\n",
    "class Game(ABC):\n",
    "    def __init__(self, number_of_players):\n",
    "        self.number_of_players = number_of_players\n",
    "        self.current_player = 0\n",
    "\n",
    "    def run(self):\n",
    "        \"\"\"Templamte method\"\"\"\n",
    "        self.start()\n",
    "        while not self.have_winner:\n",
    "            self.take_turn()\n",
    "        print(f'Player {self.winning_player} wins!')\n",
    "\n",
    "    def start(self): pass\n",
    "\n",
    "    @property\n",
    "    def have_winner(self): pass\n",
    "\n",
    "    def take_turn(self): pass\n",
    "\n",
    "    @property\n",
    "    def winning_player(self): pass"
   ]
  },
  {
   "cell_type": "markdown",
   "id": "ea90ead5",
   "metadata": {},
   "source": [
    "In the code above, the `run` method is the **Template method**: it's using a lot of other members which have to be implemented by the inheritors because they don't have any kind of implementation.\n",
    "\n",
    "Let's now inherit from the `Game` class and implement a crude simulated version of chess."
   ]
  },
  {
   "cell_type": "code",
   "execution_count": 2,
   "id": "ed2a1c55",
   "metadata": {},
   "outputs": [],
   "source": [
    "class Chess(Game):\n",
    "    def __init__(self):\n",
    "        super().__init__(2)\n",
    "        self.max_turns = 10 # attribute specific to chess\n",
    "        self.turn = 1 # attribute specific to chess\n",
    "\n",
    "    def start(self):\n",
    "        print(f'Starting a game of chess with {self.number_of_players} players.')\n",
    "\n",
    "    @property\n",
    "    def have_winner(self):\n",
    "        return self.turn == self.max_turns\n",
    "\n",
    "    def take_turn(self):\n",
    "        print(f'Turn {self.turn} taken by player {self.current_player}')\n",
    "        self.turn += 1\n",
    "        self.current_player = 1 - self.current_player\n",
    "\n",
    "    @property\n",
    "    def winning_player(self):\n",
    "        return self.current_player"
   ]
  },
  {
   "cell_type": "markdown",
   "id": "e63be906",
   "metadata": {},
   "source": [
    "The code above obviously doesn't have any resemblance to actual chess but it works for our purposes: we've given a max amount of turns, which is useful for providing an easy victory condition for the winner.\n",
    "\n",
    "We are now ready to run our code:"
   ]
  },
  {
   "cell_type": "code",
   "execution_count": 3,
   "id": "e9099b96",
   "metadata": {},
   "outputs": [
    {
     "name": "stdout",
     "output_type": "stream",
     "text": [
      "Starting a game of chess with 2 players.\n",
      "Turn 1 taken by player 0\n",
      "Turn 2 taken by player 1\n",
      "Turn 3 taken by player 0\n",
      "Turn 4 taken by player 1\n",
      "Turn 5 taken by player 0\n",
      "Turn 6 taken by player 1\n",
      "Turn 7 taken by player 0\n",
      "Turn 8 taken by player 1\n",
      "Turn 9 taken by player 0\n",
      "Player 1 wins!\n"
     ]
    }
   ],
   "source": [
    "chess = Chess()\n",
    "chess.run()"
   ]
  },
  {
   "cell_type": "markdown",
   "id": "ec76184c",
   "metadata": {},
   "source": [
    "We are calling the template method `run` from the inherited `Chess` class. We have not overridden the method; instead, by implementing the components that the template method uses, we choose the behavior of the template method by simply calling it from one class or another.\n",
    "\n",
    "In essence, the template method is an alternative to the strategy design pattern, but instead of conforming to an interface, we fill in the blanks with inheritance."
   ]
  }
 ],
 "metadata": {
  "kernelspec": {
   "display_name": ".venv",
   "language": "python",
   "name": "python3"
  },
  "language_info": {
   "codemirror_mode": {
    "name": "ipython",
    "version": 3
   },
   "file_extension": ".py",
   "mimetype": "text/x-python",
   "name": "python",
   "nbconvert_exporter": "python",
   "pygments_lexer": "ipython3",
   "version": "3.12.6"
  }
 },
 "nbformat": 4,
 "nbformat_minor": 5
}
