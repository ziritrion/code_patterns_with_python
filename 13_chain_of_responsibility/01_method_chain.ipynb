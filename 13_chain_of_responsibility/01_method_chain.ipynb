{
 "cells": [
  {
   "cell_type": "markdown",
   "id": "d2f0c42b",
   "metadata": {},
   "source": [
    "# Chain of Responsibility: Method Chain\n",
    "\n",
    "> "
   ]
  }
 ],
 "metadata": {
  "language_info": {
   "name": "python"
  }
 },
 "nbformat": 4,
 "nbformat_minor": 5
}
