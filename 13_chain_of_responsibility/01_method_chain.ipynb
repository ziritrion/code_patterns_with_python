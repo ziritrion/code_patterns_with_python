{
 "cells": [
  {
   "cell_type": "markdown",
   "id": "d2f0c42b",
   "metadata": {},
   "source": [
    "# Chain of Responsibility: Method Chain\n",
    "\n",
    "> Chaining methods one after another"
   ]
  },
  {
   "cell_type": "markdown",
   "id": "cde3c173",
   "metadata": {},
   "source": [
    "In this scenario we're designing a videogame with creatures roaming about and attacking each other and the player. These creatures will have some base stats for attack and defense, which can also be boosted with powerup modifiers, like picking up a sword or something.\n",
    "\n",
    "Let's implement our creature."
   ]
  },
  {
   "cell_type": "code",
   "execution_count": 1,
   "id": "d67fc2b3",
   "metadata": {},
   "outputs": [],
   "source": [
    "class Creature:\n",
    "    def __init__(self, name, attack, defense):\n",
    "        self.defense = defense\n",
    "        self.attack = attack\n",
    "        self.name = name\n",
    "\n",
    "    def __str__(self):\n",
    "        return f'{self.name} ({self.attack}/{self.defense})'"
   ]
  },
  {
   "cell_type": "markdown",
   "id": "ad4de350",
   "metadata": {},
   "source": [
    "Let's now implement the modifiers. We'll create a base modifyer class that we will use for all of our modifiers."
   ]
  },
  {
   "cell_type": "code",
   "execution_count": null,
   "id": "2fc03ad1",
   "metadata": {},
   "outputs": [],
   "source": [
    "class CreatureModifier:\n",
    "    def __init__(self, creature):\n",
    "        self.creature = creature\n",
    "        self.next_modifier = None # 1\n",
    "\n",
    "    def add_modifier(self, modifier): # 2\n",
    "        if self.next_modifier:\n",
    "            self.next_modifier.add_modifier(modifier)\n",
    "        else:\n",
    "            self.next_modifier = modifier\n",
    "\n",
    "    def handle(self): # 3\n",
    "        if self.next_modifier:\n",
    "            self.next_modifier.handle()"
   ]
  },
  {
   "cell_type": "markdown",
   "id": "105f9b5b",
   "metadata": {},
   "source": [
    "There are many things happening in this class:\n",
    "1. A creature can have multiple modifyers applied to it at once (like attack boost and defense debuff, for example), and these modifyers will most likely happen one after the another, so what we do is create a **modifyer chain**: the `next_modifier` attribute is a pointer to a method that we will call after this one, thus `next_modifier` is implementing a **Method Chain**.\n",
    "2. `add_modifier` is where we chain our modifier methods: if we don't have a modifier yet, we assign it to `next_modifier`, but if we already do have one, we call `add_modifier` on our stored modifier and pass it the next modifier, thus creating our **Method Chain**.\n",
    "3. `handle` is where we apply our **chain of responsibility** to the creature.: we recursively call `handle` on `next_modifier` so that all of the modifiers can be run. Note that `CreatureModifying` is a base class, so it's up to its implementations to add whatever action the modifier is supposed to do.\n",
    "\n",
    "Now that we have our base modifier class in place, let's actually create a modifier:"
   ]
  },
  {
   "cell_type": "code",
   "execution_count": 5,
   "id": "bf2f86c0",
   "metadata": {},
   "outputs": [],
   "source": [
    "class DoubleAttackModifier(CreatureModifier):\n",
    "    def handle(self):\n",
    "        print(f'Doubling {self.creature.name}\\'s attack')\n",
    "        self.creature.attack *= 2\n",
    "        super().handle() # This line is important!"
   ]
  },
  {
   "cell_type": "markdown",
   "id": "5ceee1b9",
   "metadata": {},
   "source": [
    "Note that our modifier is implementing the `handle` method and, most importantly, is calling `super().handle()` after it does its thing, because the base class' `handle` is the one in charge of propagating the chain of responsibility and gets the other modifiers of the creature, if there are any, to work as well.\n",
    "\n",
    "Let's see it in action:"
   ]
  },
  {
   "cell_type": "code",
   "execution_count": 6,
   "id": "f131da98",
   "metadata": {},
   "outputs": [
    {
     "name": "stdout",
     "output_type": "stream",
     "text": [
      "Goblin (1/1)\n",
      "Doubling Goblin's attack\n",
      "Goblin (2/1)\n"
     ]
    }
   ],
   "source": [
    "goblin = Creature('Goblin', 1, 1)\n",
    "print(goblin)\n",
    "\n",
    "root = CreatureModifier(goblin)\n",
    "root.add_modifier(DoubleAttackModifier(goblin))\n",
    "root.handle() # apply modifiers\n",
    "print(goblin)"
   ]
  },
  {
   "cell_type": "markdown",
   "id": "c963ff74",
   "metadata": {},
   "source": [
    "We instantiate the base `CreatureModifier` class and chain modifiers to it, and then call `handle` to apply the modifiers in order. We can even apply the same modifier multiple times:"
   ]
  },
  {
   "cell_type": "code",
   "execution_count": 7,
   "id": "8f2b9312",
   "metadata": {},
   "outputs": [
    {
     "name": "stdout",
     "output_type": "stream",
     "text": [
      "Spider (1/2)\n",
      "Doubling Spider's attack\n",
      "Doubling Spider's attack\n",
      "Doubling Spider's attack\n",
      "Spider (8/2)\n"
     ]
    }
   ],
   "source": [
    "spider = Creature('Spider', 1, 2)\n",
    "print(spider)\n",
    "\n",
    "root = CreatureModifier(spider)\n",
    "root.add_modifier(DoubleAttackModifier(spider))\n",
    "root.add_modifier(DoubleAttackModifier(spider))\n",
    "root.add_modifier(DoubleAttackModifier(spider))\n",
    "root.handle() # apply modifiers\n",
    "print(spider)"
   ]
  },
  {
   "cell_type": "markdown",
   "id": "de4b973e",
   "metadata": {},
   "source": [
    "Let's create additional modifyers and combine them:"
   ]
  },
  {
   "cell_type": "code",
   "execution_count": 8,
   "id": "4eb37d4e",
   "metadata": {},
   "outputs": [],
   "source": [
    "class IncreaseDefenseModifier(CreatureModifier):\n",
    "    def handle(self):\n",
    "        if self.creature.attack <= 2:\n",
    "            print(f'Increasing {self.creature.name}''s defense')\n",
    "            self.creature.defense += 1\n",
    "        super().handle()\n",
    "\n",
    "class NoBonusesModifier(CreatureModifier):\n",
    "    def handle(self):\n",
    "        print('No bonuses for you!')\n",
    "        # We're deliberately omitting the important line!"
   ]
  },
  {
   "cell_type": "markdown",
   "id": "ac6718c8",
   "metadata": {},
   "source": [
    "The `NoBonusesModifier` is a special modifier that blocks the creature from gaining additional modifiers, maybe because it got poisoned or some other status condition. We implement it by simply omitting the `super().handle()` line, which stops the chain of responsibility from propagating.\n",
    "\n",
    "Let's combine our modifiers and see how they work:"
   ]
  },
  {
   "cell_type": "code",
   "execution_count": 15,
   "id": "274d062f",
   "metadata": {},
   "outputs": [
    {
     "name": "stdout",
     "output_type": "stream",
     "text": [
      "Goblin (1/1)\n",
      "Increasing Goblins defense\n",
      "Doubling Goblin's attack\n",
      "Doubling Goblin's attack\n",
      "No bonuses for you!\n",
      "Goblin (4/2)\n"
     ]
    }
   ],
   "source": [
    "goblin = Creature('Goblin', 1, 1)\n",
    "print(goblin)\n",
    "\n",
    "root = CreatureModifier(goblin)\n",
    "\n",
    "root.add_modifier(IncreaseDefenseModifier(goblin)) # (1/2)\n",
    "root.add_modifier(DoubleAttackModifier(goblin)) # (2/2)\n",
    "root.add_modifier(DoubleAttackModifier(goblin)) # (4/2)\n",
    "root.add_modifier(IncreaseDefenseModifier(goblin)) # no effect! Our attack is too powerful\n",
    "root.add_modifier(NoBonusesModifier(goblin)) # no more bonuses from now on\n",
    "root.add_modifier(DoubleAttackModifier(goblin)) # no effect! Otherwise it would be (8/2)\n",
    "\n",
    "root.handle()  # apply modifiers\n",
    "print(goblin)"
   ]
  }
 ],
 "metadata": {
  "kernelspec": {
   "display_name": ".venv",
   "language": "python",
   "name": "python3"
  },
  "language_info": {
   "codemirror_mode": {
    "name": "ipython",
    "version": 3
   },
   "file_extension": ".py",
   "mimetype": "text/x-python",
   "name": "python",
   "nbconvert_exporter": "python",
   "pygments_lexer": "ipython3",
   "version": "3.12.10"
  }
 },
 "nbformat": 4,
 "nbformat_minor": 5
}
