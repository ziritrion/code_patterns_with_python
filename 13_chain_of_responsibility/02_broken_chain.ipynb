{
 "cells": [
  {
   "cell_type": "markdown",
   "id": "f13b1df8",
   "metadata": {},
   "source": [
    "# Chain of Responsibility: Broken Chain\n",
    "\n",
    "> Invoking the chain implicitly"
   ]
  },
  {
   "cell_type": "markdown",
   "id": "012e5bfd",
   "metadata": {},
   "source": [
    "In this scenario, we'll improve upon our previous creature modifiers by having them applied without explicitly calling `handle` or doing any other additional actions.\n",
    "\n",
    "For this, we'll build **events** and an **event broker**. Events will be discussed further in the *Observer Design Pattern* lesson; the implementation here will be a very basic one.\n",
    "\n",
    "We'll also need to apply **Command Query Separation**: we will have different subsystems to handle **commands** and **queries** separately. We'll focus on queries; Commands will be discussed further in the *Command Design Pattern* lesson.\n",
    "\n",
    "Let's begin with implementing events:"
   ]
  },
  {
   "cell_type": "code",
   "execution_count": 1,
   "id": "d262da0e",
   "metadata": {},
   "outputs": [],
   "source": [
    "class Event(list):\n",
    "    def __call__(self, *args, **kwargs):\n",
    "        for item in self:\n",
    "            item(*args, **kwargs)"
   ]
  },
  {
   "cell_type": "markdown",
   "id": "45dbb65f",
   "metadata": {},
   "source": [
    "An `Event` is essentially a list of functions that we can call.\n",
    "\n",
    "Let's re-implement the `Creature` class with a few changes: we will initialize it with a reference to the event broker, which will take care of the chain of responsibility. We'll call the event broker `game`, because every creature is part of a game."
   ]
  },
  {
   "cell_type": "code",
   "execution_count": null,
   "id": "44af1424",
   "metadata": {},
   "outputs": [],
   "source": [
    "class Creature:\n",
    "    def __init__(self, game, name, attack, defense):\n",
    "        self.initial_defense = defense\n",
    "        self.initial_attack = attack\n",
    "        self.name = name\n",
    "        self.game = game"
   ]
  },
  {
   "cell_type": "markdown",
   "id": "3253cceb",
   "metadata": {},
   "source": [
    "Note that we've also changed `defense` to `initial_defense` and `attack` to `initial_attack`, because we will rely on the modifiers to change these initial values. In order to do this, we need to implement a query mechanism for getting the creature's values, incorporating any modifiers that might exist.\n",
    "\n",
    "Our `Creature` class is not finished yet; we'll come back to it later. Let's implement our event broker:"
   ]
  },
  {
   "cell_type": "code",
   "execution_count": 2,
   "id": "b5751a60",
   "metadata": {},
   "outputs": [],
   "source": [
    "class Game:\n",
    "    def __init__(self):\n",
    "        self.queries = Event()\n",
    "\n",
    "    def perform_query(self, sender, query):\n",
    "        self.queries(sender, query)"
   ]
  },
  {
   "cell_type": "markdown",
   "id": "6399bd1a",
   "metadata": {},
   "source": [
    "Essentially, we're creating an `Event` that everyone can subscribe to whenever someone sends a query: the idea being that if someone, for example, sends a query for a creature's attack, the modifiers can listen to this event and they can modify the returning value.\n",
    "\n",
    "`perform_query`, as it name implies, performs the actual query: it takes the sender (who's actually asking the query) and the query itself, and then you invoke on the `Event` (which, as you may recall, is a list of functions).\n",
    "\n",
    "Finally, we need to implement the `Query` class itself:"
   ]
  },
  {
   "cell_type": "code",
   "execution_count": 4,
   "id": "74a08b97",
   "metadata": {},
   "outputs": [],
   "source": [
    "from enum import Enum\n",
    "\n",
    "class WhatToQuery(Enum):\n",
    "    ATTACK = 1\n",
    "    DEFENSE = 2\n",
    "\n",
    "class Query:\n",
    "    def __init__(self, creature_name, what_to_query, default_value):\n",
    "        self.value = default_value  # name change!\n",
    "        self.what_to_query = what_to_query\n",
    "        self.creature_name = creature_name"
   ]
  },
  {
   "cell_type": "markdown",
   "id": "d5db91f1",
   "metadata": {},
   "source": [
    "Note that even though we're providing a `default_value` argument, internally we're renaming it to `value`, because creature modifiers are going to modify this value and they might return something completely different. In other words: our query is not storing the default value, but rather the actual value that subsequently other handlers of the event can modify.\n",
    "\n",
    "Let's go back to the `Creature` class. Instead of simply returning the attack and defense values, we'll implement getters that will perform queries that will calculate the actual vale to return:"
   ]
  },
  {
   "cell_type": "code",
   "execution_count": 5,
   "id": "37abe66e",
   "metadata": {},
   "outputs": [],
   "source": [
    "class Creature:\n",
    "    def __init__(self, game, name, attack, defense):\n",
    "        self.initial_defense = defense\n",
    "        self.initial_attack = attack\n",
    "        self.name = name\n",
    "        self.game = game\n",
    "\n",
    "    @property\n",
    "    def attack(self):\n",
    "        q = Query(self.name, WhatToQuery.ATTACK, self.initial_attack)\n",
    "        self.game.perform_query(self, q)\n",
    "        return q.value\n",
    "\n",
    "    @property\n",
    "    def defense(self):\n",
    "        q = Query(self.name, WhatToQuery.DEFENSE, self.initial_attack)\n",
    "        self.game.perform_query(self, q)\n",
    "        return q.value\n",
    "\n",
    "    def __str__(self):\n",
    "        return f'{self.name} ({self.attack}/{self.defense})' # We're using the getters rather than the initial values!"
   ]
  },
  {
   "cell_type": "markdown",
   "id": "d220dde0",
   "metadata": {},
   "source": [
    "Let's see what we have so far in action:"
   ]
  },
  {
   "cell_type": "code",
   "execution_count": 6,
   "id": "09c4e602",
   "metadata": {},
   "outputs": [
    {
     "name": "stdout",
     "output_type": "stream",
     "text": [
      "Strong Goblin (2/2)\n"
     ]
    }
   ],
   "source": [
    "game = Game()\n",
    "goblin = Creature(game, 'Strong Goblin', 2, 2)\n",
    "print(goblin)"
   ]
  },
  {
   "cell_type": "markdown",
   "id": "164db401",
   "metadata": {},
   "source": [
    "Our event broker and query subsystem are now online! Let's build the actual modifiers, once again by creating a base class that other modifiers can inherit from:"
   ]
  },
  {
   "cell_type": "code",
   "execution_count": 7,
   "id": "8e0dc47e",
   "metadata": {},
   "outputs": [],
   "source": [
    "from abc import ABC\n",
    "\n",
    "class CreatureModifier(ABC):\n",
    "    def __init__(self, game, creature):\n",
    "        self.creature = creature\n",
    "        self.game = game\n",
    "        self.game.queries.append(self.handle) # 1\n",
    "\n",
    "    def handle(self, sender, query): # 2\n",
    "        pass"
   ]
  },
  {
   "cell_type": "markdown",
   "id": "2374b3f0",
   "metadata": {},
   "source": [
    "There are a few changes compared to our original `CreatureModifier`:\n",
    "1. We need to handle the queries event ourselves because we want to be able to change the queries themselves, so that the returned value is modified. We do this by appending our `handle` method to the query.\n",
    "2. Since we're building an abstract base class, we simply pass on `handle` and let our actual modifier implementations handle it.\n",
    "\n",
    "Let's create an actual modifier:"
   ]
  },
  {
   "cell_type": "code",
   "execution_count": 8,
   "id": "f4a3cd88",
   "metadata": {},
   "outputs": [],
   "source": [
    "class DoubleAttackModifier(CreatureModifier):\n",
    "    def handle(self, sender, query):\n",
    "        if (sender.name == self.creature.name and\n",
    "                query.what_to_query == WhatToQuery.ATTACK):\n",
    "            query.value *= 2"
   ]
  },
  {
   "cell_type": "markdown",
   "id": "b6bfef61",
   "metadata": {},
   "source": [
    "For this modifier, we simply check that the query is referring to our creature, we check that the query is referring to attacking, and if the conditions are met, we modify the query by doubling the attack value.\n",
    "\n",
    "Also, since `handle` is being called when intiializing the instance, the modifier will be applied instantly as soon as it's built. Let's see it in action:"
   ]
  },
  {
   "cell_type": "code",
   "execution_count": 9,
   "id": "94c60438",
   "metadata": {},
   "outputs": [
    {
     "name": "stdout",
     "output_type": "stream",
     "text": [
      "Strong Goblin (2/2)\n",
      "Strong Goblin (4/2)\n"
     ]
    }
   ],
   "source": [
    "game = Game()\n",
    "goblin = Creature(game, 'Strong Goblin', 2, 2)\n",
    "print(goblin)\n",
    "\n",
    "dam = DoubleAttackModifier(game, goblin)\n",
    "print(goblin)"
   ]
  },
  {
   "cell_type": "markdown",
   "id": "4c157fa9",
   "metadata": {},
   "source": [
    "Cool! But we can do a small improvement yet by giving a lifetime to the modifiers: using the `with` keyword, we can define scope and the modifiers will only be applied within that scope. We can do this by implementing the `__enter__` and `__exit__` methods in our base class:"
   ]
  },
  {
   "cell_type": "code",
   "execution_count": 10,
   "id": "c1a82f9f",
   "metadata": {},
   "outputs": [],
   "source": [
    "class CreatureModifier(ABC):\n",
    "    def __init__(self, game, creature):\n",
    "        self.creature = creature\n",
    "        self.game = game\n",
    "        self.game.queries.append(self.handle)\n",
    "\n",
    "    def handle(self, sender, query):\n",
    "        pass\n",
    "\n",
    "    def __enter__(self): # What happens when we enter the `with` block\n",
    "        return self\n",
    "\n",
    "    def __exit__(self, exc_type, exc_val, exc_tb): # What happens when we exit the `with` block\n",
    "        self.game.queries.remove(self.handle) # we unsubscribe\n",
    "\n",
    "# we need to rerun our modifier implementations; we're also adding a new one as a bonus.\n",
    "class DoubleAttackModifier(CreatureModifier):\n",
    "    def handle(self, sender, query):\n",
    "        if (sender.name == self.creature.name and\n",
    "                query.what_to_query == WhatToQuery.ATTACK):\n",
    "            query.value *= 2\n",
    "\n",
    "class IncreaseDefenseModifier(CreatureModifier):\n",
    "    def handle(self, sender, query):\n",
    "        if (sender.name == self.creature.name and\n",
    "                query.what_to_query == WhatToQuery.DEFENSE):\n",
    "            query.value += 3"
   ]
  },
  {
   "cell_type": "markdown",
   "id": "94f442cd",
   "metadata": {},
   "source": [
    "Let's check how this would now work:"
   ]
  },
  {
   "cell_type": "code",
   "execution_count": 11,
   "id": "ff103c83",
   "metadata": {},
   "outputs": [
    {
     "name": "stdout",
     "output_type": "stream",
     "text": [
      "Strong Goblin (2/2)\n",
      "Strong Goblin (4/2)\n",
      "Strong Goblin (4/5)\n",
      "Strong Goblin (2/2)\n"
     ]
    }
   ],
   "source": [
    "game = Game()\n",
    "goblin = Creature(game, 'Strong Goblin', 2, 2)\n",
    "print(goblin)\n",
    "\n",
    "with DoubleAttackModifier(game, goblin):\n",
    "    print(goblin)\n",
    "    with IncreaseDefenseModifier(game, goblin):\n",
    "        print(goblin)\n",
    "\n",
    "print(goblin)"
   ]
  },
  {
   "cell_type": "markdown",
   "id": "2abeaec3",
   "metadata": {},
   "source": [
    "As you can see, the modifiers only apply within their scope, and we can now easily create a hierarchy of modifiers."
   ]
  }
 ],
 "metadata": {
  "kernelspec": {
   "display_name": ".venv",
   "language": "python",
   "name": "python3"
  },
  "language_info": {
   "codemirror_mode": {
    "name": "ipython",
    "version": 3
   },
   "file_extension": ".py",
   "mimetype": "text/x-python",
   "name": "python",
   "nbconvert_exporter": "python",
   "pygments_lexer": "ipython3",
   "version": "3.12.10"
  }
 },
 "nbformat": 4,
 "nbformat_minor": 5
}
