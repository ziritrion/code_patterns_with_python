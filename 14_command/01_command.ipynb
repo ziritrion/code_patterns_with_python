{
 "cells": [
  {
   "cell_type": "markdown",
   "id": "a09f53d8",
   "metadata": {},
   "source": [
    "# Command\n",
    "\n",
    "> Converting instructions into object representations"
   ]
  },
  {
   "cell_type": "markdown",
   "id": "68a12c30",
   "metadata": {},
   "source": [
    "In this scenario we're going to imagine that we're creating a bank's IT systems. Let's implement a class to represent a bank account: the account will contain a balance that we can deposit money to or withdraw from, and we will set an overdraft limit in order to avoid going into deep negative balance.\n",
    "\n",
    "(For simplicity's sake, we'll obviate basic security stuff like input sanitation)."
   ]
  },
  {
   "cell_type": "code",
   "execution_count": 12,
   "id": "18d54703",
   "metadata": {},
   "outputs": [],
   "source": [
    "class BankAccount:\n",
    "    OVERDRAFT_LIMIT = -500\n",
    "\n",
    "    def __init__(self, balance=0):\n",
    "        self.balance = balance\n",
    "\n",
    "    def deposit(self, amount):\n",
    "        self.balance += amount\n",
    "        print(f'Deposited {amount}, balance = {self.balance}')\n",
    "\n",
    "    def withdraw(self, amount):\n",
    "        if self.balance - amount >= BankAccount.OVERDRAFT_LIMIT:\n",
    "            self.balance -= amount\n",
    "            print(f'Withdrew {amount}, balance = {self.balance}')\n",
    "\n",
    "    def __str__(self):\n",
    "        return f'Balance = {self.balance}'"
   ]
  },
  {
   "cell_type": "markdown",
   "id": "8e50f0ad",
   "metadata": {},
   "source": [
    "This code works fine but we're missing a crucial aspect of any real bank: any transaction must be recorded. Any deposits or withdrawals that we do on our class will simply happen and will not leave any trace of them happening at all.\n",
    "\n",
    "By using the **Command Design Pattern**, instead of calling our `withdraw` and `deposit` methods we can provide an interface instead that will create a record of any and all calls.\n",
    "\n",
    "We'll begin by creating a `Command` base class that will define our basic interface:"
   ]
  },
  {
   "cell_type": "code",
   "execution_count": 13,
   "id": "8be27b47",
   "metadata": {},
   "outputs": [],
   "source": [
    "from abc import ABC\n",
    "\n",
    "class Command(ABC):\n",
    "    def invoke(self):\n",
    "        pass"
   ]
  },
  {
   "cell_type": "markdown",
   "id": "5817b22e",
   "metadata": {},
   "source": [
    "> In this scenario the base class isn't strictly necessary because we're only implementing one command class, but it's good practice.\n",
    "\n",
    "Now let's implement our actual `BankAccountCommand`. In order to perform actions on a bank account, we need to know which bank account we need to perform the action on, the action itself (which will be either `deposit` or `withdraw`) and any arguments for the action, which for our case is the amount of money. For the actions, we'll use simple enums to identify them."
   ]
  },
  {
   "cell_type": "code",
   "execution_count": 14,
   "id": "e4cc4803",
   "metadata": {},
   "outputs": [],
   "source": [
    "from enum import Enum\n",
    "\n",
    "class BankAccountCommand(Command):\n",
    "    def __init__(self, account, action, amount):\n",
    "        self.amount = amount\n",
    "        self.action = action\n",
    "        self.account = account\n",
    "\n",
    "    class Action(Enum):\n",
    "        DEPOSIT = 0\n",
    "        WITHDRAW = 1\n",
    "\n",
    "    def invoke(self):\n",
    "        if self.action == self.Action.DEPOSIT:\n",
    "            # record the operation here!\n",
    "            self.account.deposit(self.amount)\n",
    "        elif self.action == self.Action.WITHDRAW:\n",
    "            # record the operation here!\n",
    "            self.account.withdraw(self.amount)"
   ]
  },
  {
   "cell_type": "markdown",
   "id": "fa74a5c4",
   "metadata": {},
   "source": [
    "> Once again for simplicity's sake we'll omit the action recording step, but you would implement it when calling the actual `BankAccount` method.\n",
    "\n",
    "Let's see our code in action:"
   ]
  },
  {
   "cell_type": "code",
   "execution_count": 15,
   "id": "08be6b9f",
   "metadata": {},
   "outputs": [
    {
     "name": "stdout",
     "output_type": "stream",
     "text": [
      "Deposited 100, balance = 100\n",
      "After $100 deposit: Balance = 100\n"
     ]
    }
   ],
   "source": [
    "ba = BankAccount()\n",
    "cmd = BankAccountCommand(ba, BankAccountCommand.Action.DEPOSIT, 100)\n",
    "cmd.invoke()\n",
    "print('After $100 deposit:', ba)"
   ]
  },
  {
   "cell_type": "markdown",
   "id": "fe467996",
   "metadata": {},
   "source": [
    "A bonus side effect of the Command Design Pattern is that we can easily implement undo operations right inside the command.\n",
    "\n",
    "We will implement a new interface member called `undo` which will roll back the change we've made: we will simply perform the opposite action of the `BankAccountCommand` instance (this isn't the proper way of doing things in a bank, but it will do for this demo)."
   ]
  },
  {
   "cell_type": "code",
   "execution_count": 16,
   "id": "195fff4d",
   "metadata": {},
   "outputs": [],
   "source": [
    "class Command(ABC):\n",
    "    def invoke(self):\n",
    "        pass\n",
    "\n",
    "    def undo(self): # new interface member\n",
    "        pass\n",
    "\n",
    "class BankAccountCommand(Command):\n",
    "    def __init__(self, account, action, amount):\n",
    "        self.amount = amount\n",
    "        self.action = action\n",
    "        self.account = account\n",
    "\n",
    "    class Action(Enum):\n",
    "        DEPOSIT = 0\n",
    "        WITHDRAW = 1\n",
    "\n",
    "    def invoke(self):\n",
    "        if self.action == self.Action.DEPOSIT:\n",
    "            self.account.deposit(self.amount)\n",
    "        elif self.action == self.Action.WITHDRAW:\n",
    "            self.account.withdraw(self.amount)\n",
    "\n",
    "    def undo(self):\n",
    "        if self.action == self.Action.DEPOSIT:\n",
    "            self.account.withdraw(self.amount)\n",
    "        elif self.action == self.Action.WITHDRAW:\n",
    "            self.account.deposit(self.amount)"
   ]
  },
  {
   "cell_type": "markdown",
   "id": "e2e62525",
   "metadata": {},
   "source": [
    "Let's see it in action:"
   ]
  },
  {
   "cell_type": "code",
   "execution_count": 17,
   "id": "485a9bcf",
   "metadata": {},
   "outputs": [
    {
     "name": "stdout",
     "output_type": "stream",
     "text": [
      "Deposited 100, balance = 100\n",
      "After $100 deposit: Balance = 100\n",
      "Withdrew 100, balance = 0\n",
      "$100 deposit undone: Balance = 0\n"
     ]
    }
   ],
   "source": [
    "ba = BankAccount()\n",
    "cmd = BankAccountCommand(ba, BankAccountCommand.Action.DEPOSIT, 100)\n",
    "cmd.invoke()\n",
    "print('After $100 deposit:', ba)\n",
    "\n",
    "cmd.undo()\n",
    "print('$100 deposit undone:', ba)"
   ]
  },
  {
   "cell_type": "markdown",
   "id": "fd864ae0",
   "metadata": {},
   "source": [
    "Pretty cool, but our implementation has a fatal flaw: we are not keeping track of whether a command has succeeded or not, and this can result in unexpected side effects when trying to undo the operations. Let's see an example:"
   ]
  },
  {
   "cell_type": "code",
   "execution_count": 18,
   "id": "71819c28",
   "metadata": {},
   "outputs": [
    {
     "name": "stdout",
     "output_type": "stream",
     "text": [
      "Deposited 100, balance = 100\n",
      "After $100 deposit: Balance = 100\n",
      "Withdrew 100, balance = 0\n",
      "$100 deposit undone: Balance = 0\n",
      "After impossible withdrawal: Balance = 0\n",
      "Deposited 1000, balance = 1000\n",
      "After undo: Balance = 1000\n"
     ]
    }
   ],
   "source": [
    "ba = BankAccount()\n",
    "cmd = BankAccountCommand(ba, BankAccountCommand.Action.DEPOSIT, 100)\n",
    "cmd.invoke()\n",
    "print('After $100 deposit:', ba)\n",
    "\n",
    "cmd.undo()\n",
    "print('$100 deposit undone:', ba)\n",
    "\n",
    "illegal_cmd = BankAccountCommand(ba, BankAccountCommand.Action.WITHDRAW, 1000)\n",
    "illegal_cmd.invoke()\n",
    "print('After impossible withdrawal:', ba)\n",
    "illegal_cmd.undo()\n",
    "print('After undo:', ba)"
   ]
  },
  {
   "cell_type": "markdown",
   "id": "47e8aea3",
   "metadata": {},
   "source": [
    "Oopsie whoopsie, we undid a withdrawal that didn't happen at all because it exceeded the overdraft limit, and now this bank account magically has $1000. Great for the end customer but not for the bank.\n",
    "\n",
    "We need to track whether or not a particular operation has succeeded. We can do this by adding a success flag on our command that will be `True` if the operation succeeds or `False` otherwise.\n",
    "\n",
    "For `deposit`, we can confidently set the flag to `True` after invoking the command, but for `withdraw` we will need to modify the original `BankAccount` in order to have it return whether or not it succeeded."
   ]
  },
  {
   "cell_type": "code",
   "execution_count": 19,
   "id": "96dc4ce0",
   "metadata": {},
   "outputs": [],
   "source": [
    "class BankAccount:\n",
    "    OVERDRAFT_LIMIT = -500\n",
    "\n",
    "    def __init__(self, balance=0):\n",
    "        self.balance = balance\n",
    "\n",
    "    def deposit(self, amount):\n",
    "        self.balance += amount\n",
    "        print(f'Deposited {amount}, balance = {self.balance}')\n",
    "\n",
    "    def withdraw(self, amount):\n",
    "        if self.balance - amount >= BankAccount.OVERDRAFT_LIMIT:\n",
    "            self.balance -= amount\n",
    "            print(f'Withdrew {amount}, balance = {self.balance}')\n",
    "            return True # The withdrawal succeeded\n",
    "        return False # Withdrawal cancelled because it exceeded the overdraft limit\n",
    "\n",
    "    def __str__(self):\n",
    "        return f'Balance = {self.balance}'\n",
    "    \n",
    "class BankAccountCommand(Command):\n",
    "    def __init__(self, account, action, amount):\n",
    "        self.amount = amount\n",
    "        self.action = action\n",
    "        self.account = account\n",
    "        self.success = None # success flag\n",
    "\n",
    "    class Action(Enum):\n",
    "        DEPOSIT = 0\n",
    "        WITHDRAW = 1\n",
    "\n",
    "    def invoke(self):\n",
    "        if self.action == self.Action.DEPOSIT:\n",
    "            self.account.deposit(self.amount)\n",
    "            self.success = True # Deposits always work\n",
    "        elif self.action == self.Action.WITHDRAW:\n",
    "            self.success = self.account.withdraw(self.amount) # We check the result of the withdraw action to determine whether or not it succeeded\n",
    "\n",
    "    def undo(self):\n",
    "        if not self.success:\n",
    "            return # If the action did not succeed, return without doing anything else\n",
    "        if self.action == self.Action.DEPOSIT:\n",
    "            self.account.withdraw(self.amount)\n",
    "        elif self.action == self.Action.WITHDRAW:\n",
    "            self.account.deposit(self.amount)"
   ]
  },
  {
   "cell_type": "markdown",
   "id": "475b6469",
   "metadata": {},
   "source": [
    "Let's see if our changes stop the illegal operation from happening:"
   ]
  },
  {
   "cell_type": "code",
   "execution_count": 20,
   "id": "6ca002e7",
   "metadata": {},
   "outputs": [
    {
     "name": "stdout",
     "output_type": "stream",
     "text": [
      "Deposited 100, balance = 100\n",
      "After $100 deposit: Balance = 100\n",
      "Withdrew 100, balance = 0\n",
      "$100 deposit undone: Balance = 0\n",
      "After impossible withdrawal: Balance = 0\n",
      "After undo: Balance = 0\n"
     ]
    }
   ],
   "source": [
    "ba = BankAccount()\n",
    "cmd = BankAccountCommand(ba, BankAccountCommand.Action.DEPOSIT, 100)\n",
    "cmd.invoke()\n",
    "print('After $100 deposit:', ba)\n",
    "\n",
    "cmd.undo()\n",
    "print('$100 deposit undone:', ba)\n",
    "\n",
    "illegal_cmd = BankAccountCommand(ba, BankAccountCommand.Action.WITHDRAW, 1000)\n",
    "illegal_cmd.invoke()\n",
    "print('After impossible withdrawal:', ba)\n",
    "illegal_cmd.undo()\n",
    "print('After undo:', ba)"
   ]
  },
  {
   "cell_type": "markdown",
   "id": "5e34feaf",
   "metadata": {},
   "source": [
    "Success! The undo trick cannot be exploited anymore.\n",
    "\n",
    "Note that some side effects still can happen with our current code: we can still undo a single operation multiple times; we can fix this by setting `success` to `None` after undoing, but that would limit undoing to a single step. We could then set `self.action` to its opposite within `undo`, but that would cycle between opposing actions whenever we would call `undo`.\n",
    "\n",
    "The optimal solution to this is keeping a log of our actions (the step we omitted doing for simplicity): whenever we invoke successfully, we append the action to a list within our command instance, and whenever we undo, we pop the last successful action from the list and perform the opposite action. This approach is called **Event Sourcing**.\n",
    "\n",
    "Let's modify our `BankAccountCommand` to include a log and see how it would perform:"
   ]
  },
  {
   "cell_type": "code",
   "execution_count": 21,
   "id": "538037f1",
   "metadata": {},
   "outputs": [],
   "source": [
    "class BankAccountCommand(Command):\n",
    "    def __init__(self, account, action, amount):\n",
    "        self.account = account\n",
    "        self.amount = amount\n",
    "        self.action = action\n",
    "        # we don't need the success flag anymore\n",
    "        self.logs = [] # we add the logs\n",
    "\n",
    "    class Action(Enum):\n",
    "        DEPOSIT = 0\n",
    "        WITHDRAW = 1\n",
    "\n",
    "    def invoke(self):\n",
    "        if self.action == self.Action.DEPOSIT:\n",
    "            self.account.deposit(self.amount)\n",
    "            success = True\n",
    "        elif self.action == self.Action.WITHDRAW:\n",
    "            success = self.account.withdraw(self.amount)\n",
    "\n",
    "        # Add to logs\n",
    "        if success:\n",
    "            self.logs.append(self.action)\n",
    "\n",
    "    def undo(self):\n",
    "        if not self.logs: # We no longer have to rely on success\n",
    "            return\n",
    "        most_recent_user_action = self.logs.pop()\n",
    "        if most_recent_user_action == self.Action.WITHDRAW:\n",
    "            self.account.deposit(self.amount)\n",
    "            self.action = self.Action.DEPOSIT\n",
    "        elif most_recent_user_action == self.Action.DEPOSIT:\n",
    "            self.account.withdraw(self.amount)\n",
    "            self.action = self.Action.WITHDRAW"
   ]
  },
  {
   "cell_type": "code",
   "execution_count": 22,
   "id": "bb2cce99",
   "metadata": {},
   "outputs": [
    {
     "name": "stdout",
     "output_type": "stream",
     "text": [
      "> Init\n",
      "Balance = 0\n",
      "> Add +100\n",
      "Deposited 100, balance = 100\n",
      "Balance = 100\n",
      "> Undo\n",
      "Withdrew 100, balance = 0\n",
      "Balance = 0\n",
      "> Fixed: Undo once again\n",
      "Balance = 0\n",
      "> Wee! We have the entire history of you\n",
      "Balance = 0\n",
      "> We don't go beyond what we know\n",
      "Balance = 0\n",
      "> Withdraw 500\n",
      "Withdrew 500, balance = -500\n",
      "Balance = -500\n",
      "> Withdraw too much\n",
      "Balance = -500\n"
     ]
    }
   ],
   "source": [
    "ba = BankAccount()\n",
    "print(\"> Init\")\n",
    "print(ba)\n",
    "\n",
    "print(\"> Add +100\")\n",
    "cmd = BankAccountCommand(ba, BankAccountCommand.Action.DEPOSIT, 100)\n",
    "cmd.invoke()\n",
    "print(ba)\n",
    "\n",
    "print(\"> Undo\")\n",
    "cmd.undo()\n",
    "print(ba)\n",
    "\n",
    "# Fixed broken undo\n",
    "print(\"> Fixed: Undo once again\")\n",
    "cmd.undo()\n",
    "print(ba)\n",
    "\n",
    "# But now we cycle thorugh\n",
    "print(\"> Wee! We have the entire history of you\")\n",
    "cmd.undo()\n",
    "print(ba)\n",
    "\n",
    "# Even if we go too far\n",
    "print(\"> We don't go beyond what we know\")\n",
    "cmd.undo()\n",
    "print(ba)\n",
    "\n",
    "print(\"> Withdraw 500\")\n",
    "illegal_cmd = BankAccountCommand(ba, BankAccountCommand.Action.WITHDRAW, 500)\n",
    "illegal_cmd.invoke()\n",
    "print(ba)\n",
    "\n",
    "print(\"> Withdraw too much\")\n",
    "illegal_cmd = BankAccountCommand(ba, BankAccountCommand.Action.WITHDRAW, 5000)\n",
    "illegal_cmd.invoke()\n",
    "print(ba)"
   ]
  },
  {
   "cell_type": "markdown",
   "id": "0415e2d1",
   "metadata": {},
   "source": [
    "(Thanks to [Niyas Mohammed](https://github.com/niazangels) for [his code snippet](https://gist.github.com/niazangels/a90778ae7f94501111144c7cbba72d63))"
   ]
  }
 ],
 "metadata": {
  "kernelspec": {
   "display_name": ".venv",
   "language": "python",
   "name": "python3"
  },
  "language_info": {
   "codemirror_mode": {
    "name": "ipython",
    "version": 3
   },
   "file_extension": ".py",
   "mimetype": "text/x-python",
   "name": "python",
   "nbconvert_exporter": "python",
   "pygments_lexer": "ipython3",
   "version": "3.12.10"
  }
 },
 "nbformat": 4,
 "nbformat_minor": 5
}
