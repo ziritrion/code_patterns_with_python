{
 "cells": [
  {
   "cell_type": "markdown",
   "id": "dd95dfdc",
   "metadata": {},
   "source": [
    "# Composite Command\n",
    "\n",
    "> aka Macro aka Composite Design Pattern"
   ]
  },
  {
   "cell_type": "markdown",
   "id": "6f7e2d88",
   "metadata": {},
   "source": [
    "We will continue the scenario from the previous lesson. This time, we'll try to implement money transfers between 2 accounts.\n",
    "\n",
    "We could try to create 2 commands, one for the withdrawal of money from one account and another for the deposit to the other account, but this approach is failure-prone. Before showing why, let's first import our old code:"
   ]
  },
  {
   "cell_type": "code",
   "execution_count": 1,
   "id": "03d9243d",
   "metadata": {},
   "outputs": [],
   "source": [
    "# We import all of the previous code:\n",
    "from abc import ABC, abstractmethod\n",
    "from enum import Enum\n",
    "\n",
    "class BankAccount:\n",
    "    OVERDRAFT_LIMIT = -500\n",
    "\n",
    "    def __init__(self, balance=0):\n",
    "        self.balance = balance\n",
    "\n",
    "    def deposit(self, amount):\n",
    "        self.balance += amount\n",
    "        print(f'Deposited {amount}, balance = {self.balance}')\n",
    "\n",
    "    def withdraw(self, amount):\n",
    "        if self.balance - amount >= BankAccount.OVERDRAFT_LIMIT:\n",
    "            self.balance -= amount\n",
    "            print(f'Withdrew {amount}, balance = {self.balance}')\n",
    "            return True\n",
    "        return False\n",
    "\n",
    "    def __str__(self):\n",
    "        return f'Balance = {self.balance}'\n",
    "\n",
    "class Command(ABC):\n",
    "    def invoke(self):\n",
    "        pass\n",
    "\n",
    "    def undo(self):\n",
    "        pass\n",
    "\n",
    "class BankAccountCommand(Command):\n",
    "    def __init__(self, account, action, amount):\n",
    "        self.amount = amount\n",
    "        self.action = action\n",
    "        self.account = account\n",
    "        self.success = None\n",
    "\n",
    "    class Action(Enum):\n",
    "        DEPOSIT = 0\n",
    "        WITHDRAW = 1\n",
    "\n",
    "    def invoke(self):\n",
    "        if self.action == self.Action.DEPOSIT:\n",
    "            self.account.deposit(self.amount)\n",
    "            self.success = True\n",
    "        elif self.action == self.Action.WITHDRAW:\n",
    "            self.success = self.account.withdraw(self.amount)\n",
    "\n",
    "    def undo(self):\n",
    "        if not self.success:\n",
    "            return\n",
    "        if self.action == self.Action.DEPOSIT:\n",
    "            self.account.withdraw(self.amount)\n",
    "        elif self.action == self.Action.WITHDRAW:\n",
    "            self.account.deposit(self.amount)"
   ]
  },
  {
   "cell_type": "markdown",
   "id": "fdb43c9a",
   "metadata": {},
   "source": [
    "Before implementing the transfer, we'll try to perform 2 separate deposits on a bank account as a previous step to performing a transfer. We will run the commands one after another and see what happens. We want to perform both of these commands as a single command, so we'll create a special **composite command** that will consist of a list of commands:"
   ]
  },
  {
   "cell_type": "code",
   "execution_count": 2,
   "id": "758d4976",
   "metadata": {},
   "outputs": [],
   "source": [
    "class CompositeBankAccountCommand(Command, list):\n",
    "    def __init__(self, items=[]):\n",
    "        super().__init__()\n",
    "        for i in items:\n",
    "            self.append(i)\n",
    "\n",
    "    def invoke(self):\n",
    "        for x in self:\n",
    "            x.invoke()\n",
    "\n",
    "    def undo(self):\n",
    "        for x in reversed(self): # we need to reverse our command list in order to undo all of its elements in order\n",
    "            x.undo()"
   ]
  },
  {
   "cell_type": "code",
   "execution_count": null,
   "id": "29b643ec",
   "metadata": {},
   "outputs": [
    {
     "name": "stdout",
     "output_type": "stream",
     "text": [
      "Balance = 0\n",
      "---\n",
      "Deposited 100, balance = 100\n",
      "Deposited 50, balance = 150\n",
      "Balance = 150\n",
      "---\n",
      "Withdrew 50, balance = 100\n",
      "Withdrew 100, balance = 0\n",
      "Balance = 0\n"
     ]
    }
   ],
   "source": [
    "# 2 separate deposits using a single composite command\n",
    "ba = BankAccount()\n",
    "deposit1 = BankAccountCommand(ba, BankAccountCommand.Action.DEPOSIT, 100)\n",
    "deposit2 = BankAccountCommand(ba, BankAccountCommand.Action.DEPOSIT, 50)\n",
    "composite = CompositeBankAccountCommand([deposit1, deposit2])\n",
    "\n",
    "print(ba)\n",
    "print('---')\n",
    "composite.invoke()\n",
    "print(ba)\n",
    "print('---')\n",
    "composite.undo()\n",
    "print(ba)"
   ]
  },
  {
   "cell_type": "markdown",
   "id": "505f981b",
   "metadata": {},
   "source": [
    "This code seems to be working fine. Now let's simulate a transfer between accounts with a composite command that will withdraw from one account and deposit into the other:"
   ]
  },
  {
   "cell_type": "code",
   "execution_count": 9,
   "id": "1cab851f",
   "metadata": {},
   "outputs": [
    {
     "name": "stdout",
     "output_type": "stream",
     "text": [
      "ba1: Balance = 100 ba2: Balance = 0\n",
      "---\n",
      "Withdrew 100, balance = 0\n",
      "Deposited 100, balance = 100\n",
      "ba1: Balance = 0 ba2: Balance = 100\n",
      "---\n",
      "Withdrew 100, balance = 0\n",
      "Deposited 100, balance = 100\n",
      "ba1: Balance = 100 ba2: Balance = 0\n"
     ]
    }
   ],
   "source": [
    "ba1 = BankAccount(100)\n",
    "ba2 = BankAccount()\n",
    "\n",
    "amount = 100\n",
    "wc = BankAccountCommand(ba1, BankAccountCommand.Action.WITHDRAW, amount)\n",
    "dc = BankAccountCommand(ba2, BankAccountCommand.Action.DEPOSIT, amount)\n",
    "\n",
    "transfer = CompositeBankAccountCommand([wc, dc])\n",
    "\n",
    "print('ba1:', ba1, 'ba2:', ba2)\n",
    "print('---')\n",
    "transfer.invoke()\n",
    "print('ba1:', ba1, 'ba2:', ba2)\n",
    "print('---')\n",
    "transfer.undo()\n",
    "print('ba1:', ba1, 'ba2:', ba2)"
   ]
  },
  {
   "cell_type": "markdown",
   "id": "5af5f0fb",
   "metadata": {},
   "source": [
    "Once again, our code seems to be working fine, but actually it does not, because we can force invalid account balances by trying to transfer money that the accounts don't have. Let's see how:"
   ]
  },
  {
   "cell_type": "code",
   "execution_count": 10,
   "id": "957f101c",
   "metadata": {},
   "outputs": [
    {
     "name": "stdout",
     "output_type": "stream",
     "text": [
      "ba1: Balance = 100 ba2: Balance = 0\n",
      "---\n",
      "Deposited 1000, balance = 1000\n",
      "ba1: Balance = 100 ba2: Balance = 1000\n",
      "---\n",
      "Withdrew 1000, balance = 0\n",
      "ba1: Balance = 100 ba2: Balance = 0\n"
     ]
    }
   ],
   "source": [
    "ba1 = BankAccount(100)\n",
    "ba2 = BankAccount()\n",
    "\n",
    "amount = 1000  # we try to transfer more money than what's in the account\n",
    "wc = BankAccountCommand(ba1, BankAccountCommand.Action.WITHDRAW, amount)\n",
    "dc = BankAccountCommand(ba2, BankAccountCommand.Action.DEPOSIT, amount)\n",
    "\n",
    "transfer = CompositeBankAccountCommand([wc, dc])\n",
    "\n",
    "print('ba1:', ba1, 'ba2:', ba2)\n",
    "print('---')\n",
    "transfer.invoke()\n",
    "print('ba1:', ba1, 'ba2:', ba2)  # end up in incorrect state\n",
    "print('---')\n",
    "transfer.undo()\n",
    "print('ba1:', ba1, 'ba2:', ba2)"
   ]
  },
  {
   "cell_type": "markdown",
   "id": "5f6d7f32",
   "metadata": {},
   "source": [
    "If the first bank account only had $100, how is it possible that it transferred $1k to the second bank account? And why does the first bank account still have $100 after supposedly transferring that much money?\n",
    "\n",
    "Our `BankAccountCommand` still has the success flag, but our `CompositeBankAccountCommand` isn't aware of them, and it so happened that in this last cell, the first action (`withdraw`) failed but the second action (`deposit`) was not aware of this, so it just went ahead and performed the action.\n",
    "\n",
    "In order to fix this we need a way to implement a dependency between commands. We will move the success flag from `BankAccountCommand` to the `Command` base class modify `BankAccountCommand` to call its superclass:"
   ]
  },
  {
   "cell_type": "code",
   "execution_count": 12,
   "id": "b7df32d4",
   "metadata": {},
   "outputs": [],
   "source": [
    "class Command(ABC):\n",
    "    def __init__(self):\n",
    "        self.success = False # we assume that a command always fails unless we explicitly say otherwise\n",
    "    def invoke(self):\n",
    "        pass\n",
    "    def undo(self):\n",
    "        pass\n",
    "\n",
    "class BankAccountCommand(Command):\n",
    "    def __init__(self, account, action, amount):\n",
    "        super().__init__() # We make sure that we initialize the flag from the superclass\n",
    "        self.amount = amount\n",
    "        self.action = action\n",
    "        self.account = account\n",
    "    class Action(Enum):\n",
    "        DEPOSIT = 0\n",
    "        WITHDRAW = 1\n",
    "    def invoke(self):\n",
    "        if self.action == self.Action.DEPOSIT:\n",
    "            self.account.deposit(self.amount)\n",
    "            self.success = True\n",
    "        elif self.action == self.Action.WITHDRAW:\n",
    "            self.success = self.account.withdraw(self.amount)\n",
    "    def undo(self):\n",
    "        if not self.success:\n",
    "            return\n",
    "        if self.action == self.Action.DEPOSIT:\n",
    "            self.account.withdraw(self.amount)\n",
    "        elif self.action == self.Action.WITHDRAW:\n",
    "            self.account.deposit(self.amount)\n",
    "\n",
    "# We don't need to do any changes to this class, but we need to run the code again in order to have it work as expected\n",
    "class CompositeBankAccountCommand(Command, list):\n",
    "    def __init__(self, items=[]):\n",
    "        super().__init__()\n",
    "        for i in items:\n",
    "            self.append(i)\n",
    "    def invoke(self):\n",
    "        for x in self:\n",
    "            x.invoke()\n",
    "    def undo(self):\n",
    "        for x in reversed(self):\n",
    "            x.undo()"
   ]
  },
  {
   "cell_type": "markdown",
   "id": "cd89f06d",
   "metadata": {},
   "source": [
    "Since `CompositeBankAccountCommand` inherits from `Command` and it already calls `super().__init__()` when initializing, we don't need to make any modifications to it.\n",
    "\n",
    "With all of this in place, we're just missing the last part: managing the flags from our composite command. We'll create a new specific `MoneyTransferCommand` class that will inherit from `CompositeBankAccountCommand` and will take care of flag management:"
   ]
  },
  {
   "cell_type": "code",
   "execution_count": 18,
   "id": "64ae1fdf",
   "metadata": {},
   "outputs": [],
   "source": [
    "class MoneyTransferCommand(CompositeBankAccountCommand):\n",
    "    def __init__(self, from_acct, to_acct, amount):\n",
    "        \"\"\"We call super.init with a list of a withdrawal and deposit with the amount we want\"\"\"\n",
    "        super().__init__([\n",
    "            BankAccountCommand(from_acct, BankAccountCommand.Action.WITHDRAW, amount),\n",
    "            BankAccountCommand(to_acct, BankAccountCommand.Action.DEPOSIT, amount)\n",
    "        ])\n",
    "        \n",
    "    def invoke(self):\n",
    "        ok = True # flag to determine whether the previous action actually succeeded\n",
    "        for cmd in self:\n",
    "            if ok:\n",
    "                cmd.invoke()\n",
    "                ok = cmd.success\n",
    "            else:\n",
    "                cmd.success = False\n",
    "        self.success = ok # we store whether or not the full composite command succeeded"
   ]
  },
  {
   "cell_type": "markdown",
   "id": "2769fbe7",
   "metadata": {},
   "source": [
    "This composite command will make sure that if one of the commands fails, all subsequent commands in the list will be flagged as failed as well.\n",
    "\n",
    "We can now test our code and see how it works by recreating our previous 2 transfer examples:"
   ]
  },
  {
   "cell_type": "code",
   "execution_count": 19,
   "id": "74897540",
   "metadata": {},
   "outputs": [
    {
     "name": "stdout",
     "output_type": "stream",
     "text": [
      "ba1: Balance = 100 ba2: Balance = 0\n",
      "---\n",
      "Withdrew 100, balance = 0\n",
      "Deposited 100, balance = 100\n",
      "ba1: Balance = 0 ba2: Balance = 100\n",
      "---\n",
      "Withdrew 100, balance = 0\n",
      "Deposited 100, balance = 100\n",
      "ba1: Balance = 100 ba2: Balance = 0\n",
      "True\n"
     ]
    }
   ],
   "source": [
    "# valid transfer\n",
    "ba1 = BankAccount(100)\n",
    "ba2 = BankAccount()\n",
    "\n",
    "amount = 100\n",
    "\n",
    "transfer = MoneyTransferCommand(ba1, ba2, amount)\n",
    "\n",
    "print('ba1:', ba1, 'ba2:', ba2)\n",
    "print('---')\n",
    "transfer.invoke()\n",
    "print('ba1:', ba1, 'ba2:', ba2)\n",
    "print('---')\n",
    "transfer.undo()\n",
    "print('ba1:', ba1, 'ba2:', ba2)\n",
    "print(transfer.success)"
   ]
  },
  {
   "cell_type": "code",
   "execution_count": 20,
   "id": "ce88fe9f",
   "metadata": {},
   "outputs": [
    {
     "name": "stdout",
     "output_type": "stream",
     "text": [
      "ba1: Balance = 100 ba2: Balance = 0\n",
      "---\n",
      "ba1: Balance = 100 ba2: Balance = 0\n",
      "---\n",
      "ba1: Balance = 100 ba2: Balance = 0\n",
      "False\n"
     ]
    }
   ],
   "source": [
    "# illegal transfer\n",
    "ba1 = BankAccount(100)\n",
    "ba2 = BankAccount()\n",
    "\n",
    "amount = 1000\n",
    "\n",
    "transfer = MoneyTransferCommand(ba1, ba2, amount)\n",
    "\n",
    "print('ba1:', ba1, 'ba2:', ba2)\n",
    "print('---')\n",
    "transfer.invoke()\n",
    "print('ba1:', ba1, 'ba2:', ba2)\n",
    "print('---')\n",
    "transfer.undo()\n",
    "print('ba1:', ba1, 'ba2:', ba2)\n",
    "print(transfer.success)"
   ]
  },
  {
   "cell_type": "markdown",
   "id": "46975ab5",
   "metadata": {},
   "source": [
    "And that's how a composite command works: by creating a list of commands and providing the additional means for controlling each step of the chain."
   ]
  }
 ],
 "metadata": {
  "kernelspec": {
   "display_name": ".venv",
   "language": "python",
   "name": "python3"
  },
  "language_info": {
   "codemirror_mode": {
    "name": "ipython",
    "version": 3
   },
   "file_extension": ".py",
   "mimetype": "text/x-python",
   "name": "python",
   "nbconvert_exporter": "python",
   "pygments_lexer": "ipython3",
   "version": "3.12.10"
  }
 },
 "nbformat": 4,
 "nbformat_minor": 5
}
