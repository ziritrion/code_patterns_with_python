{
 "cells": [
  {
   "cell_type": "markdown",
   "id": "4c6c1774",
   "metadata": {},
   "source": [
    "# Classic (OOP) Decorators\n",
    "\n",
    "> Augmenting classes with other classes"
   ]
  },
  {
   "cell_type": "markdown",
   "id": "31f70248",
   "metadata": {},
   "source": [
    "The classic implementation of Decorators is building a class that augments the functionality of another class.\n",
    "\n",
    "Let's return to the `Shape` base class scenario and its multiple implementations:"
   ]
  },
  {
   "cell_type": "code",
   "execution_count": 1,
   "id": "b447926e",
   "metadata": {},
   "outputs": [],
   "source": [
    "from abc import ABC\n",
    "\n",
    "class Shape(ABC):\n",
    "    def __str__(self):\n",
    "        return ''\n",
    "\n",
    "class Circle(Shape):\n",
    "    def __init__(self, radius=0.0):\n",
    "        self.radius = radius\n",
    "\n",
    "    def resize(self, factor):\n",
    "        self.radius *= factor\n",
    "\n",
    "    def __str__(self):\n",
    "        return f'A circle of radius {self.radius}'\n",
    "\n",
    "class Square(Shape):\n",
    "    def __init__(self, side):\n",
    "        self.side = side\n",
    "\n",
    "    def __str__(self):\n",
    "        return f'A square with side {self.side}'"
   ]
  },
  {
   "cell_type": "markdown",
   "id": "7839b2b8",
   "metadata": {},
   "source": [
    "Now, let's try to decorate our shapes by adding color to them. We'll create a `ColoredShape` class that will augment our shapes by giving them color; it will inherit from `Shape` so that it can work with all of our implementations:"
   ]
  },
  {
   "cell_type": "code",
   "execution_count": 2,
   "id": "afb7480a",
   "metadata": {},
   "outputs": [],
   "source": [
    "class ColoredShape(Shape):\n",
    "    def __init__(self, shape, color): # we need to specify which shape we're coloring\n",
    "        self.shape = shape\n",
    "        self.color = color\n",
    "\n",
    "    def __str__(self):\n",
    "        return f'{self.shape} has the color {self.color}'"
   ]
  },
  {
   "cell_type": "markdown",
   "id": "2cac50a7",
   "metadata": {},
   "source": [
    "Let's see it in action:"
   ]
  },
  {
   "cell_type": "code",
   "execution_count": 3,
   "id": "f966576b",
   "metadata": {},
   "outputs": [
    {
     "name": "stdout",
     "output_type": "stream",
     "text": [
      "A circle of radius 2\n",
      "A circle of radius 2 has the color red\n"
     ]
    }
   ],
   "source": [
    "circle = Circle(2)\n",
    "print(circle)\n",
    "\n",
    "red_circle = ColoredShape(circle, \"red\")\n",
    "print(red_circle)"
   ]
  },
  {
   "cell_type": "markdown",
   "id": "691abbf5",
   "metadata": {},
   "source": [
    "We have now augmented the circle with an additional class (a **decorator**), thus we have stuck to the Open-Closed Principle because we have not modified the `Circle` class.\n",
    "\n",
    "We can actually combine several decorators on top of a particular class. We will now create an additional `TransparentShape` decorator:"
   ]
  },
  {
   "cell_type": "code",
   "execution_count": 4,
   "id": "27f41aed",
   "metadata": {},
   "outputs": [],
   "source": [
    "class TransparentShape(Shape):\n",
    "    def __init__(self, shape, transparency):\n",
    "        self.shape = shape\n",
    "        self.transparency = transparency\n",
    "\n",
    "    def __str__(self):\n",
    "        return f'{self.shape} has {self.transparency * 100.0}% transparency'"
   ]
  },
  {
   "cell_type": "markdown",
   "id": "6a6c7a97",
   "metadata": {},
   "source": [
    "Now let's combine our decorators:"
   ]
  },
  {
   "cell_type": "code",
   "execution_count": 5,
   "id": "1e932023",
   "metadata": {},
   "outputs": [
    {
     "name": "stdout",
     "output_type": "stream",
     "text": [
      "A circle of radius 2\n",
      "A circle of radius 2 has the color red\n",
      "A circle of radius 2 has the color red has 50.0% transparency\n"
     ]
    }
   ],
   "source": [
    "circle = Circle(2)\n",
    "print(circle)\n",
    "\n",
    "red_circle = ColoredShape(circle, \"red\")\n",
    "print(red_circle)\n",
    "\n",
    "red_half_transparent_square = TransparentShape(red_circle, 0.5)\n",
    "print(red_half_transparent_square)"
   ]
  },
  {
   "cell_type": "markdown",
   "id": "b0d79507",
   "metadata": {},
   "source": [
    "However, be aware that nothing is preventing us from applying the same decorator twice:"
   ]
  },
  {
   "cell_type": "code",
   "execution_count": 6,
   "id": "44f8d7fb",
   "metadata": {},
   "outputs": [
    {
     "name": "stdout",
     "output_type": "stream",
     "text": [
      "A circle of radius 3 has the color red has the color blue\n"
     ]
    }
   ],
   "source": [
    "mixed = ColoredShape(ColoredShape(Circle(3), 'red'), 'blue')\n",
    "print(mixed)"
   ]
  },
  {
   "cell_type": "markdown",
   "id": "40b7a276",
   "metadata": {},
   "source": [
    "This is probably not the behavior we want. We can control this by adding a condition to `ColoredShape`:"
   ]
  },
  {
   "cell_type": "code",
   "execution_count": 7,
   "id": "c8ed3d2a",
   "metadata": {},
   "outputs": [
    {
     "ename": "Exception",
     "evalue": "Cannot apply ColoredDecorator twice",
     "output_type": "error",
     "traceback": [
      "\u001b[31m---------------------------------------------------------------------------\u001b[39m",
      "\u001b[31mException\u001b[39m                                 Traceback (most recent call last)",
      "\u001b[36mCell\u001b[39m\u001b[36m \u001b[39m\u001b[32mIn[7]\u001b[39m\u001b[32m, line 12\u001b[39m\n\u001b[32m      9\u001b[39m     \u001b[38;5;28;01mdef\u001b[39;00m\u001b[38;5;250m \u001b[39m\u001b[34m__str__\u001b[39m(\u001b[38;5;28mself\u001b[39m):\n\u001b[32m     10\u001b[39m         \u001b[38;5;28;01mreturn\u001b[39;00m \u001b[33mf\u001b[39m\u001b[33m'\u001b[39m\u001b[38;5;132;01m{\u001b[39;00m\u001b[38;5;28mself\u001b[39m.shape\u001b[38;5;132;01m}\u001b[39;00m\u001b[33m has the color \u001b[39m\u001b[38;5;132;01m{\u001b[39;00m\u001b[38;5;28mself\u001b[39m.color\u001b[38;5;132;01m}\u001b[39;00m\u001b[33m'\u001b[39m\n\u001b[32m---> \u001b[39m\u001b[32m12\u001b[39m mixed = \u001b[43mColoredShape\u001b[49m\u001b[43m(\u001b[49m\u001b[43mColoredShape\u001b[49m\u001b[43m(\u001b[49m\u001b[43mCircle\u001b[49m\u001b[43m(\u001b[49m\u001b[32;43m3\u001b[39;49m\u001b[43m)\u001b[49m\u001b[43m,\u001b[49m\u001b[43m \u001b[49m\u001b[33;43m'\u001b[39;49m\u001b[33;43mred\u001b[39;49m\u001b[33;43m'\u001b[39;49m\u001b[43m)\u001b[49m\u001b[43m,\u001b[49m\u001b[43m \u001b[49m\u001b[33;43m'\u001b[39;49m\u001b[33;43mblue\u001b[39;49m\u001b[33;43m'\u001b[39;49m\u001b[43m)\u001b[49m\n\u001b[32m     13\u001b[39m \u001b[38;5;28mprint\u001b[39m(mixed)\n",
      "\u001b[36mCell\u001b[39m\u001b[36m \u001b[39m\u001b[32mIn[7]\u001b[39m\u001b[32m, line 5\u001b[39m, in \u001b[36mColoredShape.__init__\u001b[39m\u001b[34m(self, shape, color)\u001b[39m\n\u001b[32m      2\u001b[39m \u001b[38;5;28;01mdef\u001b[39;00m\u001b[38;5;250m \u001b[39m\u001b[34m__init__\u001b[39m(\u001b[38;5;28mself\u001b[39m, shape, color):\n\u001b[32m      3\u001b[39m     \u001b[38;5;66;03m# we make sure that we cannot apply the same decorator twice\u001b[39;00m\n\u001b[32m      4\u001b[39m     \u001b[38;5;28;01mif\u001b[39;00m \u001b[38;5;28misinstance\u001b[39m(shape, ColoredShape):\n\u001b[32m----> \u001b[39m\u001b[32m5\u001b[39m         \u001b[38;5;28;01mraise\u001b[39;00m \u001b[38;5;167;01mException\u001b[39;00m(\u001b[33m'\u001b[39m\u001b[33mCannot apply ColoredDecorator twice\u001b[39m\u001b[33m'\u001b[39m)\n\u001b[32m      6\u001b[39m     \u001b[38;5;28mself\u001b[39m.shape = shape\n\u001b[32m      7\u001b[39m     \u001b[38;5;28mself\u001b[39m.color = color\n",
      "\u001b[31mException\u001b[39m: Cannot apply ColoredDecorator twice"
     ]
    }
   ],
   "source": [
    "class ColoredShape(Shape):\n",
    "    def __init__(self, shape, color):\n",
    "        # we make sure that we cannot apply the same decorator twice\n",
    "        if isinstance(shape, ColoredShape):\n",
    "            raise Exception('Cannot apply ColoredDecorator twice')\n",
    "        self.shape = shape\n",
    "        self.color = color\n",
    "\n",
    "    def __str__(self):\n",
    "        return f'{self.shape} has the color {self.color}'\n",
    "    \n",
    "mixed = ColoredShape(ColoredShape(Circle(3), 'red'), 'blue')\n",
    "print(mixed)"
   ]
  },
  {
   "cell_type": "markdown",
   "id": "f6d02b65",
   "metadata": {},
   "source": [
    "However, we could still bypass this condition if we were to do something like applying a `TransparentShape` decorator to a `ColoredShape`decorator to a `TransparentShape` decorator. It's actually very hard to catch these situations.\n",
    "\n",
    "So this is the basic implementation of a classic Decorator in typical Object-Oriented Programming: a class which takes the decorated object as an argument and adds extra functionality.\n",
    "\n",
    "Note however that the decorator doesn't allow us to access the underlying object: when we apply the `ColoderShape` decorator to `Circle`, we cannot access the `resize` method anymore because `ColoredShape` is of type `Shape` rather than `Circle`."
   ]
  }
 ],
 "metadata": {
  "kernelspec": {
   "display_name": ".venv",
   "language": "python",
   "name": "python3"
  },
  "language_info": {
   "codemirror_mode": {
    "name": "ipython",
    "version": 3
   },
   "file_extension": ".py",
   "mimetype": "text/x-python",
   "name": "python",
   "nbconvert_exporter": "python",
   "pygments_lexer": "ipython3",
   "version": "3.12.9"
  }
 },
 "nbformat": 4,
 "nbformat_minor": 5
}
