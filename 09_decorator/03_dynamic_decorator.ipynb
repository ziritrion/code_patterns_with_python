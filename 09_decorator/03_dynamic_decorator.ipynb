{
 "cells": [
  {
   "cell_type": "markdown",
   "id": "0268971c",
   "metadata": {},
   "source": [
    "# Dynamic decorator\n",
    "\n",
    "> Overcoming the classic decorator's limitations"
   ]
  },
  {
   "cell_type": "markdown",
   "id": "dc5d519e",
   "metadata": {},
   "source": [
    "In the previous lesson we saw that the decorated object could not access the methods of the original object.\n",
    "\n",
    "We could replicate every single interface member inside the decorator but that's impractical. What we can do instead is automate this process by means of a **dynamic decorator**.\n",
    "\n",
    "In this scenario we're going to create a class that deals with writing files, and we'll add some logging capabilities. We will initialize the class with a file.\n",
    "\n",
    "What we are going to do however is treat the class as if it were a file: our class should mimic the behavior of a file, and we will add the logging capabilities additionally. For simplicity, we will only implement a single file method ([`writelines`](https://www.w3schools.com/python/ref_file_writelines.asp)), but you can use your imagination for the rest. Our implementation will simply call the original `writelines` method and add some logging.\n",
    "\n",
    "However, we still want our class to behave like a file, which means that we would have to implement every single file method. Instead, we will redirect all attribute requests to the underlying file within our class by overriding `__getattr__`, `__setattr__` and `__delattr__`."
   ]
  },
  {
   "cell_type": "code",
   "execution_count": 1,
   "id": "f860a974",
   "metadata": {},
   "outputs": [],
   "source": [
    "class FileWithLogging:\n",
    "    def __init__(self, file):\n",
    "        self.file = file\n",
    "\n",
    "    def writelines(self, strings):\n",
    "        \"\"\"Our implemented file method with logging\"\"\"\n",
    "        self.file.writelines(strings)\n",
    "        print(f'wrote {len(strings)} lines')\n",
    "\n",
    "    def __getattr__(self, item):\n",
    "        return getattr(self.__dict__['file'], item)\n",
    "\n",
    "    def __setattr__(self, key, value):\n",
    "        if key == 'file':\n",
    "            self.__dict__[key] = value\n",
    "        else:\n",
    "            setattr(self.__dict__['file'], key, value)\n",
    "\n",
    "    def __delattr__(self, item):\n",
    "        #delattr(self.__dict__['file'], item)\n",
    "        delattr(self.file, item)\n",
    "\n",
    "    # def __iter__(self):\n",
    "    #     return self.file.__iter__()\n",
    "\n",
    "    # def __next__(self):\n",
    "    #     return self.file.__next__()"
   ]
  },
  {
   "cell_type": "markdown",
   "id": "f522266f",
   "metadata": {},
   "source": [
    "Here's what's happening in the code above:\n",
    "* `__getattr__` is the getter: we simply call `getattr` with the file object and the attribute we want to recover from it.\n",
    "* `__setattr__` is the setter: here we actually want to check whether we're trying to change the handle of the file (thereby replacing the file itself) or we're trying to modify a specific attribute within the file.\n",
    "* `__delattr__` is the deleter: we simply call `delattr` with the file object and the attribute we want to delete.\n",
    "* Both `__iter__` and `__next__` are used to make our file both iterable and an iterator, which is required for files. However, we can access both of these methods from `__getattr__`, so it's not necessary to implement them.\n",
    "\n",
    "By implementing these 3 methods, we can access every single attribute and method of our file, thus saving us a lot of work.\n",
    "\n",
    "As an additional note, you might recall that `__dict__` is a special attribute that all Python objects contain. Accessing `self.__dict__['file']` is identical to accessing `self.file` in most cases, but since we're overriding the getter, setter and deleter, we have to be very careful with some specific side effects:\n",
    "* `self.file = value` is syntactic sugar for `self.__setattr__('file', value)`. If we try to replace line 15 with the simplified `self.file = value`, we would cause infinite recursion because we'd keep calling `__setattr__` recursively. The current line bypasses calling `__setattr__`.\n",
    "* The line 11 could be simplified with `getattr(self.file, item)` but only because we're initializing our objext with a file; if `self.file` did not exist, it would cause another infinite recursion scenario because Python would try to call `__getattr__('file')` if it could not find `self.file`, which would trigget another `getattr(self.file, item)`, and so on. `getattr(self.__dict__['file'], item)` bypasses calling `__getattr__`; if Python doesn't find `__dict__['file']` it would simply raise a KeyError.\n",
    "* The issues above do not affect `__delattr__`, so we include a simplified version for easier reading.\n",
    "\n",
    "Let's test our dynamic decorator:"
   ]
  },
  {
   "cell_type": "code",
   "execution_count": null,
   "id": "e1e8ee48",
   "metadata": {},
   "outputs": [
    {
     "name": "stdout",
     "output_type": "stream",
     "text": [
      "wrote 2 lines\n"
     ]
    }
   ],
   "source": [
    "file = FileWithLogging(open('hello.txt', 'w'))\n",
    "file.writelines(['hello', 'world']) # Our implementation of writelines with logging\n",
    "file.write('testing') # method from the file itself\n",
    "file.close() # another method from the file itself"
   ]
  },
  {
   "cell_type": "markdown",
   "id": "1a9bd033",
   "metadata": {},
   "source": [
    "Running the code above will generate a `hello.txt` file with `helloworldtesting` as its contents.\n",
    "\n",
    "Dynamic decorators are great for very easily building decorators over types with large APIs that you don't want to prox over yourself. However, keep in mind that they may cause a performance penalty due to all of the additional calls on top of the original ones from the original object."
   ]
  }
 ],
 "metadata": {
  "kernelspec": {
   "display_name": ".venv",
   "language": "python",
   "name": "python3"
  },
  "language_info": {
   "codemirror_mode": {
    "name": "ipython",
    "version": 3
   },
   "file_extension": ".py",
   "mimetype": "text/x-python",
   "name": "python",
   "nbconvert_exporter": "python",
   "pygments_lexer": "ipython3",
   "version": "3.12.9"
  }
 },
 "nbformat": 4,
 "nbformat_minor": 5
}
