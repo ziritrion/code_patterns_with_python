{
 "cells": [
  {
   "cell_type": "markdown",
   "id": "624a186f",
   "metadata": {},
   "source": [
    "# Python Functional Decorators\n",
    "\n",
    "> Understanding Python's specific Decorator implementation"
   ]
  },
  {
   "cell_type": "markdown",
   "id": "ef338ac7",
   "metadata": {},
   "source": [
    "Python's built-in implementation of the decorator pattern is known as a **functional decorator**, which is different from the general-purpose decorator seen in books like [Design Patterns](https://en.wikipedia.org/wiki/Design_Patterns).\n",
    "\n",
    "Let's create a function that simulates some work:"
   ]
  },
  {
   "cell_type": "code",
   "execution_count": null,
   "id": "3997c1f9",
   "metadata": {},
   "outputs": [],
   "source": [
    "import time\n",
    "\n",
    "def some_op():\n",
    "  print('Starting op')\n",
    "  time.sleep(1) # simulating work\n",
    "  print('We are done')\n",
    "  return 123"
   ]
  },
  {
   "cell_type": "markdown",
   "id": "2d7b8e8c",
   "metadata": {},
   "source": [
    "Now we want to measure how long it takes to perform this work.\n",
    "\n",
    "We can write a functional wrapper, which takes a function as a parameter and then uses it to perform time measurements:\n",
    "1. We create an \"outer\" function that takes another function as a parameter.\n",
    "2. This function defines another \"inner\" function within which wraps around the passed function. In our use case, we will start a timer, call the passed function and then stop the timer.\n",
    "3. The outer functions returns the inner function as an object."
   ]
  },
  {
   "cell_type": "code",
   "execution_count": 2,
   "id": "78ec009f",
   "metadata": {},
   "outputs": [],
   "source": [
    "def time_it(func):\n",
    "  def wrapper():\n",
    "    start = time.time()\n",
    "    result = func()\n",
    "    end = time.time()\n",
    "    print(f'{func.__name__} took {int((end-start)*1000)}ms')\n",
    "    return result\n",
    "  return wrapper"
   ]
  },
  {
   "cell_type": "markdown",
   "id": "889207a2",
   "metadata": {},
   "source": [
    "We can now use our wrapper with our original function like this:"
   ]
  },
  {
   "cell_type": "code",
   "execution_count": 3,
   "id": "a8f185d5",
   "metadata": {},
   "outputs": [
    {
     "name": "stdout",
     "output_type": "stream",
     "text": [
      "Starting op\n",
      "We are done\n",
      "some_op took 1000ms\n"
     ]
    },
    {
     "data": {
      "text/plain": [
       "123"
      ]
     },
     "execution_count": 3,
     "metadata": {},
     "output_type": "execute_result"
    }
   ],
   "source": [
    "time_it(some_op)()"
   ]
  },
  {
   "cell_type": "markdown",
   "id": "02a8485a",
   "metadata": {},
   "source": [
    "Python provides a special syntax to apply the wrapper to the function every time it's called:"
   ]
  },
  {
   "cell_type": "code",
   "execution_count": 4,
   "id": "38c28349",
   "metadata": {},
   "outputs": [],
   "source": [
    "@time_it # decorator\n",
    "def some_op():\n",
    "  print('Starting op')\n",
    "  time.sleep(1)\n",
    "  print('We are done')\n",
    "  return 123"
   ]
  },
  {
   "cell_type": "markdown",
   "id": "cdfdc9dc",
   "metadata": {},
   "source": [
    "The `@wrapper_name` syntax is a **Python decorator**. We can now simply call `some_op` directly and it will be wrapped with `time_it`'s functionality."
   ]
  },
  {
   "cell_type": "code",
   "execution_count": 5,
   "id": "18fc31f2",
   "metadata": {},
   "outputs": [
    {
     "name": "stdout",
     "output_type": "stream",
     "text": [
      "Starting op\n",
      "We are done\n",
      "some_op took 1004ms\n"
     ]
    },
    {
     "data": {
      "text/plain": [
       "123"
      ]
     },
     "execution_count": 5,
     "metadata": {},
     "output_type": "execute_result"
    }
   ],
   "source": [
    "some_op()"
   ]
  },
  {
   "cell_type": "markdown",
   "id": "22f03cd2",
   "metadata": {},
   "source": [
    "We get the same output.\n",
    "\n",
    "Python's decorators are **functional decorators** because they are specifically designed to work with functions, as seen above.\n",
    "\n",
    "In the following lessons we'll see additional implementations of the Decorator pattern."
   ]
  }
 ],
 "metadata": {
  "kernelspec": {
   "display_name": ".venv",
   "language": "python",
   "name": "python3"
  },
  "language_info": {
   "codemirror_mode": {
    "name": "ipython",
    "version": 3
   },
   "file_extension": ".py",
   "mimetype": "text/x-python",
   "name": "python",
   "nbconvert_exporter": "python",
   "pygments_lexer": "ipython3",
   "version": "3.12.9"
  }
 },
 "nbformat": 4,
 "nbformat_minor": 5
}
