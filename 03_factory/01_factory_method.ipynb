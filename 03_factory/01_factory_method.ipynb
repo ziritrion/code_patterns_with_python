{
 "cells": [
  {
   "cell_type": "markdown",
   "metadata": {},
   "source": [
    "# Factory Pattern\n",
    "\n",
    "> A component responsible solely for the wholesale (not piecewise) creation of objects."
   ]
  },
  {
   "cell_type": "markdown",
   "metadata": {},
   "source": [
    "For this scenario, we will imagine a coordinate system. Let's begin by defining a point in a cartesian coordinate system:"
   ]
  },
  {
   "cell_type": "code",
   "execution_count": 3,
   "metadata": {},
   "outputs": [],
   "source": [
    "class Point:\n",
    "    def __init__(self, x, y):\n",
    "        self.x = x\n",
    "        self.y = y"
   ]
  },
  {
   "cell_type": "markdown",
   "metadata": {},
   "source": [
    "Now we want to support a polar coordinate system as well. Maybe we could define a sepparate `__init__`?"
   ]
  },
  {
   "cell_type": "code",
   "execution_count": 4,
   "metadata": {},
   "outputs": [],
   "source": [
    "class Point:\n",
    "    def __init__(self, x, y):\n",
    "        self.x = x\n",
    "        self.y = y\n",
    "\n",
    "    def __init__(self, rho, theta):\n",
    "        self.rho = rho\n",
    "        self.theta = theta"
   ]
  },
  {
   "cell_type": "markdown",
   "metadata": {},
   "source": [
    "The solution above would just overwrite the firt `__init__` with the second one! We need another solution.\n",
    "\n",
    "We could maybe pass an argument to define which coordinate system we want to use and create generic properties for our class. Something like this:"
   ]
  },
  {
   "cell_type": "code",
   "execution_count": 5,
   "metadata": {},
   "outputs": [],
   "source": [
    "from enum import Enum\n",
    "from math import *\n",
    "\n",
    "class CoordinateSystem(Enum):\n",
    "    CARTESIAN = 1\n",
    "    POLAR = 2\n",
    "\n",
    "class Point:\n",
    "    def __init__(self, a, b, system=CoordinateSystem.CARTESIAN): # We use cartesian system by default\n",
    "        if system == CoordinateSystem.CARTESIAN:\n",
    "            self.x = a\n",
    "            self.y = b\n",
    "        elif system == CoordinateSystem.POLAR:\n",
    "            # We convert the polar coordinates to cartesian\n",
    "            self.x = a * sin(b)\n",
    "            self.y = a * cos(b)"
   ]
  },
  {
   "cell_type": "markdown",
   "metadata": {},
   "source": [
    "In order to add a new coordinate system to our class we would first need to augment `CoordinateSystem` and then change our `__init__` method, which is just painful (you need to map `a` and `b` to whatever your coordinate system uses) and also breaks the Open-Closed Principle.\n",
    "\n",
    "We will instead use **Factory methods**, which happen to be explicit in which coordinate system they will use. These methods will become our API to create points:"
   ]
  },
  {
   "cell_type": "code",
   "execution_count": 6,
   "metadata": {},
   "outputs": [],
   "source": [
    "class Point:    \n",
    "    def __init__(self, x, y):\n",
    "        \"\"\"We will use the cartesian system as our base system\"\"\"\n",
    "        self.x = x\n",
    "        self.y = y\n",
    "    \n",
    "    def __str__(self):\n",
    "        return f'x: {self.x}, y: {self.y}'\n",
    "\n",
    "    @staticmethod\n",
    "    def new_cartesian_point(x, y):\n",
    "        \"\"\"Our first factor is the easiest one because it matches the base definition of our Point class\"\"\"\n",
    "        return Point(x, y)\n",
    "    \n",
    "    @staticmethod\n",
    "    def new_polar_point(rho, theta):\n",
    "        \"\"\"With this factory we convert the polar coordinates to cartesian. Note that the arguments are rho and theta, not x and y; this makes the method easier to understand.\"\"\"\n",
    "        return Point(rho * sin(theta), rho * cos(theta))"
   ]
  },
  {
   "cell_type": "markdown",
   "metadata": {},
   "source": [
    "Let's see our factories in action:"
   ]
  },
  {
   "cell_type": "code",
   "execution_count": 7,
   "metadata": {},
   "outputs": [
    {
     "name": "stdout",
     "output_type": "stream",
     "text": [
      "x: 2, y: 3 x: 0.9092974268256817, y: -0.4161468365471424\n"
     ]
    }
   ],
   "source": [
    "p = Point(2,3)\n",
    "p2 = Point.new_polar_point(1,2)\n",
    "print(p, p2)"
   ]
  },
  {
   "cell_type": "markdown",
   "metadata": {},
   "source": [
    "In a way, our factory methods are simply renamed `__init__` methods that make things easier to understand."
   ]
  }
 ],
 "metadata": {
  "kernelspec": {
   "display_name": ".venv",
   "language": "python",
   "name": "python3"
  },
  "language_info": {
   "codemirror_mode": {
    "name": "ipython",
    "version": 3
   },
   "file_extension": ".py",
   "mimetype": "text/x-python",
   "name": "python",
   "nbconvert_exporter": "python",
   "pygments_lexer": "ipython3",
   "version": "3.12.9"
  }
 },
 "nbformat": 4,
 "nbformat_minor": 2
}
