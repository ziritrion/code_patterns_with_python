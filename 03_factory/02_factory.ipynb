{
 "cells": [
  {
   "cell_type": "markdown",
   "metadata": {},
   "source": [
    "# Factory\n",
    "\n",
    "> Implementing the Single Responsibility Principle / Separation of concerns."
   ]
  },
  {
   "cell_type": "markdown",
   "metadata": {},
   "source": [
    "Following the scenario from the previous lesson: once we get too many factory methods inside a class, it might make sense to move them out of the class and group them into a separate entity.\n",
    "\n",
    "We will now create a new class called `PointFactory` that contains the factories we created previously."
   ]
  },
  {
   "cell_type": "code",
   "execution_count": 1,
   "metadata": {},
   "outputs": [],
   "source": [
    "# This cell contains the same code as the previous lesson, but the factories have been removed.\n",
    "\n",
    "from enum import Enum\n",
    "from math import *\n",
    "\n",
    "class CoordinateSystem(Enum):\n",
    "    CARTESIAN = 1\n",
    "    POLAR = 2\n",
    "\n",
    "class Point:\n",
    "    def __init__(self, x, y):\n",
    "        self.x = x\n",
    "        self.y = y\n",
    "    \n",
    "    def __str__(self):\n",
    "        return f'x: {self.x}, y: {self.y}'\n",
    "    "
   ]
  },
  {
   "cell_type": "code",
   "execution_count": 2,
   "metadata": {},
   "outputs": [],
   "source": [
    "# And here we have our new Factory, with the factories that were previously inside Point.\n",
    "\n",
    "class PointFactory:\n",
    "    @staticmethod\n",
    "    def new_cartesian_point(x, y):\n",
    "        return Point(x, y)\n",
    "\n",
    "    @staticmethod\n",
    "    def new_polar_point(rho, theta):\n",
    "        return Point(rho * sin(theta), rho * cos(theta))"
   ]
  },
  {
   "cell_type": "markdown",
   "metadata": {},
   "source": [
    "The way to use our new Factory is very similar to the code we used previously, but we simply call the method inside the Factory class to create a polar point:"
   ]
  },
  {
   "cell_type": "code",
   "execution_count": 3,
   "metadata": {},
   "outputs": [
    {
     "name": "stdout",
     "output_type": "stream",
     "text": [
      "x: 2, y: 3 x: 0.9092974268256817, y: -0.4161468365471424\n"
     ]
    }
   ],
   "source": [
    "p = Point(2,3)\n",
    "p2 = PointFactory.new_polar_point(1,2)\n",
    "print(p, p2)"
   ]
  },
  {
   "cell_type": "markdown",
   "metadata": {},
   "source": [
    "You may have noted that our Factory heavily depends on the initializer of the `Point` class, which may cause issues if the initializer for that class were to change. We could try to reduce this dependency by creating something like:\n",
    "\n",
    "```python\n",
    "class PointFactory:\n",
    "    @staticmethod\n",
    "    def new_cartesian_point(x, y):\n",
    "        p = Point()\n",
    "        p.x = x\n",
    "        p,y = y\n",
    "        return p\n",
    "    \n",
    "    #...\n",
    "```\n",
    "\n",
    "But this isn't a critical issue in this instance because there is an intrinsic relationship between the factory and the object that is actually getting constructed.\n",
    "\n",
    "Now let's talk about discoverability: as it currently stands, the user may not be aware that the Factory exists because the user looks at the `Point` class and sees an initializer that already provides an instance, so the user may think that you can only initialize a Point with cartesian coordinates.\n",
    "\n",
    "There isn't much we can do about this issue; we can always point out that the Factory exists in the documentation.\n",
    "\n",
    "One more thing: we have defined our Factory as a separate class, but we could also define it as a class inside our `Point` class. This is typically done in other programming languages but it's not as common in Python; the initializer is always going to be public anyway because there is no way to make it private. But for the sake of completeness, let's move our Factory inside the base class:"
   ]
  },
  {
   "cell_type": "code",
   "execution_count": 4,
   "metadata": {},
   "outputs": [],
   "source": [
    "class Point:\n",
    "    def __init__(self, x, y):\n",
    "        self.x = x\n",
    "        self.y = y\n",
    "    \n",
    "    def __str__(self):\n",
    "        return f'x: {self.x}, y: {self.y}'\n",
    "\n",
    "    class PointFactory:\n",
    "        \"\"\"\n",
    "        We don't need to make the methods static anymore because the behavior doesn't change.\n",
    "        However, we need to add back the 'self' as a param for our factory methods.\n",
    "        \"\"\"\n",
    "        def new_cartesian_point(self, x, y): \n",
    "            return Point(x, y)\n",
    "\n",
    "        def new_polar_point(self, rho, theta):\n",
    "            return Point(rho * sin(theta), rho * cos(theta))"
   ]
  },
  {
   "cell_type": "markdown",
   "metadata": {},
   "source": [
    "And we would now use it like this:"
   ]
  },
  {
   "cell_type": "code",
   "execution_count": 5,
   "metadata": {},
   "outputs": [
    {
     "name": "stdout",
     "output_type": "stream",
     "text": [
      "x: 2, y: 3 x: 0.9092974268256817, y: -0.4161468365471424\n"
     ]
    }
   ],
   "source": [
    "p = Point(2,3)\n",
    "p2 = Point.PointFactory().new_polar_point(1,2) # note that we're calling Point first.\n",
    "print(p, p2)"
   ]
  },
  {
   "cell_type": "markdown",
   "metadata": {},
   "source": [
    "The main motivation to do this is in scenarios where our Factories store some sort of ***state***. In our example, maybe we want to create separate factories; a point factory which operates normally and a point factory with a bias value that gets added when initialized from polar, for example. This wouldn't be possible with static factory methods because we would need non static elements to perform the calculations.\n",
    "\n",
    "If you don't want your factories static but you want `PointFactory` to act in a static fashion, we can add this at the end of the `Point` class:"
   ]
  },
  {
   "cell_type": "code",
   "execution_count": 6,
   "metadata": {},
   "outputs": [],
   "source": [
    "class Point:\n",
    "    def __init__(self, x, y):\n",
    "        self.x = x\n",
    "        self.y = y\n",
    "    \n",
    "    def __str__(self):\n",
    "        return f'x: {self.x}, y: {self.y}'\n",
    "\n",
    "    class PointFactory:\n",
    "        def new_cartesian_point(self, x, y): \n",
    "            return Point(x, y)\n",
    "\n",
    "        def new_polar_point(self, rho, theta):\n",
    "            return Point(rho * sin(theta), rho * cos(theta))\n",
    "        \n",
    "    # Add this\n",
    "    factory = PointFactory()"
   ]
  },
  {
   "cell_type": "markdown",
   "metadata": {},
   "source": [
    "Doing this makes it possible to access the Factory with `Point.factory`; essentially making `factory` a singleton instance of sorts of a point factory for our Point object."
   ]
  },
  {
   "cell_type": "code",
   "execution_count": 7,
   "metadata": {},
   "outputs": [
    {
     "name": "stdout",
     "output_type": "stream",
     "text": [
      "x: 2, y: 3 x: 0.9092974268256817, y: -0.4161468365471424\n"
     ]
    }
   ],
   "source": [
    "p = Point(2,3)\n",
    "p2 = Point.factory.new_polar_point(1,2) # calling our factory instance\n",
    "print(p, p2)"
   ]
  }
 ],
 "metadata": {
  "kernelspec": {
   "display_name": ".venv",
   "language": "python",
   "name": "python3"
  },
  "language_info": {
   "codemirror_mode": {
    "name": "ipython",
    "version": 3
   },
   "file_extension": ".py",
   "mimetype": "text/x-python",
   "name": "python",
   "nbconvert_exporter": "python",
   "pygments_lexer": "ipython3",
   "version": "3.12.9"
  }
 },
 "nbformat": 4,
 "nbformat_minor": 2
}
