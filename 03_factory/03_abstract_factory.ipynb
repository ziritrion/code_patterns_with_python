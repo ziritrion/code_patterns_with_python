{
 "cells": [
  {
   "cell_type": "markdown",
   "metadata": {},
   "source": [
    "# Abstract Factory\n",
    "\n",
    "> If you have a hierarchy of types, then you can have a corresponding hierarchy of factories."
   ]
  },
  {
   "cell_type": "markdown",
   "metadata": {},
   "source": [
    "Let's implement a `HotDrink` abstract base class and implement a few hot drinks along."
   ]
  },
  {
   "cell_type": "code",
   "execution_count": 1,
   "metadata": {},
   "outputs": [],
   "source": [
    "from abc import ABC, abstractmethod\n",
    "\n",
    "class HotDrink(ABC):\n",
    "    @abstractmethod\n",
    "    def consume(self):\n",
    "        pass\n",
    "\n",
    "class Tea(HotDrink):\n",
    "    def consume(self):\n",
    "        print('This tea is nice but I\\'d prefer it with milk')\n",
    "\n",
    "class Coffee(HotDrink):\n",
    "    def consume(self):\n",
    "        print('This coffee is delicious')"
   ]
  },
  {
   "cell_type": "markdown",
   "metadata": {},
   "source": [
    "Now let's suppose that preparating any of these drinks is a process sophisticated enough that they merit factories. Just like with `HotDrink`, we can create an abstract base factory class and implement separate factories from it, one for each hot drink implementation:"
   ]
  },
  {
   "cell_type": "code",
   "execution_count": 2,
   "metadata": {},
   "outputs": [],
   "source": [
    "class HotDrinkFactory(ABC):\n",
    "    @abstractmethod\n",
    "    def prepare(self, amount):\n",
    "        pass\n",
    "\n",
    "class TeaFactory(HotDrinkFactory):\n",
    "    def prepare(self, amount):\n",
    "        print(f'Put in tea bag, boil water, pour {amount}ml, enjoy!')\n",
    "        return Tea()\n",
    "\n",
    "\n",
    "class CoffeeFactory(HotDrinkFactory):\n",
    "    def prepare(self, amount):\n",
    "        print(f'Grind some beans, boil water, pour {amount}ml, enjoy!')\n",
    "        return Coffee()"
   ]
  },
  {
   "cell_type": "markdown",
   "metadata": {},
   "source": [
    "So, how do we make a drink? Here's a simple scenario:"
   ]
  },
  {
   "cell_type": "code",
   "execution_count": 3,
   "metadata": {},
   "outputs": [
    {
     "name": "stdout",
     "output_type": "stream",
     "text": [
      "Grind some beans, boil water, pour 50ml, enjoy!\n",
      "This coffee is delicious\n"
     ]
    }
   ],
   "source": [
    "# If you're running this cell in VS Code, you'll get an input prompt at the top of the window when you run this cell\n",
    "\n",
    "def make_drink(type):\n",
    "    if type == 'tea':\n",
    "        return TeaFactory().prepare(200)\n",
    "    elif type == 'coffee':\n",
    "        return CoffeeFactory().prepare(50)\n",
    "    else:\n",
    "        return None\n",
    "\n",
    "entry = input('What kind of drink would you like?')\n",
    "drink = make_drink(entry)\n",
    "drink.consume()"
   ]
  },
  {
   "cell_type": "markdown",
   "metadata": {},
   "source": [
    "As it currently stands, the only thing that the `HotDrinkFactory` is useful for is to mandate an API for our factories.\n",
    "\n",
    "We can organize things a little bit better by creating a separate component to make use of the different factories and stick them into a collection of sorts. Let's call this component `HotDrinkMachine`:"
   ]
  },
  {
   "cell_type": "code",
   "execution_count": 4,
   "metadata": {},
   "outputs": [],
   "source": [
    "from enum import Enum, auto\n",
    "\n",
    "class HotDrinkMachine:\n",
    "    class AvailableDrink(Enum):  # violates OCP\n",
    "        COFFEE = auto()\n",
    "        TEA = auto()\n",
    "    \n",
    "    factories = [] # We store our factory instances here\n",
    "    initialized = False # For making sure that we initialized the factories\n",
    "\n",
    "    def __init__(self):\n",
    "        if not self.initialized:\n",
    "            self.initialized = True\n",
    "            for d in self.AvailableDrink:\n",
    "                name = d.name[0] + d.name[1:].lower() # we convert the enum \"COFFEE\" to just \"ºCoffee\"º\n",
    "                factory_name = name + 'Factory'\n",
    "                factory_instance = eval(factory_name)() # we instantiate the factory...\n",
    "                self.factories.append((name, factory_instance)) # ...and add it to our factories list as a tuple.\n",
    "\n",
    "    # Let's publicize our factories\n",
    "    def make_drink(self):\n",
    "        print('Available drinks:')\n",
    "        for idf, f in enumerate(self.factories):\n",
    "            print(f'{idf} - {f[0]}')\n",
    "\n",
    "        s = input(f'Please pick drink (0-{len(self.factories)-1}): ')\n",
    "        idx = int(s)\n",
    "        s = input(f'Specify amount: ')\n",
    "        amount = int(s)\n",
    "        return self.factories[idx][1].prepare(amount) # the [1] is for accessing the factory instance within the tuple"
   ]
  },
  {
   "cell_type": "markdown",
   "metadata": {},
   "source": [
    "> Note that we would have to modify our enum evey time we add a new drink, which would violate the Open-Closed Principle.\n",
    "\n",
    "We have made our factories available in our new `HotDrinkMachine` class. Let's see it in action:"
   ]
  },
  {
   "cell_type": "code",
   "execution_count": 5,
   "metadata": {},
   "outputs": [
    {
     "name": "stdout",
     "output_type": "stream",
     "text": [
      "Available drinks:\n",
      "0 - Coffee\n",
      "1 - Tea\n",
      "Put in tea bag, boil water, pour 250ml, enjoy!\n",
      "This tea is nice but I'd prefer it with milk\n"
     ]
    }
   ],
   "source": [
    "hdm = HotDrinkMachine()\n",
    "drink = hdm.make_drink()\n",
    "drink.consume()"
   ]
  },
  {
   "cell_type": "markdown",
   "metadata": {},
   "source": [
    "Final note: besides the API mandate, the abstract base factory class doesn't really do anything and we could delete it and refactor our factories to not make use of it, and the code would still continue to work, because Python uses [Duck Typing](https://devopedia.org/duck-typing) and our `factories` list isn't tied to any specific type. However, in other programming languages that use strong typing, you will see the reference to an abstract base class for the factories."
   ]
  }
 ],
 "metadata": {
  "kernelspec": {
   "display_name": ".venv",
   "language": "python",
   "name": "python3"
  },
  "language_info": {
   "codemirror_mode": {
    "name": "ipython",
    "version": 3
   },
   "file_extension": ".py",
   "mimetype": "text/x-python",
   "name": "python",
   "nbconvert_exporter": "python",
   "pygments_lexer": "ipython3",
   "version": "3.12.9"
  }
 },
 "nbformat": 4,
 "nbformat_minor": 2
}
