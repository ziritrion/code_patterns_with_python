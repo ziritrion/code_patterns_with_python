{
 "cells": [
  {
   "cell_type": "markdown",
   "metadata": {},
   "source": [
    "# Monostate\n",
    "\n",
    "> A singleton variation with multiple instances"
   ]
  },
  {
   "cell_type": "markdown",
   "metadata": {},
   "source": [
    "The **Monostate** is a variation of the Singleton pattern that consists of putting all the state of an object into a static variable, but at the same time creating new objects is allowed; all of these new instances will all access the same state.\n",
    "\n",
    "In this example we will create a `CEO` class. Most companies have a single CEO; we will allow them to call the initializer and construct a CEO however many times they want, but every single instance will be referring to the same CEO.\n",
    "\n",
    "In order to accomplish this, our class will have a static variable (the shared state for all objects), and our initializer will assign this state to `__dict__`, a special attribute of every single object in Python that stores the object's writable attributes."
   ]
  },
  {
   "cell_type": "code",
   "execution_count": 10,
   "metadata": {},
   "outputs": [],
   "source": [
    "class CEO:\n",
    "    __shared_state = {\n",
    "        'name': 'Steve',\n",
    "        'age': 55\n",
    "    }\n",
    "    \n",
    "    def __init__(self):\n",
    "        self.__dict__ = self.__shared_state\n",
    "\n",
    "    def __str__(self):\n",
    "        return f'{self.name} is {self.age} years old'\n"
   ]
  },
  {
   "cell_type": "markdown",
   "metadata": {},
   "source": [
    "Let's see how it works:"
   ]
  },
  {
   "cell_type": "code",
   "execution_count": 11,
   "metadata": {},
   "outputs": [
    {
     "name": "stdout",
     "output_type": "stream",
     "text": [
      "Steve is 55 years old\n",
      "Steve is 77 years old\n",
      "Steve is 77 years old\n",
      "Tim is 77 years old, Tim is 77 years old, Tim is 77 years old\n"
     ]
    }
   ],
   "source": [
    "ceo1 = CEO()\n",
    "print(ceo1)\n",
    "\n",
    "ceo1.age = 66\n",
    "\n",
    "ceo2 = CEO()\n",
    "ceo2.age = 77\n",
    "print(ceo1)\n",
    "print(ceo2)\n",
    "\n",
    "ceo2.name = 'Tim'\n",
    "\n",
    "ceo3 = CEO()\n",
    "print(ceo1, ceo2, ceo3, sep=', ')"
   ]
  },
  {
   "cell_type": "markdown",
   "metadata": {},
   "source": [
    "As you can see, modifying the attributes of `ceo2` also modifies the attributes of `ceo1`, because we're actually modifying the attributes of a single object that both variables refer to.\n",
    "\n",
    "Essentially, whenever we create a new `CEO` object, what we're actually doing is creating a copy of the reference to the actual object.\n",
    "\n",
    "we will now do a more generic approach by creating a `Monostate` class that other classes can inherit from in order to make them monostates. This `Monostate` class will also have a static shared state, and we will override the `__new__` method as follows:\n",
    "1. We create a new object by calling the `__new__` method of the superclass. Because we're currently overriding `__new__`, we cannot do something like `super().__new__(cls, *args, **kwargs)` because we do not have an implicit `__class__` variable at this stage (needed for the zero-argument version of `super`), so we use the 2-argument form of `super` instead: the first argument is the class where the method is being defined, and the second is the actual class passed into `__new__`.\n",
    "2. Like in the previous code, we make sure that the `__dict__` property of the object is referencing the static shared state."
   ]
  },
  {
   "cell_type": "code",
   "execution_count": 3,
   "metadata": {},
   "outputs": [],
   "source": [
    "class Monostate:\n",
    "    _shared_state = {}\n",
    "\n",
    "    def __new__(cls, *args, **kwargs):\n",
    "        obj = super(Monostate, cls).__new__(cls, *args, **kwargs)\n",
    "        obj.__dict__ = cls._shared_state\n",
    "        return obj"
   ]
  },
  {
   "cell_type": "markdown",
   "metadata": {},
   "source": [
    "And now we can inherit from `Monostate` to create a monostate class. We will override the initializer in order to define the state."
   ]
  },
  {
   "cell_type": "code",
   "execution_count": 4,
   "metadata": {},
   "outputs": [],
   "source": [
    "class CFO(Monostate):\n",
    "    def __init__(self):\n",
    "        self.name = ''\n",
    "        self.money_managed = 0\n",
    "\n",
    "    def __str__(self):\n",
    "        return f'{self.name} manages ${self.money_managed}bn'"
   ]
  },
  {
   "cell_type": "markdown",
   "metadata": {},
   "source": [
    "Now we can see how we can instantiate several copies of the object which will all share the same state:"
   ]
  },
  {
   "cell_type": "code",
   "execution_count": 8,
   "metadata": {},
   "outputs": [
    {
     "name": "stdout",
     "output_type": "stream",
     "text": [
      "Sheryl manages $1bn\n",
      "Ruth manages $10bn\n",
      "Ruth manages $10bn\n"
     ]
    }
   ],
   "source": [
    "cfo1 = CFO()\n",
    "cfo1.name = 'Sheryl'\n",
    "cfo1.money_managed = 1\n",
    "\n",
    "print(cfo1)\n",
    "\n",
    "cfo2 = CFO()\n",
    "cfo2.name = 'Ruth'\n",
    "cfo2.money_managed = 10\n",
    "print(cfo1, cfo2, sep='\\n')"
   ]
  },
  {
   "cell_type": "markdown",
   "metadata": {},
   "source": [
    "However, it should be noted that this approach isn't practical. The recommended approach is probably by means of a decorator or a metaclass."
   ]
  }
 ],
 "metadata": {
  "kernelspec": {
   "display_name": ".venv",
   "language": "python",
   "name": "python3"
  },
  "language_info": {
   "codemirror_mode": {
    "name": "ipython",
    "version": 3
   },
   "file_extension": ".py",
   "mimetype": "text/x-python",
   "name": "python",
   "nbconvert_exporter": "python",
   "pygments_lexer": "ipython3",
   "version": "3.12.6"
  }
 },
 "nbformat": 4,
 "nbformat_minor": 2
}
