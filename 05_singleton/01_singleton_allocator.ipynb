{
 "cells": [
  {
   "cell_type": "markdown",
   "metadata": {},
   "source": [
    "# Singleton Allocator\n",
    "\n",
    "> Implementing a singleton by rewriting the class allocator."
   ]
  },
  {
   "cell_type": "markdown",
   "metadata": {},
   "source": [
    "An **allocator** is a tool or mechanism used to allocate (reserve), manage, and release memory dynamically during the lifetime of a program.\n",
    "\n",
    "In Python, the `__new__` method is responsible for creating and returning a new instance of the class it belongs to. One of its responsibilities is **allocating memory** for instantiating the class.\n",
    "\n",
    "> Do not confure `__new__` with `__init__`: `__new__` is called first and creates the object, and then `__init__` is called to initialize it.\n",
    "\n",
    "We can override the `__new__` method of a class in order to convert it into a singleton. For this example, let's pretend we're building a database that we only want to load once: "
   ]
  },
  {
   "cell_type": "code",
   "execution_count": 1,
   "metadata": {},
   "outputs": [],
   "source": [
    "class Database:\n",
    "    _instance = None # static instance\n",
    "    \n",
    "    def __new__(cls, *args, **kwargs):\n",
    "        \"\"\"We check whether or not some static instance has already been created, and we either return the newly created instance or the already existing one\"\"\"\n",
    "        if not cls._instance:\n",
    "            # We create a new instance by calling the original __new__ method\n",
    "            cls._instance = super(Database, cls).__new__(cls, *args, **kwargs)\n",
    "        return cls._instance"
   ]
  },
  {
   "cell_type": "markdown",
   "metadata": {},
   "source": [
    "So, we simply control whether an instance already exists or not, and we either create it and return it, or return the previously existing instance.\n",
    "\n",
    "Let's see it in action:"
   ]
  },
  {
   "cell_type": "code",
   "execution_count": 2,
   "metadata": {},
   "outputs": [
    {
     "name": "stdout",
     "output_type": "stream",
     "text": [
      "True\n"
     ]
    }
   ],
   "source": [
    "d1 = Database()\n",
    "d2 = Database()\n",
    "print(d1 == d2)"
   ]
  },
  {
   "cell_type": "markdown",
   "metadata": {},
   "source": [
    "This seems to work, but we may actually encounter some problems when we try to initialize the object. Let's try initializing our database:"
   ]
  },
  {
   "cell_type": "code",
   "execution_count": 5,
   "metadata": {},
   "outputs": [],
   "source": [
    "import random\n",
    "\n",
    "class Database:\n",
    "    _instance = None # static instance\n",
    "    \n",
    "    def __new__(cls, *args, **kwargs):\n",
    "        \"\"\"We check whether or not some static instance has already been created, and we either return the newly created instance or the already existing one\"\"\"\n",
    "        if not cls._instance:\n",
    "            # We create a new instance by calling the original __new__ method\n",
    "            cls._instance = super(Database, cls).__new__(cls, *args, **kwargs)\n",
    "        return cls._instance\n",
    "    \n",
    "    def __init__(self):\n",
    "        self.id = random.randint(1,101)\n",
    "        print(f'Loading a database from file, code {self.id}')"
   ]
  },
  {
   "cell_type": "code",
   "execution_count": 6,
   "metadata": {},
   "outputs": [
    {
     "name": "stdout",
     "output_type": "stream",
     "text": [
      "Loading a database from file, code 60\n",
      "Loading a database from file, code 32\n",
      "True\n"
     ]
    }
   ],
   "source": [
    "d1 = Database()\n",
    "d2 = Database()\n",
    "print(d1 == d2)"
   ]
  },
  {
   "cell_type": "markdown",
   "metadata": {},
   "source": [
    "`__init__` is always called right after `__new__`. Even if we're not creating a second instance and both `d1` and `d2` are referencing the same instance, when we call `Database()` we also call `__new__` and `__init__` is always called automatically afterwards; as a result, our singleton instance is being initialized twice.\n",
    "\n",
    "We need to add some sort of guard in order to prevent this, which we will see in the next lesson."
   ]
  }
 ],
 "metadata": {
  "kernelspec": {
   "display_name": ".venv",
   "language": "python",
   "name": "python3"
  },
  "language_info": {
   "codemirror_mode": {
    "name": "ipython",
    "version": 3
   },
   "file_extension": ".py",
   "mimetype": "text/x-python",
   "name": "python",
   "nbconvert_exporter": "python",
   "pygments_lexer": "ipython3",
   "version": "3.12.6"
  }
 },
 "nbformat": 4,
 "nbformat_minor": 2
}
