{
 "cells": [
  {
   "cell_type": "markdown",
   "metadata": {},
   "source": [
    "# Singleton testing\n",
    "\n",
    "> Dealing with the singleton's problems when unit testing."
   ]
  },
  {
   "cell_type": "markdown",
   "metadata": {},
   "source": [
    "The singleton pattern is considered a \"bad\" design pattern and even the [Gang of Four](https://en.wikipedia.org/wiki/Design_Patterns) considered dropping it from [Design Patterns](https://en.wikipedia.org/wiki/Design_Patterns) because it's usage is almost always a \"design smell\".\n",
    "\n",
    "We will now take a look at the singleton's problems and how they can be solved.\n",
    "\n",
    "For this example we will build a database of capitals and their populations with the metaclass implementation of the singleton. We will use an external txt file to load up the database."
   ]
  },
  {
   "cell_type": "code",
   "execution_count": 1,
   "metadata": {},
   "outputs": [],
   "source": [
    "class Singleton(type):\n",
    "    _instances = {}\n",
    "\n",
    "    def __call__(cls, *args, **kwargs):\n",
    "        if cls not in cls._instances:\n",
    "            cls._instances[cls] = super(Singleton, cls).__call__(*args, **kwargs)\n",
    "        return cls._instances[cls]\n",
    "    \n",
    "class Database(metaclass=Singleton):\n",
    "    def __init__(self):\n",
    "        self.population = {}\n",
    "        f = open('capitals.txt', 'r')\n",
    "        lines = f.readlines()\n",
    "        for i in range(0, len(lines), 2):\n",
    "            self.population[lines[i].strip()] = int(lines[i + 1].strip())\n",
    "        f.close()"
   ]
  },
  {
   "cell_type": "markdown",
   "metadata": {},
   "source": [
    "Now let's create a higher level module which uses the database for something. We will create a record finder that will calculate the total population of several different cities provided by the end user."
   ]
  },
  {
   "cell_type": "code",
   "execution_count": 2,
   "metadata": {},
   "outputs": [],
   "source": [
    "class SingletonRecordFinder:\n",
    "    def total_population(self, cities):\n",
    "        result = 0\n",
    "        for c in cities:\n",
    "            result += Database().population[c]\n",
    "        return result"
   ]
  },
  {
   "cell_type": "markdown",
   "metadata": {},
   "source": [
    "Now let's suppose that we want to test `SingletonRecordFinder`. We will write some unit tests which use it."
   ]
  },
  {
   "cell_type": "code",
   "execution_count": 4,
   "metadata": {},
   "outputs": [],
   "source": [
    "import unittest\n",
    "\n",
    "class SingletonTests(unittest.TestCase):\n",
    "    def test_is_singleton(self):\n",
    "        db = Database()\n",
    "        db2 = Database()\n",
    "        self.assertEqual(db, db2)\n",
    "        \n",
    "    def test_singleton_total_population(self):\n",
    "        \"\"\" This tests on a live database!! \"\"\"\n",
    "        rf = SingletonRecordFinder()\n",
    "        names = ['Seoul', 'Mexico City']\n",
    "        tp = rf.total_population(names)\n",
    "        self.assertEqual(tp, 17500000 + 17400000) # These values could change in the database!!\n",
    "\n",
    "# We cannot run tests in a Jupyter Notebook; uncommenting the following line in a regular script should work\n",
    "#unittest.main()"
   ]
  },
  {
   "cell_type": "markdown",
   "metadata": {},
   "source": [
    "The main issue we're facing is that this test runs on live data because the singleton is forcing us to, and if the data changes, our test would break.\n",
    "\n",
    "We can fix this by feeding some dummy values into a dummy database, and then use that instead. In order to do that, we will have to modify our record finder so that we can configure it with the database we want to use. We will also create the dummy database with dummy fixed values."
   ]
  },
  {
   "cell_type": "code",
   "execution_count": 5,
   "metadata": {},
   "outputs": [],
   "source": [
    "class ConfigurableRecordFinder:\n",
    "    def __init__(self, db):\n",
    "        self.db = db\n",
    "\n",
    "    def total_population(self, cities):\n",
    "        result = 0\n",
    "        for c in cities:\n",
    "            result += self.db.population[c] # Note that we're not calling the Singleton database anymore, but our selected DB\n",
    "        return result\n",
    "\n",
    "class DummyDatabase:\n",
    "    population = {\n",
    "        'alpha': 1,\n",
    "        'beta': 2,\n",
    "        'gamma': 3\n",
    "    }\n",
    "\n",
    "    def get_population(self, name):\n",
    "        return self.population[name]"
   ]
  },
  {
   "cell_type": "markdown",
   "metadata": {},
   "source": [
    "With this, we can modify my tests so that they make use of our configurable record finder and our dummy database:"
   ]
  },
  {
   "cell_type": "code",
   "execution_count": 6,
   "metadata": {},
   "outputs": [],
   "source": [
    "class SingletonTests(unittest.TestCase):\n",
    "    def test_is_singleton(self):\n",
    "        db = Database()\n",
    "        db2 = Database()\n",
    "        self.assertEqual(db, db2)\n",
    "\n",
    "    ddb = DummyDatabase()\n",
    "\n",
    "    def test_dependent_total_population(self):\n",
    "        crf = ConfigurableRecordFinder(self.ddb)\n",
    "        self.assertEqual(\n",
    "            crf.total_population(['alpha', 'beta']),\n",
    "            3\n",
    "        )\n",
    "\n",
    "# We cannot run tests in a Jupyter Notebook; uncommenting the following line in a regular script should work\n",
    "#unittest.main()"
   ]
  },
  {
   "cell_type": "markdown",
   "metadata": {},
   "source": [
    "The main takeaway from this lesson is that we must avoid direct dependencies on singleton classes, and that we should replace these direct dependencies by something else (in this case, by injecting a value into the initializer)."
   ]
  }
 ],
 "metadata": {
  "kernelspec": {
   "display_name": ".venv",
   "language": "python",
   "name": "python3"
  },
  "language_info": {
   "codemirror_mode": {
    "name": "ipython",
    "version": 3
   },
   "file_extension": ".py",
   "mimetype": "text/x-python",
   "name": "python",
   "nbconvert_exporter": "python",
   "pygments_lexer": "ipython3",
   "version": "3.12.6"
  }
 },
 "nbformat": 4,
 "nbformat_minor": 2
}
