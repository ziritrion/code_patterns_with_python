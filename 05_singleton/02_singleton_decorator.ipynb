{
 "cells": [
  {
   "cell_type": "markdown",
   "metadata": {},
   "source": [
    "# Singleton Decorator\n",
    "\n",
    "> Dealing with the initializing problem by using a decorator."
   ]
  },
  {
   "cell_type": "markdown",
   "metadata": {},
   "source": [
    "A **decorator** is a design pattern that we will see in a later lesson, but long story short, it allows us to modify the functionality of a **callable** (any object that implements the `__call__` method, such as regular methods and classes) by wrapping it in another callable; this outer callable is called the decorator, which takes the original callable as an argument and returns a modified version of it.\n",
    "\n",
    "Let's see how to build a decorator for a class that will convert the class into a singleton:"
   ]
  },
  {
   "cell_type": "code",
   "execution_count": 1,
   "metadata": {},
   "outputs": [],
   "source": [
    "def singleton(class_): # 1\n",
    "    instances = {} # 2\n",
    "\n",
    "    def get_instance(*args, **kwargs): # 3\n",
    "        if class_ not in instances:\n",
    "            instances[class_] = class_(*args, **kwargs) # 5\n",
    "        return instances[class_]\n",
    "\n",
    "    return get_instance # 4"
   ]
  },
  {
   "cell_type": "markdown",
   "metadata": {},
   "source": [
    "Let's break the code down:\n",
    "1. Our singleton decorator takes a class as an argument; we will add functionality to it by \"wrapping\" the class.\n",
    "    * In Python, it's a common convention to end a variable name with an underscore if there is a risk of conflict with keywords or built-in names or functions, so the class argument is called `class_`.\n",
    "2. We will keep a dictionary of singleton classes, so that we can keep track of any and all singletons.\n",
    "3. The actual workings of the decorator are defined in an \"inner\" function, which in our case it's called `get_instance`. This inner function does the actual job...\n",
    "4. ...and then, the \"outer\" function (the decorator) simply returns the inner function (but does not call it! It simply returns the function object).\n",
    "5. Our inner function simply checks whether our `instances` dictionary already contains an instance of the class or not; if false, it instantiates the class and adds it to the dictionary and returns the instance, and if true, it simply looks up the instance in the dictionary and returns it.\n",
    "\n",
    "Now that we have a decorator, we can decorate our class that we want to make into a singleton:"
   ]
  },
  {
   "cell_type": "code",
   "execution_count": 2,
   "metadata": {},
   "outputs": [],
   "source": [
    "@singleton\n",
    "class Database:\n",
    "    def __init__(self):\n",
    "        print('Loading database')"
   ]
  },
  {
   "cell_type": "markdown",
   "metadata": {},
   "source": [
    "Let's test it:"
   ]
  },
  {
   "cell_type": "code",
   "execution_count": 3,
   "metadata": {},
   "outputs": [
    {
     "name": "stdout",
     "output_type": "stream",
     "text": [
      "Loading database\n",
      "True\n"
     ]
    }
   ],
   "source": [
    "d1 = Database()\n",
    "d2 = Database()\n",
    "print(d1 == d2)"
   ]
  },
  {
   "cell_type": "markdown",
   "metadata": {},
   "source": [
    "As you can see, we're only calling `__init__` once, thus we have solved the problem we encountered when trying to implement the singleton pattern with the class allocator."
   ]
  }
 ],
 "metadata": {
  "kernelspec": {
   "display_name": ".venv",
   "language": "python",
   "name": "python3"
  },
  "language_info": {
   "codemirror_mode": {
    "name": "ipython",
    "version": 3
   },
   "file_extension": ".py",
   "mimetype": "text/x-python",
   "name": "python",
   "nbconvert_exporter": "python",
   "pygments_lexer": "ipython3",
   "version": "3.12.6"
  }
 },
 "nbformat": 4,
 "nbformat_minor": 2
}
