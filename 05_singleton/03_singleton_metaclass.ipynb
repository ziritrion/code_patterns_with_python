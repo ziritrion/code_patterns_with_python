{
 "cells": [
  {
   "cell_type": "markdown",
   "metadata": {},
   "source": [
    "# Singleton Metaclass\n",
    "\n",
    "> An alternative to decorators which happens to be very similar."
   ]
  },
  {
   "cell_type": "markdown",
   "metadata": {},
   "source": [
    "In Python, a **metaclass** creates and defines the behavior of other classes. They are primarily used in libraries and frameworks that require advanced custom behavior.\n",
    "\n",
    "We can implement a singleton metaclass using very similar code to that of the singleton decorator:"
   ]
  },
  {
   "cell_type": "code",
   "execution_count": 1,
   "metadata": {},
   "outputs": [],
   "source": [
    "class Singleton(type):\n",
    "    \"\"\"Metaclass that creates a Singleton base type when called\"\"\"\n",
    "    _instances = {}\n",
    "\n",
    "    def __call__(cls, *args, **kwargs):\n",
    "        if cls not in cls._instances:\n",
    "            cls._instances[cls] = super(Singleton, cls).__call__(*args, **kwargs)\n",
    "        return cls._instances[cls]"
   ]
  },
  {
   "cell_type": "markdown",
   "metadata": {},
   "source": [
    "> The `__call__` method enables us to call the instances of our class as you'd call regular Python functions.\n",
    "\n",
    "Just like in the decorator, we create a dictionary of instances and we override the `__call__` method in order to check whether an instance already exists in the dictionary (and create it if it doesn't), and then return the instance.\n",
    "\n",
    "Let's see it in action:"
   ]
  },
  {
   "cell_type": "code",
   "execution_count": 2,
   "metadata": {},
   "outputs": [
    {
     "name": "stdout",
     "output_type": "stream",
     "text": [
      "Loading database\n",
      "True\n"
     ]
    }
   ],
   "source": [
    "class Database(metaclass=Singleton):\n",
    "    def __init__(self):\n",
    "        print('Loading database')\n",
    "\n",
    "d1 = Database()\n",
    "d2 = Database()\n",
    "print(d1 == d2)"
   ]
  },
  {
   "cell_type": "markdown",
   "metadata": {},
   "source": [
    "Metaclasses are advanced black magic which is almost never needed, but knowing about them helps us understand how Python works better. You can learn more about metaclasses [in this Medium post](https://medium.com/@miguel.amezola/demystifying-python-metaclasses-understanding-and-harnessing-the-power-of-custom-class-creation-d7dff7b68de8)."
   ]
  }
 ],
 "metadata": {
  "kernelspec": {
   "display_name": ".venv",
   "language": "python",
   "name": "python3"
  },
  "language_info": {
   "codemirror_mode": {
    "name": "ipython",
    "version": 3
   },
   "file_extension": ".py",
   "mimetype": "text/x-python",
   "name": "python",
   "nbconvert_exporter": "python",
   "pygments_lexer": "ipython3",
   "version": "3.12.6"
  }
 },
 "nbformat": 4,
 "nbformat_minor": 2
}
