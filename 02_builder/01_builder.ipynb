{
 "cells": [
  {
   "cell_type": "markdown",
   "metadata": {},
   "source": [
    "# Builder Pattern\n",
    "\n",
    "> When piecewise object construction is complicated, provide an API for doing it succinctly."
   ]
  },
  {
   "cell_type": "markdown",
   "metadata": {},
   "source": [
    "The **Builder Pattern** is great when constructing an object is a complicated multi-step process.\n",
    "\n",
    "Let's suppose we're construcing HTML elements. Let's begin with building a paragraph."
   ]
  },
  {
   "cell_type": "code",
   "execution_count": 14,
   "metadata": {},
   "outputs": [
    {
     "name": "stdout",
     "output_type": "stream",
     "text": [
      "<p>hello</p>\n"
     ]
    }
   ],
   "source": [
    "hello = 'hello'\n",
    "parts = ['<p>', hello, '</p>'] # <p> is the tag por paragraph\n",
    "print(''.join(parts))"
   ]
  },
  {
   "cell_type": "markdown",
   "metadata": {},
   "source": [
    "Easy enough. Let's now construct a HTML list from a list of words."
   ]
  },
  {
   "cell_type": "code",
   "execution_count": 15,
   "metadata": {},
   "outputs": [
    {
     "name": "stdout",
     "output_type": "stream",
     "text": [
      "<ul>\n",
      "  <li>hello</li>\n",
      "  <li>world</li>\n",
      "</ul>\n"
     ]
    }
   ],
   "source": [
    "words = ['hello', 'world']\n",
    "parts = ['<ul>'] # <ul> is the tag for unordered list\n",
    "for w in words:\n",
    "    parts.append(f'  <li>{w}</li>') # <li> is the tag for list item\n",
    "parts.append('</ul>')\n",
    "print('\\n'.join(parts))"
   ]
  },
  {
   "cell_type": "markdown",
   "metadata": {},
   "source": [
    "This code is slightly more complicated. It follows a specific sequence in order to construct the list because we need to make sure that all opening and closing tags are in their correct place, otherwise we would get invalid HTML.\n",
    "\n",
    "We can enforce using the tags in the proper sequence as well as making sure that they are properly closed by oursourcing the process of contructing different chunks of HTML; we can use a structure where each HTML element is represented by a class of some kind."
   ]
  },
  {
   "cell_type": "code",
   "execution_count": 16,
   "metadata": {},
   "outputs": [],
   "source": [
    "class HtmlElement:\n",
    "    indent_size = 2\n",
    "\n",
    "    def __init__(self, name=\"\", text=\"\"):\n",
    "        self.name = name\n",
    "        self.text = text\n",
    "        self.elements = []\n",
    "    \n",
    "    def __str__(self):\n",
    "        return self.__str(0)\n",
    "    \n",
    "    def __str(self, indent):\n",
    "        lines = []\n",
    "        i = ' ' * (indent * self.indent_size)\n",
    "        lines.append(f'{i}<{self.name}>')\n",
    "\n",
    "        if self.text:\n",
    "            i1 = ' ' * ((indent + 1) * self.indent_size)\n",
    "            lines.append(f'{i1}{self.text}')\n",
    "\n",
    "        for e in self.elements:\n",
    "            lines.append(e.__str(indent + 1))\n",
    "\n",
    "        lines.append(f'{i}</{self.name}>')\n",
    "        return '\\n'.join(lines)"
   ]
  },
  {
   "cell_type": "markdown",
   "metadata": {},
   "source": [
    "The `HtmlElement` class contains some expected properties and a way to represent the element as a string (the HTML code). In order to preserve indentation, we create a hidden recursive method `__str()` that takes the indent level as a param and makes sure that evey single element that we print is in the correct indentation level.\n",
    "\n",
    "Now that we have our structure, we will now create a **Builder**, a construct that will take an HTML element and build it up."
   ]
  },
  {
   "cell_type": "code",
   "execution_count": 17,
   "metadata": {},
   "outputs": [],
   "source": [
    "class HtmlBuilder:\n",
    "    def __init__(self, root_name):\n",
    "        self.root_name = root_name # name of the top-level HTML element\n",
    "        self.__root = HtmlElement(root_name) # The actual element is private\n",
    "        \n",
    "    def __str__(self):\n",
    "        return str(self.__root) # for printing the element\n",
    "    \n",
    "    # Let's build the API\n",
    "    def add_child(self, child_name, child_text):\n",
    "        self.__root.elements.append(\n",
    "            HtmlElement(child_name, child_text)\n",
    "        )"
   ]
  },
  {
   "cell_type": "markdown",
   "metadata": {},
   "source": [
    "Now that we have our Builder, let's see it in action:"
   ]
  },
  {
   "cell_type": "code",
   "execution_count": 18,
   "metadata": {},
   "outputs": [
    {
     "name": "stdout",
     "output_type": "stream",
     "text": [
      "Ordinary builder:\n",
      "<ul>\n",
      "  <li>\n",
      "    hello\n",
      "  </li>\n",
      "  <li>\n",
      "    world\n",
      "  </li>\n",
      "</ul>\n"
     ]
    }
   ],
   "source": [
    "builder = HtmlBuilder('ul')\n",
    "builder.add_child('li', 'hello')\n",
    "builder.add_child('li', 'world')\n",
    "print('Ordinary builder:')\n",
    "print(builder)"
   ]
  },
  {
   "cell_type": "markdown",
   "metadata": {},
   "source": [
    "Looks pretty good, but we can improve it by making a ***fluent interface***: an interface that you can chain. Let's update `HtmlBuilder` with a fluent method:"
   ]
  },
  {
   "cell_type": "code",
   "execution_count": 19,
   "metadata": {},
   "outputs": [],
   "source": [
    "class HtmlBuilder:\n",
    "    def __init__(self, root_name):\n",
    "        self.root_name = root_name\n",
    "        self.__root = HtmlElement(root_name)\n",
    "        \n",
    "    def __str__(self):\n",
    "        return str(self.__root)\n",
    "    \n",
    "    # Non-fluent method\n",
    "    def add_child(self, child_name, child_text):\n",
    "        self.__root.elements.append(\n",
    "            HtmlElement(child_name, child_text)\n",
    "        )\n",
    "        \n",
    "    # New and improved fluent method\n",
    "    def add_child_fluent(self, child_name, child_text):\n",
    "        self.__root.elements.append(\n",
    "            HtmlElement(child_name, child_text)\n",
    "        )\n",
    "        return self # this is what makes the method fluent"
   ]
  },
  {
   "cell_type": "markdown",
   "metadata": {},
   "source": [
    "Returning `self` allows you to chain the invocations one after the other. Let's see it in action:"
   ]
  },
  {
   "cell_type": "code",
   "execution_count": 20,
   "metadata": {},
   "outputs": [
    {
     "name": "stdout",
     "output_type": "stream",
     "text": [
      "Ordinary builder:\n",
      "<ul>\n",
      "  <li>\n",
      "    hello\n",
      "  </li>\n",
      "  <li>\n",
      "    world\n",
      "  </li>\n",
      "</ul>\n"
     ]
    }
   ],
   "source": [
    "builder = HtmlBuilder('ul')\n",
    "builder.add_child_fluent('li', 'hello').add_child_fluent('li', 'world')\n",
    "print('Ordinary builder:')\n",
    "print(builder)"
   ]
  },
  {
   "cell_type": "markdown",
   "metadata": {},
   "source": [
    "Let's improve it further by adding a static method to out `HtmlElement` that will allow us to start working with an element object right away and make things easier for the user/client.\n",
    "\n",
    "> This is actually violating the Open-Closed Principle somewhat, but since there is some entanglement between an element and its builder, it shouldn't be an issue as long as you don't split the classes into separate applications."
   ]
  },
  {
   "cell_type": "code",
   "execution_count": 21,
   "metadata": {},
   "outputs": [],
   "source": [
    "class HtmlElement:\n",
    "    indent_size = 2\n",
    "\n",
    "    def __init__(self, name=\"\", text=\"\"):\n",
    "        self.name = name\n",
    "        self.text = text\n",
    "        self.elements = []\n",
    "    \n",
    "    def __str__(self):\n",
    "        return self.__str(0)\n",
    "    \n",
    "    def __str(self, indent):\n",
    "        lines = []\n",
    "        i = ' ' * (indent * self.indent_size)\n",
    "        lines.append(f'{i}<{self.name}>')\n",
    "\n",
    "        if self.text:\n",
    "            i1 = ' ' * ((indent + 1) * self.indent_size)\n",
    "            lines.append(f'{i1}{self.text}')\n",
    "\n",
    "        for e in self.elements:\n",
    "            lines.append(e.__str(indent + 1))\n",
    "\n",
    "        lines.append(f'{i}</{self.name}>')\n",
    "        return '\\n'.join(lines)\n",
    "    \n",
    "    # We create a builder from the element itself\n",
    "    @staticmethod\n",
    "    def create(name):\n",
    "        return HtmlBuilder(name)"
   ]
  },
  {
   "cell_type": "markdown",
   "metadata": {},
   "source": [
    "Now we can instantiate a builder from the `HtmlElement` class itself."
   ]
  },
  {
   "cell_type": "code",
   "execution_count": null,
   "metadata": {},
   "outputs": [
    {
     "name": "stdout",
     "output_type": "stream",
     "text": [
      "Ordinary builder:\n",
      "<ul>\n",
      "  <li>\n",
      "    hello\n",
      "  </li>\n",
      "  <li>\n",
      "    world\n",
      "  </li>\n",
      "</ul>\n"
     ]
    }
   ],
   "source": [
    "builder = HtmlElement.create('ul') # instantiating the builder\n",
    "builder.add_child_fluent('li', 'hello').add_child_fluent('li', 'world')\n",
    "print('Ordinary builder:')\n",
    "print(builder)"
   ]
  }
 ],
 "metadata": {
  "kernelspec": {
   "display_name": ".venv",
   "language": "python",
   "name": "python3"
  },
  "language_info": {
   "codemirror_mode": {
    "name": "ipython",
    "version": 3
   },
   "file_extension": ".py",
   "mimetype": "text/x-python",
   "name": "python",
   "nbconvert_exporter": "python",
   "pygments_lexer": "ipython3",
   "version": "3.12.6"
  }
 },
 "nbformat": 4,
 "nbformat_minor": 2
}
