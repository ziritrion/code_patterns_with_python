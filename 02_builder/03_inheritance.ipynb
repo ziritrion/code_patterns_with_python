{
 "cells": [
  {
   "cell_type": "markdown",
   "metadata": {},
   "source": [
    "# Builder Patter Inheritance\n",
    "\n",
    "> Avoiding violating the Open-Closed Principle by using inheritance."
   ]
  },
  {
   "cell_type": "markdown",
   "metadata": {},
   "source": [
    "In the Facets lesson you might have noticed that, by adding each subbuilder to the builder, we're in violation of OCP.\n",
    "\n",
    "By using inheritance we can avoid this. Let's recreate the `Person` scenario again with a few changes:\n",
    "* We'll add a static method to `Person` to start the builder.\n",
    "* Our new `PersonBuillder` will simply create a new `Person` when initializing."
   ]
  },
  {
   "cell_type": "code",
   "execution_count": 1,
   "metadata": {},
   "outputs": [],
   "source": [
    "class Person:\n",
    "    def __init__(self):\n",
    "        self.name = None\n",
    "        self.position = None\n",
    "        self.date_of_birth = None\n",
    "\n",
    "    def __str__(self):\n",
    "        return f'{self.name} born on {self.date_of_birth} works as a {self.position}'\n",
    "    \n",
    "    @staticmethod\n",
    "    def new():\n",
    "        return PersonBuilder()\n",
    "    \n",
    "class PersonBuilder:\n",
    "    def __init__(self):\n",
    "        self.person = Person()\n",
    "\n",
    "    def build(self):\n",
    "        return self.person"
   ]
  },
  {
   "cell_type": "markdown",
   "metadata": {},
   "source": [
    "Let's now create our subbuilders, but instead of having them all inherit from `PersonBuilder`, let's have them inherit from their previous subbuilders in a chain:"
   ]
  },
  {
   "cell_type": "code",
   "execution_count": null,
   "metadata": {},
   "outputs": [],
   "source": [
    "class PersonInfoBuilder(PersonBuilder): # Inherits from the base class\n",
    "    def called(self, name):\n",
    "        self.person.name = name\n",
    "        return self\n",
    "\n",
    "class PersonJobBuilder(PersonInfoBuilder): # Inherits from the class before...\n",
    "    def works_as_a(self, position):\n",
    "        self.person.position = position\n",
    "        return self\n",
    "\n",
    "class PersonBirthDateBuilder(PersonJobBuilder): # ... and so on in a chain\n",
    "    def born(self, date_of_birth):\n",
    "        self.person.date_of_birth = date_of_birth\n",
    "        return self"
   ]
  },
  {
   "cell_type": "markdown",
   "metadata": {},
   "source": [
    "Notice that we have not modifies `PersonBuilder` to include these new subbuilders. Out latest subbuilder, `PersonBirthDateBuilder`, already has access to everything that the previous subbuilders do, so we can instantiate it and concatenate all the methods available to us:"
   ]
  },
  {
   "cell_type": "code",
   "execution_count": 3,
   "metadata": {},
   "outputs": [
    {
     "name": "stdout",
     "output_type": "stream",
     "text": [
      "Dmitri born on 1/1/1980 works as a quant\n"
     ]
    }
   ],
   "source": [
    "pb = PersonBirthDateBuilder()\n",
    "me = pb\\\n",
    "    .called('Dmitri')\\\n",
    "    .works_as_a('quant')\\\n",
    "    .born('1/1/1980')\\\n",
    "    .build()  # this does NOT work in C#/C++/Java/...\n",
    "print(me)"
   ]
  },
  {
   "cell_type": "markdown",
   "metadata": {},
   "source": [
    "In short: by having subbuilders inherit from other subbuilders we avoid violating OCP."
   ]
  }
 ],
 "metadata": {
  "kernelspec": {
   "display_name": ".venv",
   "language": "python",
   "name": "python3"
  },
  "language_info": {
   "codemirror_mode": {
    "name": "ipython",
    "version": 3
   },
   "file_extension": ".py",
   "mimetype": "text/x-python",
   "name": "python",
   "nbconvert_exporter": "python",
   "pygments_lexer": "ipython3",
   "version": "3.12.6"
  }
 },
 "nbformat": 4,
 "nbformat_minor": 2
}
