{
 "cells": [
  {
   "cell_type": "markdown",
   "id": "906f0012",
   "metadata": {},
   "source": [
    "# Memento: undo and redo\n",
    "\n",
    "> Storing every single state of the system"
   ]
  },
  {
   "cell_type": "markdown",
   "id": "f117b172",
   "metadata": {},
   "source": [
    "One of the interesting things we can do with memento is implementing **undo/redo functionality**, but we need to store every single state of the system as a memento. For some use cases this is not economical because it would take up too much memory, but for others, we can do this and have the entire snapshot of the system.\n",
    "\n",
    "We need a mechanism for storing every memento. In this lesson we will use a list. We will expand `BankAccount` with this list and we will also store an index that will map the current state of `BankAccount` to a memento in the list, so that we can undo and redo to any state.\n",
    "\n",
    "We will also have to modify the `BankAccount`'s methods: `deposit` won't just return a `Memento`, but it will also append it to the state list and update the index."
   ]
  },
  {
   "cell_type": "code",
   "execution_count": 1,
   "metadata": {},
   "outputs": [],
   "source": [
    "class Memento:\n",
    "    \"\"\"No changes\"\"\"\n",
    "    def __init__(self, balance):\n",
    "        self.balance = balance\n",
    "\n",
    "\n",
    "class BankAccount:\n",
    "    def __init__(self, balance=0):\n",
    "        self.balance = balance\n",
    "        self.changes = [Memento(self.balance)] # state list\n",
    "        self.current = 0 # state list index, 0 = initial state\n",
    "\n",
    "    def deposit(self, amount):\n",
    "        self.balance += amount\n",
    "        m = Memento(self.balance)\n",
    "        self.changes.append(m) # append to state list\n",
    "        self.current += 1 # increase the index\n",
    "        return m\n",
    "\n",
    "    def restore(self, memento):\n",
    "        if memento: # guard condition\n",
    "            self.balance = memento.balance\n",
    "            self.changes.append(memento) # append to state list\n",
    "            self.current = len(self.changes)-1 # set index to last position of state list\n",
    "\n",
    "    def __str__(self):\n",
    "        return f'Balance = {self.balance}'"
   ]
  },
  {
   "cell_type": "markdown",
   "id": "dcdc5f82",
   "metadata": {},
   "source": [
    "Note that the `BankAccount` initialization now creates a `Memento` instance which is automatically added as the first element of the state list.\n",
    "\n",
    "The `restore` utility method is a little trickier: we will now assume that `Memento` can be set to `None` (we'll see why soon) and add a guard condition that will only restore the balance if the passed `memento` is an actual memento, then append the memento to the state list just like `deposit` and then set the index to the last position of the list.\n",
    "\n",
    "We will now add the `undo` and `redo` methods to `BankAccount`: \n",
    "\n",
    "* For `undo`, we need to check that `BankAccount` is in any state other than its original state, then select the previous state/memento from the state list and update the balance with the memento's.\n",
    "* `redo` is similar, except that we need to check that `BankAccount` is in any state other than the latest state, then select the next state/memento from the state list and update the balance.\n",
    "\n",
    "Should either `undo` or `redo` faile because their checks fail, they will return `None` (which is why we now assume that `restore` can receive `None` as a memento)."
   ]
  },
  {
   "cell_type": "code",
   "execution_count": 2,
   "id": "945a1a49",
   "metadata": {},
   "outputs": [],
   "source": [
    "class BankAccount:\n",
    "    def __init__(self, balance=0):\n",
    "        self.balance = balance\n",
    "        self.changes = [Memento(self.balance)]\n",
    "        self.current = 0\n",
    "\n",
    "    def deposit(self, amount):\n",
    "        self.balance += amount\n",
    "        m = Memento(self.balance)\n",
    "        self.changes.append(m)\n",
    "        self.current += 1\n",
    "        return m\n",
    "\n",
    "    def restore(self, memento):\n",
    "        if memento:\n",
    "            self.balance = memento.balance\n",
    "            self.changes.append(memento)\n",
    "            self.current = len(self.changes)-1\n",
    "\n",
    "    def __str__(self):\n",
    "        return f'Balance = {self.balance}'\n",
    "\n",
    "    def undo(self):\n",
    "        if self.current > 0:\n",
    "            self.current -= 1 # update index\n",
    "            m = self.changes[self.current]\n",
    "            self.balance = m.balance\n",
    "            return m\n",
    "        return None\n",
    "\n",
    "    def redo(self):\n",
    "        if self.current + 1 < len(self.changes):\n",
    "            self.current += 1\n",
    "            m = self.changes[self.current]\n",
    "            self.balance = m.balance\n",
    "            return m\n",
    "        return None"
   ]
  },
  {
   "cell_type": "markdown",
   "id": "e6d947c6",
   "metadata": {},
   "source": [
    "Let's see our new methods in action:"
   ]
  },
  {
   "cell_type": "code",
   "execution_count": 3,
   "id": "d48dc3bc",
   "metadata": {},
   "outputs": [
    {
     "name": "stdout",
     "output_type": "stream",
     "text": [
      "Balance = 175\n",
      "Undo 1: Balance = 150\n",
      "Undo 2: Balance = 100\n",
      "Redo 1: Balance = 150\n"
     ]
    }
   ],
   "source": [
    "ba = BankAccount(100)\n",
    "ba.deposit(50)\n",
    "ba.deposit(25)\n",
    "print(ba)\n",
    "\n",
    "ba.undo()\n",
    "print(f'Undo 1: {ba}')\n",
    "ba.undo()\n",
    "print(f'Undo 2: {ba}')\n",
    "ba.redo()\n",
    "print(f'Redo 1: {ba}')"
   ]
  }
 ],
 "metadata": {
  "kernelspec": {
   "display_name": ".venv",
   "language": "python",
   "name": "python3"
  },
  "language_info": {
   "codemirror_mode": {
    "name": "ipython",
    "version": 3
   },
   "file_extension": ".py",
   "mimetype": "text/x-python",
   "name": "python",
   "nbconvert_exporter": "python",
   "pygments_lexer": "ipython3",
   "version": "3.12.10"
  }
 },
 "nbformat": 4,
 "nbformat_minor": 5
}
