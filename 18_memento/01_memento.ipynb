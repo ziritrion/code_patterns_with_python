{
 "cells": [
  {
   "cell_type": "markdown",
   "id": "bdb2255b",
   "metadata": {},
   "source": [
    "# Memento\n",
    "\n",
    "> Using snapshots to return to an original state"
   ]
  },
  {
   "cell_type": "markdown",
   "id": "3a25e705",
   "metadata": {},
   "source": [
    "The idea behind the **Memento Design Pattern** is very simple: whenever we change something in the system, we will return a token which will give us a **snapshot** of the current state; we can then use that token to restore the system to that particular state if we need to.\n",
    "\n",
    "We will return to the bank account scenario for this lesson. We will have a `BankAccount` class that has a single `balance` attribute. We want to be able to take snapshots of a `BankAccount`, so we will also create a `Memento` class that will essentially be a copy of `BankAccount`'s attributes but without its methods; this will allows us to copy the **state** of a `BankAccount` and record it in our `Memento`.\n",
    "\n",
    "For the `BankAccount` methods, we will perform whatever action the method is supposed to do and then return a `Memento` instance with that state."
   ]
  },
  {
   "cell_type": "code",
   "execution_count": 1,
   "id": "37b0eea7",
   "metadata": {},
   "outputs": [],
   "source": [
    "class Memento:\n",
    "    def __init__(self, balance):\n",
    "        self.balance = balance\n",
    "\n",
    "class BankAccount:\n",
    "    def __init__(self, balance=0):\n",
    "        self.balance = balance\n",
    "\n",
    "    def deposit(self, amount):\n",
    "        self.balance += amount\n",
    "        return Memento(self.balance)\n",
    "\n",
    "    def restore(self, memento):\n",
    "        self.balance = memento.balance\n",
    "\n",
    "    def __str__(self):\n",
    "        return f'Balance = {self.balance}'"
   ]
  },
  {
   "cell_type": "markdown",
   "id": "77f1feaf",
   "metadata": {},
   "source": [
    "The `restore` method allows us to roll back to the state recorded in the `Memento`: it will simply set the values of `BankAccount` to those stored in the `Memento`.\n",
    "\n",
    "And that's it! Let's try using our code:"
   ]
  },
  {
   "cell_type": "code",
   "execution_count": 2,
   "id": "c7e42481",
   "metadata": {},
   "outputs": [
    {
     "name": "stdout",
     "output_type": "stream",
     "text": [
      "Balance = 175\n",
      "Balance = 150\n",
      "Balance = 175\n"
     ]
    }
   ],
   "source": [
    "ba = BankAccount(100)\n",
    "m1 = ba.deposit(50)\n",
    "m2 = ba.deposit(25)\n",
    "print(ba)\n",
    "\n",
    "# restore to m1\n",
    "ba.restore(m1)\n",
    "print(ba)\n",
    "\n",
    "# restore to m2\n",
    "ba.restore(m2)\n",
    "print(ba)"
   ]
  },
  {
   "cell_type": "markdown",
   "id": "64bcff1e",
   "metadata": {},
   "source": [
    "You may have noticed that there is no `Memento` instance for the `BankAccount`'s initial state. We will see how to handle this issue in the next lesson."
   ]
  }
 ],
 "metadata": {
  "kernelspec": {
   "display_name": ".venv",
   "language": "python",
   "name": "python3"
  },
  "language_info": {
   "codemirror_mode": {
    "name": "ipython",
    "version": 3
   },
   "file_extension": ".py",
   "mimetype": "text/x-python",
   "name": "python",
   "nbconvert_exporter": "python",
   "pygments_lexer": "ipython3",
   "version": "3.12.10"
  }
 },
 "nbformat": 4,
 "nbformat_minor": 5
}
