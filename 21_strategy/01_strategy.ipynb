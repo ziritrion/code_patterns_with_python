{
 "cells": [
  {
   "cell_type": "markdown",
   "id": "a4c3f794",
   "metadata": {},
   "source": [
    "# Strategy\n",
    "\n",
    "> Selecting the system's behavior at run-time"
   ]
  },
  {
   "cell_type": "markdown",
   "id": "b6d647b7",
   "metadata": {},
   "source": [
    "In this scenario we'll implement a simple text processor that will output format in either HTML or Markdown. For simplicity's sake, the only complex element we'll process is a list.\n",
    "\n",
    "We'll begin with the text processor itself. It will have a buffer that will contain all the text. Let's also add a method that will process a collection of items into a list in the appropiate format."
   ]
  },
  {
   "cell_type": "code",
   "execution_count": 1,
   "id": "0e962304",
   "metadata": {},
   "outputs": [],
   "source": [
    "class TextProcessor:\n",
    "    def __init__(self):\n",
    "        self.buffer = []\n",
    "        \n",
    "    def append_list(self, items):\n",
    "        pass # we'll fully implement it later"
   ]
  },
  {
   "cell_type": "markdown",
   "id": "5a16c382",
   "metadata": {},
   "source": [
    "We need to tell the `TextProcessor` the format we want the list to be in. We want to make our solution flexible, so we will define a **strategy** that will be used to process a list.\n",
    "\n",
    "We will define a `ListStrategy` base class as an interface for our strategies. A base class is not required but it's always good practice."
   ]
  },
  {
   "cell_type": "code",
   "execution_count": 2,
   "id": "7ca24883",
   "metadata": {},
   "outputs": [],
   "source": [
    "from abc import ABC\n",
    "\n",
    "class ListStrategy(ABC):\n",
    "    def start(self, buffer):\n",
    "        \"\"\"Appends the start tag of the list to the buffer\"\"\"\n",
    "        pass\n",
    "\n",
    "    def end(self, buffer):\n",
    "        \"\"\"Appends the end tag of the list to the buffer\"\"\"\n",
    "        pass\n",
    "\n",
    "    def add_list_item(self, buffer, item):\n",
    "        \"\"\"Add an item to the buffer with their corresponding tags\"\"\"\n",
    "        pass"
   ]
  },
  {
   "cell_type": "markdown",
   "id": "31c2057f",
   "metadata": {},
   "source": [
    "Let's implement our strategies:\n",
    "* Markdown does not require either start or end tags for lists but it does prefix each item within a list with an asterisk `*`.\n",
    "* HTML needs tags at the start and end of both the list and the elements (start and end tag for each element)."
   ]
  },
  {
   "cell_type": "code",
   "execution_count": 3,
   "id": "b6d24cb3",
   "metadata": {},
   "outputs": [],
   "source": [
    "class MarkdownListStrategy(ListStrategy):\n",
    "    def add_list_item(self, buffer, item):\n",
    "        buffer.append(f' * {item}\\n')\n",
    "\n",
    "class HtmlListStrategy(ListStrategy):\n",
    "    def start(self, buffer):\n",
    "        buffer.append('<ul>\\n')\n",
    "\n",
    "    def end(self, buffer):\n",
    "        buffer.append('</ul>\\n')\n",
    "\n",
    "    def add_list_item(self, buffer, item):\n",
    "        buffer.append(f'  <li>{item}</li>\\n') # note the indentation"
   ]
  },
  {
   "cell_type": "markdown",
   "id": "a629981f",
   "metadata": {},
   "source": [
    "> Note that we could be violating the Interface Segregation Principle by having too many methods in the interface (`MarkdownListStrategy` only uses 1 of the 3 methods), but we're being flexible because in this particular instance this code is useful.\n",
    "\n",
    "We can now go back to the `TextProcessor` class and expand it. We'll use `HtmlListStrategy` by default and we'll store the strategy in the instance.\n",
    "\n",
    "For `append_list`, we'll simply loop through the list and add the tags on each item, as well as making sure that we add the appropiate start/end tags for the list before and after the loop.\n",
    "\n",
    "We'll also create a new `self_output_format` method that will define the output format; we'll be able to change the format dynamically thanks to the **Strategy Design Pattern**. We will need to make use of an enum for the strategies inside this method.\n",
    "\n",
    "Finally, we'll add some utility methods for clearing up the buffer as well as string representation for the `TextProcessor` class."
   ]
  },
  {
   "cell_type": "code",
   "execution_count": null,
   "id": "67f60e80",
   "metadata": {},
   "outputs": [],
   "source": [
    "from enum import Enum, auto\n",
    "\n",
    "class OutputFormat(Enum):\n",
    "    MARKDOWN = auto()\n",
    "    HTML = auto()\n",
    "\n",
    "class TextProcessor:\n",
    "    def __init__(self, list_strategy=HtmlListStrategy()):\n",
    "        self.buffer = []\n",
    "        self.list_strategy = list_strategy\n",
    "        \n",
    "    def append_list(self, items):\n",
    "        self.list_strategy.start(self.buffer)\n",
    "        for item in items:\n",
    "            self.list_strategy.add_list_item(\n",
    "                self.buffer, item\n",
    "            )\n",
    "        self.list_strategy.end(self.buffer)\n",
    "        \n",
    "    def set_output_format(self, format):\n",
    "        \"\"\"Here is where the Strategy Design Pattern magic happens\"\"\"\n",
    "        if format == OutputFormat.MARKDOWN:\n",
    "            self.list_strategy = MarkdownListStrategy()\n",
    "        elif format == OutputFormat.HTML:\n",
    "            self.list_strategy = HtmlListStrategy()\n",
    "            \n",
    "    def clear(self):\n",
    "        self.buffer.clear()\n",
    "\n",
    "    def __str__(self):\n",
    "        return ''.join(self.buffer)"
   ]
  },
  {
   "cell_type": "markdown",
   "id": "a84c67e1",
   "metadata": {},
   "source": [
    "We're now ready to test our code. We'll output a list in a format and then change the format at runtime and output the list again."
   ]
  },
  {
   "cell_type": "code",
   "execution_count": 5,
   "id": "107e8198",
   "metadata": {},
   "outputs": [
    {
     "name": "stdout",
     "output_type": "stream",
     "text": [
      " * foo\n",
      " * bar\n",
      " * baz\n",
      "\n",
      "---\n",
      "<ul>\n",
      "  <li>foo</li>\n",
      "  <li>bar</li>\n",
      "  <li>baz</li>\n",
      "</ul>\n",
      "\n"
     ]
    }
   ],
   "source": [
    "items = ['foo', 'bar', 'baz']\n",
    "\n",
    "tp = TextProcessor()\n",
    "tp.set_output_format(OutputFormat.MARKDOWN)\n",
    "tp.append_list(items)\n",
    "print(tp)\n",
    "\n",
    "print('---')\n",
    "\n",
    "# let's change the output format at runtime\n",
    "tp.set_output_format(OutputFormat.HTML)\n",
    "tp.clear()\n",
    "tp.append_list(items)\n",
    "print(tp)"
   ]
  },
  {
   "cell_type": "markdown",
   "id": "1159b596",
   "metadata": {},
   "source": [
    "What we've seen in this scenario is that we can have a separate piece of code that works a a blueprint for an algorithm (`ListStrategy`) which we can then implement in different ways according to our needs. This is useful in scenarios such as unit testing, where you can test different parts using dummy strategies.\n",
    "\n",
    "> Note that the Strategy design pattern has some similaries to the Factory design pattern: both involve interfaces and classes being selected dynamically. But Factory pattern is meant for creating generic objects and delegating the implementation choice to the factory, whereas the Strategy pattern is meant for changing the behavior at runtime by having a selection of interchangeable algorithms that can be passed to a context object without changing it."
   ]
  }
 ],
 "metadata": {
  "kernelspec": {
   "display_name": ".venv",
   "language": "python",
   "name": "python3"
  },
  "language_info": {
   "codemirror_mode": {
    "name": "ipython",
    "version": 3
   },
   "file_extension": ".py",
   "mimetype": "text/x-python",
   "name": "python",
   "nbconvert_exporter": "python",
   "pygments_lexer": "ipython3",
   "version": "3.12.6"
  }
 },
 "nbformat": 4,
 "nbformat_minor": 5
}
