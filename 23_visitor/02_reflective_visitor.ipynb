{
 "cells": [
  {
   "cell_type": "markdown",
   "id": "3b5391d8",
   "metadata": {},
   "source": [
    "# Visitor: reflective visitor\n",
    "\n",
    "> Improving on the invasive visitor"
   ]
  },
  {
   "cell_type": "markdown",
   "id": "8a8a5911",
   "metadata": {},
   "source": [
    "In the previous lesson we decided to implement printing by adding a `print` method to both of our classes, thereby violating the Open-Closed Principle. Let's remove the method and implement a separate class instead (we will ignore evaluation for now)."
   ]
  },
  {
   "cell_type": "code",
   "execution_count": null,
   "id": "c72131c1",
   "metadata": {},
   "outputs": [],
   "source": [
    "class DoubleExpression:\n",
    "    def __init__(self, value):\n",
    "        self.value = value\n",
    "\n",
    "class AdditionExpression:\n",
    "    def __init__(self, left, right):\n",
    "        self.right = right\n",
    "        self.left = left\n",
    "        \n",
    "class ExpressionPrinter:\n",
    "    \"\"\"Our new class for printing\"\"\"\n",
    "    @staticmethod\n",
    "    def print(e, buffer):\n",
    "        if isinstance(e, DoubleExpression):\n",
    "            buffer.append(str(e.value))\n",
    "        elif isinstance(e, AdditionExpression):\n",
    "            buffer.append('(')\n",
    "            ExpressionPrinter.print(e.left, buffer)\n",
    "            buffer.append('+')\n",
    "            ExpressionPrinter.print(e.right, buffer)\n",
    "            buffer.append(')')"
   ]
  },
  {
   "cell_type": "markdown",
   "id": "657a6f74",
   "metadata": {},
   "source": [
    "`ExpressionPrinter.print` takes 2 arguments: an expression `e` and a `buffer`. Inside the method we need to check the kind of expression we receive in order to know what to add to the buffer; for the specific case of `AdditionExpression`, we add the brackets and the plus sign and recursively call the method for each side.\n",
    "\n",
    "Let's use our new class."
   ]
  },
  {
   "cell_type": "code",
   "execution_count": 2,
   "id": "d0cb572b",
   "metadata": {},
   "outputs": [
    {
     "name": "stdout",
     "output_type": "stream",
     "text": [
      "(1+(2+3))\n"
     ]
    }
   ],
   "source": [
    "# represents 1+(2+3)\n",
    "e = AdditionExpression(\n",
    "    DoubleExpression(1),\n",
    "    AdditionExpression(\n",
    "        DoubleExpression(2),\n",
    "        DoubleExpression(3)\n",
    "    )\n",
    ")\n",
    "buffer = []\n",
    "\n",
    "ExpressionPrinter.print(e, buffer)\n",
    "print(''.join(buffer))"
   ]
  },
  {
   "cell_type": "markdown",
   "id": "4d7058f4",
   "metadata": {},
   "source": [
    "Excellent, we get the same result as before (minus the evaluation, which we are ignoring for now). We now have all of the printing stuff in a separate class and we don't need to modify our expression classes for anything.\n",
    "\n",
    "However, our expression `e` is now missing the `print` method, so we cannot use `e.print(buffer)` anymore, but we can give back the `print` method to all expressions with inheritance: we will create a new `Expression` base class that all other expression classes can inherit from, and then we'll add a new line to the `ExpressionPrinter` class."
   ]
  },
  {
   "cell_type": "code",
   "execution_count": 3,
   "id": "33ed7257",
   "metadata": {},
   "outputs": [],
   "source": [
    "from abc import ABC\n",
    "\n",
    "class Expression(ABC):\n",
    "    \"\"\"Our new and empty base class\"\"\"\n",
    "    pass\n",
    "\n",
    "class DoubleExpression(Expression): # we inherit from Expression now\n",
    "    def __init__(self, value):\n",
    "        self.value = value\n",
    "\n",
    "class AdditionExpression(Expression): # we inherit from Expression now\n",
    "    def __init__(self, left, right):\n",
    "        self.right = right\n",
    "        self.left = left\n",
    "        \n",
    "class ExpressionPrinter:\n",
    "    @staticmethod\n",
    "    def print(e, buffer):\n",
    "        if isinstance(e, DoubleExpression):\n",
    "            buffer.append(str(e.value))\n",
    "        elif isinstance(e, AdditionExpression):\n",
    "            buffer.append('(')\n",
    "            ExpressionPrinter.print(e.left, buffer)\n",
    "            buffer.append('+')\n",
    "            ExpressionPrinter.print(e.right, buffer)\n",
    "            buffer.append(')')\n",
    "\n",
    "    # Here's where the magic happens\n",
    "    Expression.print = lambda self, b: ExpressionPrinter.print(self, b)"
   ]
  },
  {
   "cell_type": "markdown",
   "id": "dfcf7053",
   "metadata": {},
   "source": [
    "The last line inside `ExpressionPrinter` is assigning a new `print` variable to `Expression` which contains a lambda function that invokes `ExpressionPrinter.print` with both the `Expression` instance and the buffer. This makes it possible for us to call `e.print(buffer)` like before without having to explicitly modify any of the classes:"
   ]
  },
  {
   "cell_type": "code",
   "execution_count": 4,
   "id": "fb8b0070",
   "metadata": {},
   "outputs": [
    {
     "name": "stdout",
     "output_type": "stream",
     "text": [
      "(1+(2+3))\n"
     ]
    }
   ],
   "source": [
    "# represents 1+(2+3)\n",
    "e = AdditionExpression(\n",
    "    DoubleExpression(1),\n",
    "    AdditionExpression(\n",
    "        DoubleExpression(2),\n",
    "        DoubleExpression(3)\n",
    "    )\n",
    ")\n",
    "buffer = []\n",
    "\n",
    "# IDE might complain here\n",
    "e.print(buffer)\n",
    "\n",
    "print(''.join(buffer))"
   ]
  },
  {
   "cell_type": "markdown",
   "id": "719ba264",
   "metadata": {},
   "source": [
    "The downside to this approach is that, should you want to add new functionality such as a `SubtractionExpression` class, the `print` methods needs to be updated each time to take the new class into consideration, because otherwise it would be ignored.\n",
    "\n",
    "> Note: in the original course, the teacher refers to `ExpressionPrinter.print` as a \"reflective printer\", because \"in some programming languages, the checking of the type [referring to `isinstance` inside `print`] is a reflective operation\". However, the `Expression.print` assignment from within `ExpressionPrinter` seems to be a form of [monkey-patchin](https://stackoverflow.com/questions/5626193/what-is-monkey-patching); the teacher does not mention this at all in the course."
   ]
  }
 ],
 "metadata": {
  "kernelspec": {
   "display_name": ".venv",
   "language": "python",
   "name": "python3"
  },
  "language_info": {
   "codemirror_mode": {
    "name": "ipython",
    "version": 3
   },
   "file_extension": ".py",
   "mimetype": "text/x-python",
   "name": "python",
   "nbconvert_exporter": "python",
   "pygments_lexer": "ipython3",
   "version": "3.12.6"
  }
 },
 "nbformat": 4,
 "nbformat_minor": 5
}
