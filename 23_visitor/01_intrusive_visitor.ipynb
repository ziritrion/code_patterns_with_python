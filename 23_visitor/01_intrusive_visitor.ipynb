{
 "cells": [
  {
   "cell_type": "markdown",
   "id": "f39700c4",
   "metadata": {},
   "source": [
    "# Visitor: intrusive visitor\n",
    "\n",
    "> A simple but flawed Visitor implementation"
   ]
  },
  {
   "cell_type": "markdown",
   "id": "edffc570",
   "metadata": {},
   "source": [
    "In this scenario we'll work with simple numeric expressions, such as `1+(2+3)`. We want to be able to take this expression in object-oriented format, so that we can print it or evaluate the final value.\n",
    "\n",
    "Let's create the structures for this:"
   ]
  },
  {
   "cell_type": "code",
   "execution_count": 1,
   "id": "bf535ceb",
   "metadata": {},
   "outputs": [],
   "source": [
    "class DoubleExpression:\n",
    "    def __init__(self, value):\n",
    "        self.value = value\n",
    "        \n",
    "class AdditionExpression:\n",
    "    def __init__(self, left, right):\n",
    "        self.right = right\n",
    "        self.left = left"
   ]
  },
  {
   "cell_type": "markdown",
   "id": "392acccf",
   "metadata": {},
   "source": [
    "With the code above we should be able to represent `1+(2+3)` as follows:"
   ]
  },
  {
   "cell_type": "code",
   "execution_count": 2,
   "id": "74fb7b79",
   "metadata": {},
   "outputs": [],
   "source": [
    "# represents 1+(2+3)\n",
    "e = AdditionExpression(\n",
    "    DoubleExpression(1),\n",
    "    AdditionExpression(\n",
    "        DoubleExpression(2),\n",
    "        DoubleExpression(3)\n",
    "    )\n",
    ")"
   ]
  },
  {
   "cell_type": "markdown",
   "id": "d5e49465",
   "metadata": {},
   "source": [
    "Now, how do we print the expression? How do we evaluate it?\n",
    "\n",
    "The simplest way would be to modify both `DoubleExpression` and `AdditionExpression` so that they can print themselves. We can also add an `eval` method to both classes.\n",
    "\n",
    "> Assuming that these classes were already finished, this goes against the Open-Closed Principle."
   ]
  },
  {
   "cell_type": "code",
   "execution_count": 5,
   "id": "4804ca21",
   "metadata": {},
   "outputs": [],
   "source": [
    "class DoubleExpression:\n",
    "    def __init__(self, value):\n",
    "        self.value = value\n",
    "\n",
    "    def print(self, buffer):\n",
    "        buffer.append(str(self.value))\n",
    "        \n",
    "    def eval(self): return self.value\n",
    "        \n",
    "class AdditionExpression:\n",
    "    def __init__(self, left, right):\n",
    "        self.right = right\n",
    "        self.left = left\n",
    "\n",
    "    def print(self, buffer):\n",
    "        buffer.append('(')\n",
    "        self.left.print(buffer)\n",
    "        buffer.append('+')\n",
    "        self.right.print(buffer)\n",
    "        buffer.append(')')\n",
    "        \n",
    "    def eval(self):\n",
    "        return self.left.eval() + self.right.eval()"
   ]
  },
  {
   "cell_type": "markdown",
   "id": "9c8dc9df",
   "metadata": {},
   "source": [
    "Let's print the expression:"
   ]
  },
  {
   "cell_type": "code",
   "execution_count": 6,
   "id": "37f9155b",
   "metadata": {},
   "outputs": [
    {
     "name": "stdout",
     "output_type": "stream",
     "text": [
      "(1+(2+3)) = 6\n"
     ]
    }
   ],
   "source": [
    "# represents 1+(2+3)\n",
    "e = AdditionExpression(\n",
    "    DoubleExpression(1),\n",
    "    AdditionExpression(\n",
    "        DoubleExpression(2),\n",
    "        DoubleExpression(3)\n",
    "    )\n",
    ")\n",
    "buffer = []\n",
    "e.print(buffer)\n",
    "print(''.join(buffer), '=', e.eval())"
   ]
  },
  {
   "cell_type": "markdown",
   "id": "938c676f",
   "metadata": {},
   "source": [
    "While this approach works, it doesn't scale well: it requires lots of additional code for more complex hierarchies and it's hard to manage things such as indentation or bracket policy (omitting them at the beginning, for example).\n",
    "\n",
    "We can think of `buffer` as an object that's actually **visiting** both `AdditionExpression` and `DoubleExpression`, because `buffer` is the element that gets written to in this case. However, the purpose of the **Visitor Design Pattern** is to add further operations to objects **without modifying** them, so we can think of the `buffer` as a sort of **intrusive visitor** that doesn't exactly accomplish what it sets itself to do and violates the Open-Closed Principle."
   ]
  }
 ],
 "metadata": {
  "kernelspec": {
   "display_name": ".venv",
   "language": "python",
   "name": "python3"
  },
  "language_info": {
   "codemirror_mode": {
    "name": "ipython",
    "version": 3
   },
   "file_extension": ".py",
   "mimetype": "text/x-python",
   "name": "python",
   "nbconvert_exporter": "python",
   "pygments_lexer": "ipython3",
   "version": "3.12.6"
  }
 },
 "nbformat": 4,
 "nbformat_minor": 5
}
