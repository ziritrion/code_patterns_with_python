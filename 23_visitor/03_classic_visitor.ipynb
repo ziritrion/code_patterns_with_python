{
 "cells": [
  {
   "cell_type": "markdown",
   "id": "e698fe01",
   "metadata": {},
   "source": [
    "# Visitor: classic visitor\n",
    "\n",
    "> The canonical implementation of the visitor design pattern"
   ]
  },
  {
   "cell_type": "markdown",
   "id": "f6e7a8e6",
   "metadata": {},
   "source": [
    "The \"canonical\" implementation (as shown in the GoF book) of the Visitor Design Pattern makes use of a technique called **double dispatch**, which we'll soon see.\n",
    "\n",
    "We will begin with the same basis as the previous lesson: We will have our expression classes and we'll have a separate class for printing. This time, the `ExpressionPrinter` class will contain its own buffer that we will create when initializing it."
   ]
  },
  {
   "cell_type": "code",
   "execution_count": 1,
   "id": "aa295cac",
   "metadata": {},
   "outputs": [],
   "source": [
    "class DoubleExpression:\n",
    "    def __init__(self, value):\n",
    "        self.value = value\n",
    "\n",
    "class AdditionExpression:\n",
    "    def __init__(self, left, right):\n",
    "        self.right = right\n",
    "        self.left = left\n",
    "        \n",
    "class ExpressionPrinter:\n",
    "    def __init__(self):\n",
    "        self.buffer = []\n",
    "        \n",
    "    def __str__(self):\n",
    "        ''.join(self.buffer)"
   ]
  },
  {
   "cell_type": "markdown",
   "id": "459e5a0b",
   "metadata": {},
   "source": [
    "We now want `ExpressionPrinter` to be able to take any kind of epxression and get it to print.\n",
    "\n",
    "What we will do now is create a series of methods that will contain the code for printing one expression or another, depending on the type of expression received as an argument. We'll call these methods `visit` because they're the **visitor methods** that know how to traverse each data structured (each kind of expression), and the convention is to call these methods `visit`, but essentially they will behave like our previous `print` implementation for each expression type."
   ]
  },
  {
   "cell_type": "code",
   "execution_count": 2,
   "id": "ffb4302c",
   "metadata": {},
   "outputs": [],
   "source": [
    "class ExpressionPrinter:\n",
    "    def __init__(self):\n",
    "        self.buffer = []\n",
    "        \n",
    "    def __str__(self):\n",
    "        return ''.join(self.buffer)\n",
    "        \n",
    "    def visit(self, de):    # de = DoubleExpression\n",
    "        self.buffer.append(str(de.value))\n",
    "        \n",
    "    def visit(self, ae):    # ae = AdditionExpression\n",
    "        self.buffer.append('(')\n",
    "        ae.left.accept(self)\n",
    "        self.buffer.append('+')\n",
    "        ae.right.accept(self)\n",
    "        self.buffer.append(')')"
   ]
  },
  {
   "cell_type": "markdown",
   "id": "4f2749a6",
   "metadata": {},
   "source": [
    "However, the code above is wrong: we're re-declarating `visit` a second time, essentially overwriting the first method. Also, there's this weird `accept` method in the second definition of the method which we have not defined yet.\n",
    "\n",
    "Let's deal with the `accept` method first. This will be a very simple method that we need to add to our expressions; we could either add it to each expression, or better yet, we can create a base class whith the method and inherit it."
   ]
  },
  {
   "cell_type": "code",
   "execution_count": 3,
   "id": "561de74b",
   "metadata": {},
   "outputs": [],
   "source": [
    "from abc import ABC\n",
    "\n",
    "class Expression(ABC):\n",
    "    def accept(self, visitor):\n",
    "        visitor.visit(self)\n",
    "        \n",
    "class DoubleExpression(Expression):\n",
    "    def __init__(self, value):\n",
    "        self.value = value\n",
    "\n",
    "class AdditionExpression(Expression):\n",
    "    def __init__(self, left, right):\n",
    "        self.right = right\n",
    "        self.left = left"
   ]
  },
  {
   "cell_type": "markdown",
   "id": "66f1f386",
   "metadata": {},
   "source": [
    "`accept` receives (\"accepts\") a **visitor** (`ExpressionPrinter`), and then calls the `visit` method of the visitor passing itself as an argument.\n",
    "\n",
    "This seems convoluted, but this essentially allows us to separate the printing operation entirely from the data structures (the expression classes), and have each class call its printing operation without having to modify anything in our classes.\n",
    "\n",
    "This is called **double dispatch** because there are 2 objects that determine the method that gets called. In our example, `Expression.accept(visitor)` calls a method but what method exactly depends on `Expression` (which could be either `DoubleExpression` or `AdditionExpression`), and `visitor` (`ExpressionPrinter`) contains the behavior. We can create additional expressions such as subtraction and we could create additional visitors like for evaluating expressions, and the combination of the two parts would decide the correct code.\n",
    "\n",
    "However, we still need to take care of the `visit` overwriting issue within `ExpressionPrinter`. The easiest way to deal with this would be to rename each `visit` method to something different for each expression type and then override the `accept` method within each expression class to call the appropiate method, but what we will do instead is create a **decorator** that we can use to differentiate each `visit` method inside `ExpressionPrinter`."
   ]
  },
  {
   "cell_type": "code",
   "execution_count": 4,
   "id": "16e7aa6b",
   "metadata": {},
   "outputs": [],
   "source": [
    "# taken from https://tavianator.com/the-visitor-pattern-in-python/\n",
    "\n",
    "def _qualname(obj):\n",
    "    \"\"\"Get the fully-qualified name of an object (including module).\"\"\"\n",
    "    return obj.__module__ + '.' + obj.__qualname__\n",
    "\n",
    "def _declaring_class(obj):\n",
    "    \"\"\"Get the name of the class that declared an object.\"\"\"\n",
    "    name = _qualname(obj)\n",
    "    return name[:name.rfind('.')]\n",
    "\n",
    "# Stores the actual visitor methods\n",
    "_methods = {}\n",
    "\n",
    "# Delegating visitor implementation\n",
    "def _visitor_impl(self, arg):\n",
    "    \"\"\"Actual visitor method implementation.\"\"\"\n",
    "    method = _methods[(_qualname(type(self)), type(arg))]\n",
    "    return method(self, arg)\n",
    "\n",
    "# The actual @visitor decorator\n",
    "def visitor(arg_type):\n",
    "    \"\"\"Decorator that creates a visitor method.\"\"\"\n",
    "\n",
    "    def decorator(fn):\n",
    "        declaring_class = _declaring_class(fn)\n",
    "        _methods[(declaring_class, arg_type)] = fn\n",
    "\n",
    "        # Replace all decorated methods with _visitor_impl\n",
    "        return _visitor_impl\n",
    "\n",
    "    return decorator"
   ]
  },
  {
   "cell_type": "code",
   "execution_count": 5,
   "id": "dce35e5e",
   "metadata": {},
   "outputs": [],
   "source": [
    "class ExpressionPrinter:\n",
    "    def __init__(self):\n",
    "        self.buffer = []\n",
    "        \n",
    "    def __str__(self):\n",
    "        return ''.join(self.buffer)\n",
    "    \n",
    "    @visitor(DoubleExpression)\n",
    "    def visit(self, de):\n",
    "        self.buffer.append(str(de.value))\n",
    "    \n",
    "    @visitor(AdditionExpression)\n",
    "    def visit(self, ae):\n",
    "        self.buffer.append('(')\n",
    "        ae.left.accept(self)\n",
    "        self.buffer.append('+')\n",
    "        ae.right.accept(self)\n",
    "        self.buffer.append(')')"
   ]
  },
  {
   "cell_type": "markdown",
   "id": "602d400d",
   "metadata": {},
   "source": [
    "And that's it. Let's test our code:"
   ]
  },
  {
   "cell_type": "code",
   "execution_count": 7,
   "id": "4543ede0",
   "metadata": {},
   "outputs": [
    {
     "name": "stdout",
     "output_type": "stream",
     "text": [
      "(1+(2+3))\n"
     ]
    }
   ],
   "source": [
    "# represents 1+(2+3)\n",
    "e = AdditionExpression(\n",
    "    DoubleExpression(1),\n",
    "    AdditionExpression(\n",
    "        DoubleExpression(2),\n",
    "        DoubleExpression(3)\n",
    "    )\n",
    ")\n",
    "\n",
    "printer = ExpressionPrinter()\n",
    "printer.visit(e)\n",
    "print(printer)"
   ]
  },
  {
   "cell_type": "code",
   "execution_count": null,
   "id": "928e7fa6",
   "metadata": {},
   "outputs": [
    {
     "name": "stdout",
     "output_type": "stream",
     "text": [
      "(1+(2+3))\n"
     ]
    }
   ],
   "source": [
    "# represents 1+(2+3)\n",
    "e = AdditionExpression(\n",
    "    DoubleExpression(1),\n",
    "    AdditionExpression(\n",
    "        DoubleExpression(2),\n",
    "        DoubleExpression(3)\n",
    "    )\n",
    ")\n",
    "\n",
    "printer = ExpressionPrinter()\n",
    "e.accept(printer)\n",
    "print(printer)"
   ]
  },
  {
   "cell_type": "markdown",
   "id": "9d02ca6d",
   "metadata": {},
   "source": [
    "Note that it's now possible to invoke printing from either the printing class (by visiting our expression) or from the expression (by accepting the printing class from the expression). The \"classical\" version is to use the second version, which is element-driven and is more open for extension."
   ]
  }
 ],
 "metadata": {
  "kernelspec": {
   "display_name": ".venv",
   "language": "python",
   "name": "python3"
  },
  "language_info": {
   "codemirror_mode": {
    "name": "ipython",
    "version": 3
   },
   "file_extension": ".py",
   "mimetype": "text/x-python",
   "name": "python",
   "nbconvert_exporter": "python",
   "pygments_lexer": "ipython3",
   "version": "3.12.6"
  }
 },
 "nbformat": 4,
 "nbformat_minor": 5
}
