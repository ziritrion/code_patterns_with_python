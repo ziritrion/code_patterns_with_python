{
 "cells": [
  {
   "cell_type": "markdown",
   "id": "ea0db764",
   "metadata": {},
   "source": [
    "# Visitor: classic visitor (refined)\n",
    "\n",
    "> Taking advantage of dynamic typing"
   ]
  },
  {
   "cell_type": "markdown",
   "id": "a2344323",
   "metadata": {},
   "source": [
    "The classic/canonical implementation of the visitor design pattern that we saw in the previous lesson works great for statically typed languages, but Python is dynamically typed, which means that we can simplify the implementation and still get the same behavior and advantages.\n",
    "\n",
    "First of all, let's bring in the decorator code from the previous lesson."
   ]
  },
  {
   "cell_type": "code",
   "execution_count": 1,
   "id": "4e9a12cc",
   "metadata": {},
   "outputs": [],
   "source": [
    "# taken from https://tavianator.com/the-visitor-pattern-in-python/\n",
    "\n",
    "def _qualname(obj):\n",
    "    \"\"\"Get the fully-qualified name of an object (including module).\"\"\"\n",
    "    return obj.__module__ + '.' + obj.__qualname__\n",
    "\n",
    "def _declaring_class(obj):\n",
    "    \"\"\"Get the name of the class that declared an object.\"\"\"\n",
    "    name = _qualname(obj)\n",
    "    return name[:name.rfind('.')]\n",
    "\n",
    "# Stores the actual visitor methods\n",
    "_methods = {}\n",
    "\n",
    "# Delegating visitor implementation\n",
    "def _visitor_impl(self, arg):\n",
    "    \"\"\"Actual visitor method implementation.\"\"\"\n",
    "    method = _methods[(_qualname(type(self)), type(arg))]\n",
    "    return method(self, arg)\n",
    "\n",
    "# The actual @visitor decorator\n",
    "def visitor(arg_type):\n",
    "    \"\"\"Decorator that creates a visitor method.\"\"\"\n",
    "    def decorator(fn):\n",
    "        declaring_class = _declaring_class(fn)\n",
    "        _methods[(declaring_class, arg_type)] = fn\n",
    "        # Replace all decorated methods with _visitor_impl\n",
    "        return _visitor_impl\n",
    "    return decorator"
   ]
  },
  {
   "cell_type": "markdown",
   "id": "415b1588",
   "metadata": {},
   "source": [
    "As for the simplification: instead of performing the **double dispatch**, we can simply omit the `accept` method from the expression classes and modify the `visit` method so that it calls itself passing the appropiate parameter, like this:"
   ]
  },
  {
   "cell_type": "code",
   "execution_count": null,
   "id": "5c6a46d0",
   "metadata": {},
   "outputs": [],
   "source": [
    "class DoubleExpression:\n",
    "    def __init__(self, value):\n",
    "        self.value = value\n",
    "\n",
    "class AdditionExpression:\n",
    "    def __init__(self, left, right):\n",
    "        self.left = left\n",
    "        self.right = right\n",
    "\n",
    "class ExpressionPrinter:\n",
    "    def __init__(self):\n",
    "        self.buffer = []\n",
    "\n",
    "    @visitor(DoubleExpression)\n",
    "    def visit(self, de):\n",
    "        self.buffer.append(str(de.value))\n",
    "\n",
    "    @visitor(AdditionExpression)\n",
    "    def visit(self, ae):\n",
    "        \"\"\"We don't call accept anymore; we call visit instead\"\"\"\n",
    "        self.buffer.append('(')\n",
    "        self.visit(ae.left)\n",
    "        self.buffer.append('+')\n",
    "        self.visit(ae.right)\n",
    "        self.buffer.append(')')\n",
    "\n",
    "    def __str__(self):\n",
    "        return ''.join(self.buffer)"
   ]
  },
  {
   "cell_type": "code",
   "execution_count": 6,
   "id": "0d471bb1",
   "metadata": {},
   "outputs": [
    {
     "name": "stdout",
     "output_type": "stream",
     "text": [
      "(1+(2+3))\n"
     ]
    }
   ],
   "source": [
    "e = AdditionExpression(\n",
    "    DoubleExpression(1),\n",
    "    AdditionExpression(\n",
    "        DoubleExpression(2),\n",
    "        DoubleExpression(3)\n",
    "    )\n",
    ")\n",
    "printer = ExpressionPrinter()\n",
    "printer.visit(e)\n",
    "print(printer)"
   ]
  },
  {
   "cell_type": "markdown",
   "id": "f0122e90",
   "metadata": {},
   "source": [
    "In the code above, when we call `visit`, `ExpressionPrinter` already knows which version it needs to invoke thanks to our decorators, so there is no need to go back and forth from `visit` to `accept`, because the decorator handles **dynamic dispatch** by type.\n",
    "\n",
    "However, we're losing any kind of explicit requirement for supporting specific structures: in the previous code, should we forget to implement `accept` in one of the classes, the program would fail, but in this version there is no interface to implement explicitly which can lead to unexpected side effects such as the program seemingly running OK but with wrong results, which can be difficult to debug.\n",
    "\n",
    "As a rule of thumb, for simpler projects, this kind of simplified implementation should be good enough, but for more complex projects, enforcing an interface that every affected class needs to be implemented can help improve the code quality and avoid errors.\n",
    "\n",
    "We will now implement a **stateful visitor**: the `ExpressionEvaluator` class. We will store the value of a `DoubleExpression` and we will carefully keep the left side of an `AdditionExpression` on a temporal variable so that we don't overwrite it when evaluating the right side:"
   ]
  },
  {
   "cell_type": "code",
   "execution_count": null,
   "id": "d73ac2a0",
   "metadata": {},
   "outputs": [],
   "source": [
    "class ExpressionEvaluator:\n",
    "  def __init__(self):\n",
    "    self.value = None\n",
    "\n",
    "  @visitor(DoubleExpression)\n",
    "  def visit(self, de):\n",
    "    self.value = de.value\n",
    "\n",
    "  @visitor(AdditionExpression)\n",
    "  def visit(self, ae):\n",
    "    self.visit(ae.left)\n",
    "    temp = self.value # we temporarily store the left side value so we don't overwrite it in the next step\n",
    "    self.visit(ae.right)\n",
    "    self.value += temp # we add both sides"
   ]
  },
  {
   "cell_type": "markdown",
   "id": "d924a87c",
   "metadata": {},
   "source": [
    "We could make a much cleaner version of this visitor by having `visit(DoubleExpression)` return the value and having `visit(AdditionExpression)` recursively call itself on both the left and right sides and return the sum; this would have the added benefit of making the visitor **stateless**, but the point of this example is that sometimes you need to be careful when dealing with stateful visitors because you need to make sure that you don't alter the state in unexpected ways.\n",
    "\n",
    "We can now use both of our visitors at the same time, like this:"
   ]
  },
  {
   "cell_type": "code",
   "execution_count": 8,
   "id": "8881ca2d",
   "metadata": {},
   "outputs": [
    {
     "name": "stdout",
     "output_type": "stream",
     "text": [
      "(1+(2+3)) = 6\n"
     ]
    }
   ],
   "source": [
    "# represents 1+(2+3)\n",
    "e = AdditionExpression(\n",
    "    DoubleExpression(1),\n",
    "    AdditionExpression(\n",
    "        DoubleExpression(2),\n",
    "        DoubleExpression(3)\n",
    "    )\n",
    ")\n",
    "printer = ExpressionPrinter()\n",
    "printer.visit(e)\n",
    "\n",
    "evaluator = ExpressionEvaluator()\n",
    "evaluator.visit(e)\n",
    "\n",
    "print(f'{printer} = {evaluator.value}')"
   ]
  }
 ],
 "metadata": {
  "kernelspec": {
   "display_name": ".venv",
   "language": "python",
   "name": "python3"
  },
  "language_info": {
   "codemirror_mode": {
    "name": "ipython",
    "version": 3
   },
   "file_extension": ".py",
   "mimetype": "text/x-python",
   "name": "python",
   "nbconvert_exporter": "python",
   "pygments_lexer": "ipython3",
   "version": "3.12.6"
  }
 },
 "nbformat": 4,
 "nbformat_minor": 5
}
