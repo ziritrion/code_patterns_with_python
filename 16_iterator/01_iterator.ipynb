{
 "cells": [
  {
   "cell_type": "markdown",
   "id": "a1aa81e3",
   "metadata": {},
   "source": [
    "# Iterator\n",
    "\n",
    "> Traversing data structures"
   ]
  },
  {
   "cell_type": "markdown",
   "id": "bbb86081",
   "metadata": {},
   "source": [
    "In this lesson we'll implement the **iterator design pattern** by iterating through a binary tree like the following:\n",
    "\n",
    "```\n",
    "  1\n",
    " / \\\n",
    "2   3\n",
    "```\n",
    "\n",
    "Essentially, we'll have a tree composed of 3 elements, with a node of value 1 on top and two nodes connecting to it of values 2 and 3.\n",
    "\n",
    "We will see how to iterate through it in 2 different ways:\n",
    "1. The \"canonical\" approach using constructs such as iter.\n",
    "2. By writing a function that will use the `yield` keyword.\n",
    "\n",
    "Both of these approaches are equally valid; the main issue is that stateful iterators are typically very painful to do, as we shall soon see.\n",
    "\n",
    "Let's begin by implementing a `Node` class. A `Node` instance has a value, as well as a left and a right child nodes. We'll also define a parent node."
   ]
  },
  {
   "cell_type": "code",
   "execution_count": 1,
   "id": "3f485fb0",
   "metadata": {},
   "outputs": [],
   "source": [
    "class Node:\n",
    "    def __init__(self, value, left=None, right=None):\n",
    "        self.right = right\n",
    "        self.left = left\n",
    "        self.value = value\n",
    "\n",
    "        self.parent = None\n",
    "\n",
    "        if left:\n",
    "            self.left.parent = self\n",
    "        if right:\n",
    "            self.right.parent = self\n",
    "\n",
    "# let's create our demo tree\n",
    "root = Node(1, Node(2), Node(3))"
   ]
  },
  {
   "cell_type": "markdown",
   "id": "6c4b26bb",
   "metadata": {},
   "source": [
    "Note that there are 3 ways of traversing this binary tree depending on the order in which you access the nodes:\n",
    "* **In-order**: `2 -> 1 -> 3`\n",
    "* **Pre-order**: `1 -> 2 -> 3`\n",
    "* **Post-order**: `2 -> 3 -> 1`\n",
    "\n",
    "We will stick to **in-order** iteration.\n",
    "\n",
    "We will need to define a new class that will allow for in-order iteration; this `InOrderIterator` class will be defined by a `root` (the node we want to stick to always) and a `current` (our current placement in the tree -> what makes our iterator a **stateful operator**), and since we're iterating in-order, we will need to navigate to the leftmost element first.\n",
    "\n",
    "We will also implement the `__next__` function, which will take us from the currently pointed to element to the next element up until the point where we have to stop the iteration altogether. This function will make use of a special `yielded_start` flag that lets us know whether the intial value was yielded. The code for this function is quite complex because it needs to keep track of the state of the iterator, but it will navigate the tree in-order."
   ]
  },
  {
   "cell_type": "code",
   "execution_count": 2,
   "id": "733e054b",
   "metadata": {},
   "outputs": [],
   "source": [
    "class InOrderIterator:\n",
    "    def __init__(self, root):\n",
    "        self.root = self.current = root\n",
    "        self.yielded_start = False\n",
    "        while self.current.left:\n",
    "            # in-order navigation > go to the leftmost element\n",
    "            self.current = self.current.left\n",
    "            \n",
    "    def __next__(self):\n",
    "        if not self.yielded_start:\n",
    "            self.yielded_start = True\n",
    "            return self.current\n",
    "\n",
    "        if self.current.right:\n",
    "            self.current = self.current.right\n",
    "            while self.current.left:\n",
    "                self.current = self.current.left\n",
    "            return self.current\n",
    "        else:\n",
    "            p = self.current.parent\n",
    "            while p and self.current == p.right:\n",
    "                self.current = p\n",
    "                p = p.parent\n",
    "            self.current = p\n",
    "            if self.current:\n",
    "                return self.current\n",
    "            else:\n",
    "                raise StopIteration"
   ]
  },
  {
   "cell_type": "markdown",
   "id": "cf1ce6d1",
   "metadata": {},
   "source": [
    "We also need to expose our iterator. Since we do not have a special class for binary trees, we will expose the iterator from the `Node` class, which we can do by implementing the `__iter__` function within `Node`."
   ]
  },
  {
   "cell_type": "code",
   "execution_count": 3,
   "id": "329f61f0",
   "metadata": {},
   "outputs": [],
   "source": [
    "class Node:\n",
    "  def __init__(self, value, left=None, right=None):\n",
    "    self.right = right\n",
    "    self.left = left\n",
    "    self.value = value\n",
    "\n",
    "    self.parent = None\n",
    "\n",
    "    if left:\n",
    "      self.left.parent = self\n",
    "    if right:\n",
    "      self.right.parent = self\n",
    "\n",
    "  def __iter__(self):\n",
    "    return InOrderIterator(self)"
   ]
  },
  {
   "cell_type": "markdown",
   "id": "f16c2423",
   "metadata": {},
   "source": [
    "We're finally ready to create our binary tree and iterate through it. We can do it in 2 ways:\n",
    "* Iterate explicitly, by creating an `InOrderIterator` instance imperatively and calling `next` to iterate.\n",
    "* Iterate implicitly, by using a `for` loop on the `Node` instance, which is now iterable thank to the `__iter__` method (which instantiates `InOrderIterator`, which in turns provide the `__next__` method for the loop)."
   ]
  },
  {
   "cell_type": "code",
   "execution_count": 4,
   "id": "313da98a",
   "metadata": {},
   "outputs": [
    {
     "name": "stdout",
     "output_type": "stream",
     "text": [
      "[2, 1, 3]\n",
      "---\n",
      "2\n",
      "1\n",
      "3\n"
     ]
    }
   ],
   "source": [
    "# let's re-create the tree\n",
    "root = Node(1, Node(2), Node(3))\n",
    "\n",
    "# iterate explicitly\n",
    "it = iter(root)\n",
    "print([next(it).value for x in range(3)]) # we know that there are 3 elements\n",
    "\n",
    "print('---')\n",
    "\n",
    "# iterate implicitly\n",
    "for x in root:\n",
    "    print(x.value)"
   ]
  },
  {
   "cell_type": "markdown",
   "id": "d07c9ca8",
   "metadata": {},
   "source": [
    "Our code so far works fine and we've done a good job of sticking to the Single Responsibility Principle, but the `__next__` method is quite esoteric and hard to map to the in-order navigation paradigm (it's not easy to guess that the code is doing exactly that).\n",
    "\n",
    "We will now write a nicer iteration mechanism by using the `yield` keyword to yield the elements as we encounter them. We also won't need to make the state of the current position explicit anymore:"
   ]
  },
  {
   "cell_type": "code",
   "execution_count": 5,
   "metadata": {},
   "outputs": [],
   "source": [
    "def traverse_in_order(root):\n",
    "    def traverse(current):\n",
    "        if current.left:\n",
    "            for left in traverse(current.left):\n",
    "                yield left\n",
    "        yield current\n",
    "        if current.right:\n",
    "            for right in traverse(current.right):\n",
    "                yield right\n",
    "    for node in traverse(root):\n",
    "        yield node"
   ]
  },
  {
   "cell_type": "markdown",
   "id": "419d6545",
   "metadata": {},
   "source": [
    "> Reminder that `yield` returns a variable just like `return` but does not break the execution block.\n",
    "\n",
    "Our new `traverse_in_order` function defines an inner recursive `traverse` function that will loop through the nodes in order, making sure that the left child is yielded first, then the current node and finally the right child. As you can see, this code is much simpler to read than the canonical way of implementing `__iter__` and `__next__` because it makes state handling much simpler and makes the code instantly understandable.\n",
    "\n",
    "Let's see our new function in action:"
   ]
  },
  {
   "cell_type": "code",
   "execution_count": 6,
   "id": "755febeb",
   "metadata": {},
   "outputs": [
    {
     "name": "stdout",
     "output_type": "stream",
     "text": [
      "2\n",
      "1\n",
      "3\n"
     ]
    }
   ],
   "source": [
    "for y in traverse_in_order(root):\n",
    "    print(y.value)"
   ]
  },
  {
   "cell_type": "markdown",
   "id": "33ea7acd",
   "metadata": {},
   "source": [
    "As a quick summary, there are 2 main ways of implementing iterators:\n",
    "1. The canonical way\n",
    "   1. Create a class for your iterator and implement `__next__` in it.\n",
    "   2. Make your class iterable by implementing `__iter__` and then instantiate your iterator class from there.\n",
    "2. The yielding way\n",
    "   1. Create a method that navigates your structure and yields each element.\n",
    "\n",
    "In the real world, the canonical method is messy due to having to micromanage the iterator's state, whereas the yielding function is much cleaner and easier to both write and understand."
   ]
  }
 ],
 "metadata": {
  "kernelspec": {
   "display_name": ".venv",
   "language": "python",
   "name": "python3"
  },
  "language_info": {
   "codemirror_mode": {
    "name": "ipython",
    "version": 3
   },
   "file_extension": ".py",
   "mimetype": "text/x-python",
   "name": "python",
   "nbconvert_exporter": "python",
   "pygments_lexer": "ipython3",
   "version": "3.12.10"
  }
 },
 "nbformat": 4,
 "nbformat_minor": 5
}
