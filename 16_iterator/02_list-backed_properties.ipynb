{
 "cells": [
  {
   "cell_type": "markdown",
   "id": "335bf6f8",
   "metadata": {},
   "source": [
    "# List-backed properties\n",
    "\n",
    "> Exposing properties to the idea of iteration"
   ]
  },
  {
   "cell_type": "markdown",
   "id": "64bd0c1e",
   "metadata": {},
   "source": [
    "In this lesson we'll go back to the videogame scenario with creatures roaming the land that we saw in the Chain of Responsibility design pattern lesson.\n",
    "\n",
    "We want our creatures to have some attributes such as strength or agility, but this time we also want to add some statistics about our attributes. We will use **properties** to define these statistics.\n",
    "\n",
    "> Remember that in Python, a **property** is a special kind of attribute that has `__get__`, `__set__` and/or `__delete__` methods. When accessing an attribute, Python will first check for these methods and use them if they're available before manipulating the attribute directly."
   ]
  },
  {
   "cell_type": "code",
   "execution_count": null,
   "id": "26a64b0a",
   "metadata": {},
   "outputs": [],
   "source": [
    "class Creature:\n",
    "    def __init__(self):\n",
    "        self.strength = 10\n",
    "        self.agility = 10\n",
    "        self.intelligence = 10\n",
    "\n",
    "    @property\n",
    "    def sum_of_stats(self):\n",
    "        return self.strength + self.intelligence + self.agility\n",
    "\n",
    "    @property\n",
    "    def max_stat(self):\n",
    "        return max(self.strength, self.intelligence, self.agility)\n",
    "    \n",
    "    @property\n",
    "    def average_stat(self):\n",
    "        return self.sum_of_stats / 3.0 # magic number"
   ]
  },
  {
   "cell_type": "markdown",
   "id": "414c36fe",
   "metadata": {},
   "source": [
    "Our code works, but it doesn't scale well: if we want to add a new attribute in the future, we would have to update every single one of our properties in order to include the new attribute, which is error-prone. We would also need to update the **magic number** `3.0` in `average_stat` with whatever amount of attributes we end up having.\n",
    "\n",
    "> A **magic number** is a direct usage of a number in the code. In other words, it's a hard-coded value that is susceptible to change at a later stage, which ideally should be refactored away.\n",
    "\n",
    "We can refactor our code to solve this issue: we can get rid of our attributes and store a single `stats` list instead, and use properties to expose the stats. This will also allow us to refactor our aggregate calculations to make them more concise."
   ]
  },
  {
   "cell_type": "code",
   "execution_count": null,
   "id": "3697ea59",
   "metadata": {},
   "outputs": [],
   "source": [
    "class Creature:\n",
    "    # pseudo-enums to get rid of magic numbers\n",
    "    _strength = 0\n",
    "    _agility = 1\n",
    "    _intelligence = 2\n",
    "\n",
    "    def __init__(self):\n",
    "        self.stats = [10, 10, 10]\n",
    "\n",
    "    @property\n",
    "    def strength(self):\n",
    "        return self.stats[Creature._strength] # we use the pseudo-enum instead of a magic number to access the value\n",
    "    \n",
    "    @strength.setter\n",
    "    def strength(self, value):\n",
    "        self.stats[Creature._strength] = value\n",
    "\n",
    "    @property\n",
    "    def agility(self):\n",
    "        return self.stats[Creature._agility]\n",
    "    \n",
    "    @agility.setter\n",
    "    def agility(self, value):\n",
    "        self.stats[Creature._agility] = value\n",
    "\n",
    "    @property\n",
    "    def intelligence(self):\n",
    "        return self.stats[Creature._intelligence]\n",
    "    \n",
    "    @intelligence.setter\n",
    "    def strength(self, value):\n",
    "        self.stats[Creature._intelligence] = value\n",
    "\n",
    "    @property\n",
    "    def sum_of_stats(self):\n",
    "        return sum(self.stats) # much less code to write!\n",
    "\n",
    "    @property\n",
    "    def max_stat(self):\n",
    "        return max(self.stats)\n",
    "    \n",
    "    @property\n",
    "    def average_stat(self):\n",
    "        return float(sum(self.stats) / len(self.stats)) # no more magic numbers to maintain!"
   ]
  },
  {
   "cell_type": "markdown",
   "id": "6cc8b3a6",
   "metadata": {},
   "source": [
    "This approach is typically called **Array-Backed Properties**, or in the case of Python, **List-Backed Properties**. The setup is more wordy but in return we gain the ability to iterate on the attributes of a particular class, because otherwise we wouldn't have any flexible way of doing this kind of iteration.\n",
    "\n",
    "Depending on your use case, you may want to group different properties into multiple lists."
   ]
  }
 ],
 "metadata": {
  "language_info": {
   "name": "python"
  }
 },
 "nbformat": 4,
 "nbformat_minor": 5
}
