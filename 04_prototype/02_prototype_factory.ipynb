{
 "cells": [
  {
   "cell_type": "markdown",
   "metadata": {},
   "source": [
    "# Prototype Factory\n",
    "\n",
    "> A convenient way of creating copies."
   ]
  },
  {
   "cell_type": "markdown",
   "metadata": {},
   "source": [
    "While `copy.deepcopy()` is useful, it's often inconvenient and/or impractical to keep making copies manually.\n",
    "\n",
    "If we have a few predefined prototypes in our application, it would be nice to package them into a factory and then provide factory methods so that nobody has to copy and customize by hand.\n",
    "\n",
    "Let's create a similar scenario to the previous lesson:"
   ]
  },
  {
   "cell_type": "code",
   "execution_count": 1,
   "metadata": {},
   "outputs": [],
   "source": [
    "class Address:\n",
    "    def __init__(self, street_address, suite, city):\n",
    "        self.suite = suite\n",
    "        self.city = city\n",
    "        self.street_address = street_address\n",
    "\n",
    "    def __str__(self):\n",
    "        return f'{self.street_address}, Suite #{self.suite}, {self.city}'\n",
    "\n",
    "class Employee:\n",
    "    def __init__(self, name, address):\n",
    "        self.address = address\n",
    "        self.name = name\n",
    "\n",
    "    def __str__(self):\n",
    "        return f'{self.name} works at {self.address}'"
   ]
  },
  {
   "cell_type": "markdown",
   "metadata": {},
   "source": [
    "We now want to create employees in particular offices.\n",
    "\n",
    "Let's suppose we only have 2 offices where people can work; with that in mind, we can create an *Employee Factory* where we will create 2 employee prototypes; one for the main office and another for the auxiliary office. The prototypes will be defined as follows:\n",
    "* The `name` field of the prototypes will be empty because we will fill in the names for each copy.\n",
    "* We know the `street_address` and the `city` of each office, but the `suite` number is specific to each employee, so we will initialize the suite to `0` in the prototypes.\n",
    "\n",
    "The Factory will also have 2 factory methods, one per prototype, and we will create a private auxiliary method that will take care of copying the selected prototype:"
   ]
  },
  {
   "cell_type": "code",
   "execution_count": 2,
   "metadata": {},
   "outputs": [],
   "source": [
    "import copy\n",
    "\n",
    "class EmployeeFactory:\n",
    "    main_office_employee = Employee(\"\", Address(\"123 East Dr\", 0, \"London\"))\n",
    "    aux_office_employee = Employee(\"\", Address(\"123B East Dr\", 0, \"London\"))\n",
    "    \n",
    "    @staticmethod\n",
    "    def __new_employee(proto, name, suite):\n",
    "        \"\"\"Private auxiliary method in charge of copying the prototypes\"\"\"\n",
    "        result = copy.deepcopy(proto)\n",
    "        result.name = name\n",
    "        result.address.suite = suite\n",
    "        return result\n",
    "    \n",
    "    @staticmethod\n",
    "    def new_main_office_employee(name, suite):\n",
    "        return EmployeeFactory.__new_employee(\n",
    "            EmployeeFactory.main_office_employee,\n",
    "            name, suite\n",
    "        )\n",
    "\n",
    "    @staticmethod\n",
    "    def new_aux_office_employee(name, suite):\n",
    "        return EmployeeFactory.__new_employee(\n",
    "            EmployeeFactory.aux_office_employee,\n",
    "            name, suite\n",
    "        )"
   ]
  },
  {
   "cell_type": "markdown",
   "metadata": {},
   "source": [
    "Let's use our factory:"
   ]
  },
  {
   "cell_type": "code",
   "execution_count": 5,
   "metadata": {},
   "outputs": [
    {
     "name": "stdout",
     "output_type": "stream",
     "text": [
      "John works at 123 East Dr, Suite #101, London\n",
      "Jane works at 123B East Dr, Suite #500, London\n"
     ]
    }
   ],
   "source": [
    "john = EmployeeFactory.new_main_office_employee('John', 101)\n",
    "jane = EmployeeFactory.new_aux_office_employee('Jane', 500)\n",
    "print(john)\n",
    "print(jane)"
   ]
  },
  {
   "cell_type": "markdown",
   "metadata": {},
   "source": [
    "In short: whenever you have a fixed number of prototypes that you're using in your system, you can make their construction easier by putting the prototypes in a factory and create a bunch of factory methods for them."
   ]
  }
 ],
 "metadata": {
  "kernelspec": {
   "display_name": ".venv",
   "language": "python",
   "name": "python3"
  },
  "language_info": {
   "codemirror_mode": {
    "name": "ipython",
    "version": 3
   },
   "file_extension": ".py",
   "mimetype": "text/x-python",
   "name": "python",
   "nbconvert_exporter": "python",
   "pygments_lexer": "ipython3",
   "version": "3.12.6"
  }
 },
 "nbformat": 4,
 "nbformat_minor": 2
}
