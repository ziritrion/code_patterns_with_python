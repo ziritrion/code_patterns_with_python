{
 "cells": [
  {
   "cell_type": "markdown",
   "metadata": {},
   "source": [
    "# Prototype Pattern\n",
    "\n",
    "> A partially or fully initialized object that you copy/clone and make use of."
   ]
  },
  {
   "cell_type": "markdown",
   "metadata": {},
   "source": [
    "Let's suppose we want to represent persons, and we also want to represent their home addresses."
   ]
  },
  {
   "cell_type": "code",
   "execution_count": 1,
   "metadata": {},
   "outputs": [],
   "source": [
    "class Address:\n",
    "    def __init__(self, street_address, city, country):\n",
    "        self.country = country\n",
    "        self.city = city\n",
    "        self.street_address = street_address\n",
    "\n",
    "    def __str__(self):\n",
    "        return f'{self.street_address}, {self.city}, {self.country}'\n",
    "\n",
    "class Person:\n",
    "    def __init__(self, name, address):\n",
    "        self.name = name\n",
    "        self.address = address\n",
    "\n",
    "    def __str__(self):\n",
    "        return f'{self.name} lives at {self.address}'"
   ]
  },
  {
   "cell_type": "markdown",
   "metadata": {},
   "source": [
    "Let's now create a sample person."
   ]
  },
  {
   "cell_type": "code",
   "execution_count": 2,
   "metadata": {},
   "outputs": [
    {
     "name": "stdout",
     "output_type": "stream",
     "text": [
      "John lives at 123 London Road, London, UK\n"
     ]
    }
   ],
   "source": [
    "john = Person(\"John\", Address(\"123 London Road\", \"London\", \"UK\"))\n",
    "print(john)"
   ]
  },
  {
   "cell_type": "markdown",
   "metadata": {},
   "source": [
    "Cool. Now let's create another person who happens to have the same address as John because they live together. You might be tempted to maybe copy the `john` var and change the name; let's see what happens if we do that:"
   ]
  },
  {
   "cell_type": "code",
   "execution_count": null,
   "metadata": {},
   "outputs": [
    {
     "name": "stdout",
     "output_type": "stream",
     "text": [
      "Jane lives at 123 London Road, London, UK\n",
      "Jane lives at 123 London Road, London, UK\n"
     ]
    }
   ],
   "source": [
    "jane = john\n",
    "jane.name = \"Jane\"\n",
    "print(john, '\\n', jane)"
   ]
  },
  {
   "cell_type": "markdown",
   "metadata": {},
   "source": [
    "We have a problem: we see the same thing printed twice because both `john` and `jane` refer to the same object!\n",
    "\n",
    "The line `jane = john` is a **reference assignment**. We're not copying the object to a new variable name; we're creating a reference to the same object with a different name.\n",
    "\n",
    "We could fix our very specific scenario with something like this:"
   ]
  },
  {
   "cell_type": "code",
   "execution_count": null,
   "metadata": {},
   "outputs": [
    {
     "name": "stdout",
     "output_type": "stream",
     "text": [
      "John lives at 123 London Road, London, UK\n",
      "Jane lives at 123 London Road, London, UK\n"
     ]
    }
   ],
   "source": [
    "address = Address(\"123 London Road\", \"London\", \"UK\")\n",
    "john = Person(\"John\", address)\n",
    "jane = Person(\"Jane\", address)\n",
    "print(john, '\\n', jane)"
   ]
  },
  {
   "cell_type": "markdown",
   "metadata": {},
   "source": [
    "While this solution works for our use case, if somehow one of the two people moved out and changed their address, if we modified the `address` object it would affect both of them at the same time, because `address` is a reference to a single object and neither John nor Jane are in possession of it. You can see this in action below:"
   ]
  },
  {
   "cell_type": "code",
   "execution_count": null,
   "metadata": {},
   "outputs": [
    {
     "name": "stdout",
     "output_type": "stream",
     "text": [
      "John lives at 123 London Road, London, UK\n",
      "Jane lives at 123 London Road, London, UK\n",
      "---\n",
      "John lives at 124 London Road, London, UK\n",
      "Jane lives at 124 London Road, London, UK\n"
     ]
    }
   ],
   "source": [
    "address = Address(\"123 London Road\", \"London\", \"UK\")\n",
    "john = Person(\"John\", address)\n",
    "jane = Person(\"Jane\", address)\n",
    "print(john, '\\n', jane)\n",
    "print(\"---\")\n",
    "# Jane tries to move next door\n",
    "jane.address.street_address = \"124 London Road\"\n",
    "print(john, '\\n', jane)"
   ]
  },
  {
   "cell_type": "markdown",
   "metadata": {},
   "source": [
    "What we want is to copy an object in a way that the copy does not refer to the original object's attributes: we want to **deep copy** the object.\n",
    "\n",
    "In Python this is achieved with the `copy.deepcopy()` method: this performs a recursive copy of all of the attributes of the original object and creates a brand new object that doesn't refer to the original. Let's see it in action:"
   ]
  },
  {
   "cell_type": "code",
   "execution_count": 7,
   "metadata": {},
   "outputs": [
    {
     "name": "stdout",
     "output_type": "stream",
     "text": [
      "John lives at 123 London Road, London, UK \n",
      " Jane lives at 124 London Road, London, UK\n"
     ]
    }
   ],
   "source": [
    "import copy\n",
    "\n",
    "john = Person(\"John\", Address(\"123 London Road\", \"London\", \"UK\"))\n",
    "jane = copy.deepcopy(john)\n",
    "jane.name = \"Jane\"\n",
    "jane.address.street_address = \"124 London Road\"\n",
    "print(john, '\\n', jane)"
   ]
  },
  {
   "cell_type": "markdown",
   "metadata": {},
   "source": [
    "The **Prototype Pattern** solves the problem of *duplication*: maybe you want to use an object multiple times and only customize certain parts, which the Prototype Pattern allows you to do.\n",
    "\n",
    "For completeness' sake, you can also perform a **shallow copy** with `copy.copy()`. This method creates a copy of an object but does not create a copy of the references within that object; see the example below:"
   ]
  },
  {
   "cell_type": "code",
   "execution_count": 8,
   "metadata": {},
   "outputs": [
    {
     "name": "stdout",
     "output_type": "stream",
     "text": [
      "John lives at 124 London Road, London, UK \n",
      " Jane lives at 124 London Road, London, UK\n"
     ]
    }
   ],
   "source": [
    "john = Person(\"John\", Address(\"123 London Road\", \"London\", \"UK\"))\n",
    "jane = copy.copy(john)\n",
    "jane.name = \"Jane\"\n",
    "jane.address.street_address = \"124 London Road\"\n",
    "print(john, '\\n', jane)"
   ]
  },
  {
   "cell_type": "markdown",
   "metadata": {},
   "source": [
    "In this example, the `jane` object has a new name but does not have a copy of the address object; it's still a reference to the original object. That's why the address is changed for both `john` and  `jane`."
   ]
  }
 ],
 "metadata": {
  "kernelspec": {
   "display_name": ".venv",
   "language": "python",
   "name": "python3"
  },
  "language_info": {
   "codemirror_mode": {
    "name": "ipython",
    "version": 3
   },
   "file_extension": ".py",
   "mimetype": "text/x-python",
   "name": "python",
   "nbconvert_exporter": "python",
   "pygments_lexer": "ipython3",
   "version": "3.12.6"
  }
 },
 "nbformat": 4,
 "nbformat_minor": 2
}
