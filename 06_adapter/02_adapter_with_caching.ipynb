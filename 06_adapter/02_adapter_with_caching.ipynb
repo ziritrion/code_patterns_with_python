{
 "cells": [
  {
   "cell_type": "markdown",
   "metadata": {},
   "source": [
    "# Adapter (with caching)\n",
    "\n",
    "> Using a cache to store the adapter's temporary objects."
   ]
  },
  {
   "cell_type": "markdown",
   "metadata": {},
   "source": [
    "We will adapt the code from the previous lesson and add a cache to our adapter that will store the adaptations that we create so that we can reuse them later and not generate them every single time we call the adapter.\n",
    "\n",
    "First, let's brinng in the code that doesn't need changing."
   ]
  },
  {
   "cell_type": "code",
   "execution_count": 1,
   "metadata": {},
   "outputs": [],
   "source": [
    "# The API we're forced to work with\n",
    "class Point:\n",
    "    def __init__(self, x, y):\n",
    "        self.y = y\n",
    "        self.x = x\n",
    "\n",
    "def draw_point(p):\n",
    "    print('.', end='')"
   ]
  },
  {
   "cell_type": "code",
   "execution_count": 2,
   "metadata": {},
   "outputs": [],
   "source": [
    "# Our application code\n",
    "class Line:\n",
    "    def __init__(self, start, end):\n",
    "        self.end = end\n",
    "        self.start = start\n",
    "        \n",
    "class Rectangle(list):\n",
    "    \"\"\" Represented as a list of lines. \"\"\"\n",
    "    def __init__(self, x, y, width, height):\n",
    "        super().__init__()\n",
    "        self.append(Line(Point(x, y), Point(x + width, y)))\n",
    "        self.append(Line(Point(x + width, y), Point(x + width, y + height)))\n",
    "        self.append(Line(Point(x, y), Point(x, y + height)))\n",
    "        self.append(Line(Point(x, y + height), Point(x + width, y + height)))"
   ]
  },
  {
   "cell_type": "markdown",
   "metadata": {},
   "source": [
    "Now we will create a new adapter with some changes:"
   ]
  },
  {
   "cell_type": "code",
   "execution_count": 4,
   "metadata": {},
   "outputs": [],
   "source": [
    "class LineToPointAdapter: # 1\n",
    "    count = 0 # 7\n",
    "    cache = {} # 2\n",
    "\n",
    "    def __init__(self, line):\n",
    "        self.h = hash(line) # 3\n",
    "        if self.h in self.cache:\n",
    "            return\n",
    "\n",
    "        super().__init__()\n",
    "        self.count += 1\n",
    "        print(f'{self.count}: Generating points for line ' +\n",
    "              f'[{line.start.x},{line.start.y}]→[{line.end.x},{line.end.y}]')\n",
    "\n",
    "        left = min(line.start.x, line.end.x)\n",
    "        right = max(line.start.x, line.end.x)\n",
    "        top = min(line.start.y, line.end.y)\n",
    "        bottom = min(line.start.y, line.end.y)\n",
    "\n",
    "        points = [] # 4\n",
    "\n",
    "        if right - left == 0:\n",
    "            for y in range(top, bottom):\n",
    "                points.append(Point(left, y))\n",
    "        elif line.end.y - line.start.y == 0:\n",
    "            for x in range(left, right):\n",
    "                points.append(Point(x, top))\n",
    "\n",
    "        self.cache[self.h] = points # 5\n",
    "\n",
    "    def __iter__(self): # 6\n",
    "        return iter(self.cache[self.h])"
   ]
  },
  {
   "cell_type": "markdown",
   "metadata": {},
   "source": [
    "1. We don't need to inherit from `list` anymore because we will be storing the lists in a static cache, so we remove the dependency.\n",
    "2. Our cache will just be a dictionary that stores the objects (lists in our case)\n",
    "3. for our dictionary keys, we will be creating unique values with the `hash` function for each line. If the hash value is already in the dictionary, we simply return because we've already adapter the line. We store the hash value in the adapter instance as well.\n",
    "4. Since our adapter instance isn't a list anymore, we will need a list to store the points that we will create from our line.\n",
    "5. Once we've generated the list of points, we store it in the cache with the hash value as its key.\n",
    "6. Because our adapter isn't a list anymore, it isn't an iterable anymore either. We implement the `__iter__` method for the class and we make it iterate over the cached line represented by the hash value stored in the adapter's instance.\n",
    "7. `count` is no longer relevant but I haven't removed it from the code in order to make it easier to compare with the previous lesson's code.\n",
    "\n",
    "Let's see our adapter in action:"
   ]
  },
  {
   "cell_type": "code",
   "execution_count": 5,
   "metadata": {},
   "outputs": [
    {
     "name": "stdout",
     "output_type": "stream",
     "text": [
      "\n",
      "\n",
      "--- Drawing some stuff ---\n",
      "\n",
      "1: Generating points for line [1,1]→[11,1]\n",
      "..........1: Generating points for line [11,1]→[11,11]\n",
      "1: Generating points for line [1,1]→[1,11]\n",
      "1: Generating points for line [1,11]→[11,11]\n",
      "..........1: Generating points for line [3,3]→[9,3]\n",
      "......1: Generating points for line [9,3]→[9,9]\n",
      "1: Generating points for line [3,3]→[3,9]\n",
      "1: Generating points for line [3,9]→[9,9]\n",
      "......\n",
      "\n",
      "--- Drawing some stuff ---\n",
      "\n",
      "................................"
     ]
    }
   ],
   "source": [
    "def draw(rcs):\n",
    "    print(\"\\n\\n--- Drawing some stuff ---\\n\")\n",
    "    for rc in rcs:\n",
    "        for line in rc:\n",
    "            adapter = LineToPointAdapter(line)\n",
    "            for p in adapter:\n",
    "                draw_point(p)\n",
    "                \n",
    "rs = [\n",
    "    Rectangle(1, 1, 10, 10),\n",
    "    Rectangle(3, 3, 6, 6)\n",
    "]\n",
    "draw(rs)\n",
    "draw(rs)"
   ]
  },
  {
   "cell_type": "markdown",
   "metadata": {},
   "source": [
    "As you can see in the output, the `__init__` prints are not being generated the second time we draw `rs` because we already have the adapted lines in our cache, thus making this implementation much more efficient."
   ]
  }
 ],
 "metadata": {
  "kernelspec": {
   "display_name": ".venv",
   "language": "python",
   "name": "python3"
  },
  "language_info": {
   "codemirror_mode": {
    "name": "ipython",
    "version": 3
   },
   "file_extension": ".py",
   "mimetype": "text/x-python",
   "name": "python",
   "nbconvert_exporter": "python",
   "pygments_lexer": "ipython3",
   "version": "3.12.6"
  }
 },
 "nbformat": 4,
 "nbformat_minor": 2
}
