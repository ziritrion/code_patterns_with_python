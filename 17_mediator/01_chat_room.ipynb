{
 "cells": [
  {
   "cell_type": "markdown",
   "id": "2b0f0772",
   "metadata": {},
   "source": [
    "# Mediator\n",
    "\n",
    "> Facilitating communication between components"
   ]
  },
  {
   "cell_type": "markdown",
   "id": "63ea47a5",
   "metadata": {},
   "source": [
    "Let's create a chat room. We can think of a chat room as a component (in a system) where people can join in and leave at any moment. Users don't necessarily have to be aware of one another unless they're sending a direct message, but if they're sending messages to the room, then it doesn't really matter how many of them there are.\n",
    "\n",
    "Let's being by defining the basic components that we will work with:"
   ]
  },
  {
   "cell_type": "code",
   "execution_count": 1,
   "id": "f81c6c52",
   "metadata": {},
   "outputs": [],
   "source": [
    "class Person:\n",
    "    \"\"\"User in the chat room. Has a username, a chat log and a room associated to it\"\"\"\n",
    "    def __init__(self, name):\n",
    "        self.name = name\n",
    "        self.chat_log = []\n",
    "        self.room = None\n",
    "\n",
    "class ChatRoom:\n",
    "    \"\"\"Essentially a list of users\"\"\"\n",
    "    def __init__(self):\n",
    "        self.people = []"
   ]
  },
  {
   "cell_type": "markdown",
   "id": "c49540aa",
   "metadata": {},
   "source": [
    "We will now expand upon `ChatRoom` by allowing people to join the room. We will also define a `broadcast` method to send messages to the room.\n",
    "\n",
    "> For simplicity's sake we will not be implementing a `leave` method, but obviously we want users to be able to freely leave the room at any time."
   ]
  },
  {
   "cell_type": "code",
   "execution_count": 2,
   "id": "b8bcdfe0",
   "metadata": {},
   "outputs": [],
   "source": [
    "class ChatRoom:\n",
    "    def __init__(self):\n",
    "        self.people = []\n",
    "\n",
    "    def join(self, person):\n",
    "        \"\"\"Adds the user to the people list and gives the user a reference to the chat room\"\"\"\n",
    "        join_msg = f'{person.name} joins the chat'\n",
    "        self.broadcast('room', join_msg)\n",
    "        person.room = self\n",
    "        self.people.append(person)\n",
    "    \n",
    "    def broadcast(self, source, message):\n",
    "        \"\"\"Send a message to everyone in the room\"\"\"\n",
    "        for p in self.people:\n",
    "            if p.name != source:\n",
    "                p.receive(source, message)"
   ]
  },
  {
   "cell_type": "markdown",
   "id": "cc757193",
   "metadata": {},
   "source": [
    "The `broadcast` method is saying that every `Person` in the room must receive a message, so let's add that capability to `Person`:"
   ]
  },
  {
   "cell_type": "code",
   "execution_count": 3,
   "id": "8e747752",
   "metadata": {},
   "outputs": [],
   "source": [
    "class Person:\n",
    "    def __init__(self, name):\n",
    "        self.name = name\n",
    "        self.chat_log = []\n",
    "        self.room = None\n",
    "\n",
    "    def receive(self, sender, message):\n",
    "        s = f'{sender}: {message}'\n",
    "        print(f'[{self.name}\\'s chat session] {s}') # We specify the Person's chat session\n",
    "        self.chat_log.append(s)"
   ]
  },
  {
   "cell_type": "markdown",
   "id": "a977cb0e",
   "metadata": {},
   "source": [
    "Another common feature of chat rooms is the ability to directly message another user. We want to make sure that if user A sends a message to user B who just left the room, our code will be able to handle it and not crash."
   ]
  },
  {
   "cell_type": "code",
   "execution_count": 4,
   "id": "c07383a1",
   "metadata": {},
   "outputs": [],
   "source": [
    "class ChatRoom:\n",
    "    def __init__(self):\n",
    "        self.people = []\n",
    "\n",
    "    def join(self, person):\n",
    "        \"\"\"Adds the user to the people list and gives the user a reference to the chat room\"\"\"\n",
    "        join_msg = f'{person.name} joins the chat'\n",
    "        self.broadcast('room', join_msg)\n",
    "        person.room = self\n",
    "        self.people.append(person)\n",
    "    \n",
    "    def broadcast(self, source, message):\n",
    "        \"\"\"Send a message to everyone in the room\"\"\"\n",
    "        for p in self.people:\n",
    "            if p.name != source:\n",
    "                p.receive(source, message)\n",
    "\n",
    "    def message(self, source, destination, message):\n",
    "        \"\"\"Direct messaging between users\"\"\"\n",
    "        for p in self.people:\n",
    "            if p.name == destination:\n",
    "                p.receive(source, message) # we only deliver the message if the user is present in the chat room"
   ]
  },
  {
   "cell_type": "markdown",
   "id": "056206d3",
   "metadata": {},
   "source": [
    "The chat room can now handle direct messages but `Person` still does not know how to send one, so let's enable it. Since we're at it, we'll also enable sending messages to the chat room."
   ]
  },
  {
   "cell_type": "code",
   "execution_count": 5,
   "id": "73ba7dd4",
   "metadata": {},
   "outputs": [],
   "source": [
    "class Person:\n",
    "    def __init__(self, name):\n",
    "        self.name = name\n",
    "        self.chat_log = []\n",
    "        self.room = None\n",
    "\n",
    "    def receive(self, sender, message):\n",
    "        s = f'{sender}: {message}'\n",
    "        print(f'[{self.name}\\'s chat session] {s}')\n",
    "        self.chat_log.append(s)\n",
    "\n",
    "    def private_message(self, who, message):\n",
    "        self.room.message(self.name, who, message) # Note that we're sending the message to the room rather than to another user directly\n",
    "    \n",
    "    def say(self, message):\n",
    "        self.room.broadcast(self.name, message)"
   ]
  },
  {
   "cell_type": "markdown",
   "id": "70355282",
   "metadata": {},
   "source": [
    "In this scenario, `ChatRoom` behaves as the **mediator** between users. Users don't send direct messages directly between them, but rather, they send them to `ChatRoom` and it takes care of delivering the private messages.\n",
    "\n",
    "We now have everything in place. Let's simulate a chat room:"
   ]
  },
  {
   "cell_type": "code",
   "execution_count": 6,
   "id": "c175c841",
   "metadata": {},
   "outputs": [
    {
     "name": "stdout",
     "output_type": "stream",
     "text": [
      "[John's chat session] room: Jane joins the chat\n",
      "[Jane's chat session] John: hi room\n",
      "[John's chat session] Jane: oh, hey john\n",
      "[John's chat session] room: Simon joins the chat\n",
      "[Jane's chat session] room: Simon joins the chat\n",
      "[John's chat session] Simon: hi everyone!\n",
      "[Jane's chat session] Simon: hi everyone!\n",
      "[Simon's chat session] Jane: glad you could join us!\n"
     ]
    }
   ],
   "source": [
    "room = ChatRoom()\n",
    "\n",
    "john = Person('John')\n",
    "jane = Person('Jane')\n",
    "\n",
    "room.join(john)\n",
    "room.join(jane)\n",
    "\n",
    "john.say('hi room')\n",
    "jane.say('oh, hey john')\n",
    "\n",
    "simon = Person('Simon')\n",
    "room.join(simon)\n",
    "simon.say('hi everyone!')\n",
    "\n",
    "jane.private_message('Simon', 'glad you could join us!')"
   ]
  },
  {
   "cell_type": "markdown",
   "id": "7587e13a",
   "metadata": {},
   "source": [
    "Note that there is no *John joins the chat* message because John is the first user to join the chat, thus there's nobody else to broadcast the join message to. When Simon joins, both John and Jane receive the broadcast message."
   ]
  }
 ],
 "metadata": {
  "kernelspec": {
   "display_name": ".venv",
   "language": "python",
   "name": "python3"
  },
  "language_info": {
   "codemirror_mode": {
    "name": "ipython",
    "version": 3
   },
   "file_extension": ".py",
   "mimetype": "text/x-python",
   "name": "python",
   "nbconvert_exporter": "python",
   "pygments_lexer": "ipython3",
   "version": "3.12.10"
  }
 },
 "nbformat": 4,
 "nbformat_minor": 5
}
