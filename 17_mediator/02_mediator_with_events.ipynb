{
 "cells": [
  {
   "cell_type": "markdown",
   "id": "7e179528",
   "metadata": {},
   "source": [
    "# Mediator with events\n",
    "\n",
    "> Combining the Observer and Mediator patterns"
   ]
  },
  {
   "cell_type": "markdown",
   "id": "9ec7a552",
   "metadata": {},
   "source": [
    "We briefly discussed **events** in the *Chain of Responsibility* lesson; we defined an event as as a list of functions what we can call. Events will be discussed further in the upcoming *Observer* lesson, but we will use the same implementation we used previously to show a variation of the Mediator design pattern."
   ]
  },
  {
   "cell_type": "code",
   "execution_count": 1,
   "id": "3024cea1",
   "metadata": {},
   "outputs": [],
   "source": [
    "class Event(list):\n",
    "    def __call__(self, *args, **kwargs):\n",
    "        for item in self:\n",
    "            item(*args, **kwargs)"
   ]
  },
  {
   "cell_type": "markdown",
   "id": "310aecc5",
   "metadata": {},
   "source": [
    "In this scenario we will model a soccer match. The `Game` will be our **mediator**; it will generate events that subsequently players, coaches and viewers can subscribe to and get information about something happening in the game. We will have a single `events` object that everyone can subscribe to, and we'll define a method to fire the events."
   ]
  },
  {
   "cell_type": "code",
   "execution_count": 2,
   "id": "49ae8f72",
   "metadata": {},
   "outputs": [],
   "source": [
    "class Game:\n",
    "    def __init__(self):\n",
    "        self.events = Event()\n",
    "\n",
    "    def fire(self, args):\n",
    "        self.events(args)"
   ]
  },
  {
   "cell_type": "markdown",
   "id": "29791503",
   "metadata": {},
   "source": [
    "We will now generate a class for informing the subscribers that a goal has been scored:"
   ]
  },
  {
   "cell_type": "code",
   "execution_count": 3,
   "id": "102493bc",
   "metadata": {},
   "outputs": [],
   "source": [
    "class GoalScoredInfo:\n",
    "    def __init__(self, who_scored, goals_scored):\n",
    "        self.goals_scored = goals_scored\n",
    "        self.who_scored = who_scored"
   ]
  },
  {
   "cell_type": "markdown",
   "id": "1c81ea3e",
   "metadata": {},
   "source": [
    "And we will now define the `Player` class. A `Player` is able to score goals. We will use our `Game` mediator for informing the subscribers about goal scoring."
   ]
  },
  {
   "cell_type": "code",
   "execution_count": 4,
   "id": "e856c3e0",
   "metadata": {},
   "outputs": [],
   "source": [
    "class Player:\n",
    "    def __init__(self, name, game):\n",
    "        self.name = name\n",
    "        self.game = game\n",
    "        self.goals_scored = 0\n",
    "\n",
    "    def score(self):\n",
    "        self.goals_scored += 1\n",
    "        args = GoalScoredInfo(self.name, self.goals_scored)\n",
    "        self.game.fire(args) # we trigger a goal event"
   ]
  },
  {
   "cell_type": "markdown",
   "id": "28991d68",
   "metadata": {},
   "source": [
    "Let's now define another subscriber, `Coach`. A `Coach` subscribes to the game events and listens for goals; they will celebrate the first and second goals of a player but will ignore the player from the 3rd goal onwards."
   ]
  },
  {
   "cell_type": "code",
   "execution_count": 5,
   "id": "9601b470",
   "metadata": {},
   "outputs": [],
   "source": [
    "class Coach:\n",
    "    def __init__(self, game):\n",
    "        game.events.append(self.celebrate_goal) # subscribing to the events\n",
    "\n",
    "    def celebrate_goal(self, args):\n",
    "        if isinstance(args, GoalScoredInfo) and args.goals_scored < 3:\n",
    "            print(f'Coach says: well done, {args.who_scored}!')"
   ]
  },
  {
   "cell_type": "markdown",
   "id": "b9c7a465",
   "metadata": {},
   "source": [
    "Here's what's happening:\n",
    "\n",
    "1. Remember that `game.events` is a list of callable functions. When we initialize `Coach`, we append the `celebrate_goal` method to that list (we call this \"subscribing to the events\").\n",
    "2. When a `Player` scores a goal, they create a `GoalScoredInfo` instance that is sent as an argument to our events list; the `game.fire` method will trigger an event: it will loop through our list of callable functions and call each one with whatever arguments we pass, which is `GoalScoredInfo` in this case.\n",
    "3. As the list of callable functions iterates, it eventually calls `celebrate_goal` and passes `GoalScoredInfo` as an argument.\n",
    "\n",
    "Let's see our code in action:"
   ]
  },
  {
   "cell_type": "code",
   "execution_count": 6,
   "id": "45e08a88",
   "metadata": {},
   "outputs": [
    {
     "name": "stdout",
     "output_type": "stream",
     "text": [
      "Coach says: well done, Sam!\n",
      "Coach says: well done, Sam!\n"
     ]
    }
   ],
   "source": [
    "game = Game()\n",
    "player = Player('Sam', game)\n",
    "coach = Coach(game)\n",
    "\n",
    "player.score()  # Coach says: well done, Sam!\n",
    "player.score()  # Coach says: well done, Sam!\n",
    "player.score()  # ignored by coach"
   ]
  }
 ],
 "metadata": {
  "kernelspec": {
   "display_name": ".venv",
   "language": "python",
   "name": "python3"
  },
  "language_info": {
   "codemirror_mode": {
    "name": "ipython",
    "version": 3
   },
   "file_extension": ".py",
   "mimetype": "text/x-python",
   "name": "python",
   "nbconvert_exporter": "python",
   "pygments_lexer": "ipython3",
   "version": "3.12.10"
  }
 },
 "nbformat": 4,
 "nbformat_minor": 5
}
