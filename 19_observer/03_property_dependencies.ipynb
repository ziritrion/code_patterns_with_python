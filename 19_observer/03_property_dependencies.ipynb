{
 "cells": [
  {
   "cell_type": "markdown",
   "id": "c11d4cfa",
   "metadata": {},
   "source": [
    "# Observer: property dependencies\n",
    "\n",
    "> Exposing the problems with property observers"
   ]
  },
  {
   "cell_type": "markdown",
   "id": "7afcaf43",
   "metadata": {},
   "source": [
    "**Property observers** seem very useful but unfortunately there are problems with them, one of them being what happens when a property is dependent on another property.\n",
    "\n",
    "We will reuse the code from the last lesson but we will now add a new boolean property that will indicate whether a `Person` can vote."
   ]
  },
  {
   "cell_type": "code",
   "execution_count": 1,
   "id": "79cef25f",
   "metadata": {},
   "outputs": [],
   "source": [
    "class Event(list):\n",
    "    def __call__(self, *args, **kwargs):\n",
    "        for item in self:\n",
    "            item(*args, **kwargs)\n",
    "\n",
    "class PropertyObservable:\n",
    "    def __init__(self):\n",
    "        self.property_changed = Event()\n",
    "\n",
    "class Person(PropertyObservable):\n",
    "    def __init__(self, age=0):\n",
    "        super().__init__()\n",
    "        self._age = age\n",
    "\n",
    "    @property\n",
    "    def age(self):\n",
    "        return self._age\n",
    "\n",
    "    @age.setter\n",
    "    def age(self, value):\n",
    "        if self._age == value:\n",
    "            return\n",
    "        self._age = value\n",
    "        self.property_changed('age', value)\n",
    "\n",
    "    # new boolean property\n",
    "    @property\n",
    "    def can_vote(self):\n",
    "        return self.age >= 18"
   ]
  },
  {
   "cell_type": "markdown",
   "id": "cf595920",
   "metadata": {},
   "source": [
    "Our new `can_vote` property is a computed property, so there is no setter to worry about. However, with our current code, it's simply impossible to send notifications on changes to the voting ability of a `Person`. Let's try it anyway:"
   ]
  },
  {
   "cell_type": "code",
   "execution_count": 2,
   "id": "3bd5e7c8",
   "metadata": {},
   "outputs": [],
   "source": [
    "# subscriber\n",
    "def person_changed(name, value):\n",
    "    if name == 'can_vote':\n",
    "        print(f'Voting status changed to {value}')"
   ]
  },
  {
   "cell_type": "code",
   "execution_count": 3,
   "id": "5db72bcf",
   "metadata": {},
   "outputs": [
    {
     "name": "stdout",
     "output_type": "stream",
     "text": [
      "Changing age to 16\n",
      "Changing age to 17\n",
      "Changing age to 18\n",
      "Changing age to 19\n",
      "Changing age to 20\n"
     ]
    }
   ],
   "source": [
    "p = Person()\n",
    "p.property_changed.append(person_changed)\n",
    "\n",
    "for age in range(16, 21):\n",
    "    print(f'Changing age to {age}')\n",
    "    p.age = age"
   ]
  },
  {
   "cell_type": "markdown",
   "id": "58af7aa2",
   "metadata": {},
   "source": [
    "As you can see in the code above, even though `person_changed` checks for the `can_vote` property, it's never triggered because we never call `property_changed` with `can_vote`.\n",
    "\n",
    "You might be tempted to trigger a second event within the `age` setter for `can_vote`, but that would be incorrect because the property change only happens when the `Person` turns 18, thus it doesn't make sense to trigger an event for every age change.\n",
    "\n",
    "What we will do is caching the old `can_vote` value in the `age` setter before actually changing the age, then do a comparison between the cached value and the current value, and then trigger the event is it has changed:"
   ]
  },
  {
   "cell_type": "code",
   "execution_count": 4,
   "id": "cda92aeb",
   "metadata": {},
   "outputs": [],
   "source": [
    "class Person(PropertyObservable):\n",
    "    def __init__(self, age=0):\n",
    "        super().__init__()\n",
    "        self._age = age\n",
    "\n",
    "    @property\n",
    "    def age(self):\n",
    "        return self._age\n",
    "    \n",
    "    @property\n",
    "    def can_vote(self):\n",
    "        return self.age >= 18\n",
    "\n",
    "    @age.setter\n",
    "    def age(self, value):\n",
    "        if self._age == value:\n",
    "            return\n",
    "        \n",
    "        # we cache the old can_vote value\n",
    "        cached_can_vote = self.can_vote\n",
    "\n",
    "        # we change the age as usual\n",
    "        self._age = value\n",
    "        self.property_changed('age', value)\n",
    "\n",
    "        # we check whether can_vote changed and trigger the second event if true\n",
    "        if cached_can_vote != self.can_vote:\n",
    "            self.property_changed('can_vote', self.can_vote)"
   ]
  },
  {
   "cell_type": "markdown",
   "id": "57821fc7",
   "metadata": {},
   "source": [
    "We are now ready to try again:"
   ]
  },
  {
   "cell_type": "code",
   "execution_count": 5,
   "id": "d710577d",
   "metadata": {},
   "outputs": [
    {
     "name": "stdout",
     "output_type": "stream",
     "text": [
      "Changing age to 16\n",
      "Changing age to 17\n",
      "Changing age to 18\n",
      "Voting status changed to True\n",
      "Changing age to 19\n",
      "Changing age to 20\n"
     ]
    }
   ],
   "source": [
    "p = Person()\n",
    "p.property_changed.append(person_changed)\n",
    "\n",
    "for age in range(16, 21):\n",
    "    print(f'Changing age to {age}')\n",
    "    p.age = age"
   ]
  },
  {
   "cell_type": "markdown",
   "id": "f21c5a10",
   "metadata": {},
   "source": [
    "The code now works as expected.\n",
    "\n",
    "However, note that the code is more complex than in the previous lesson. Property observers don't scale well and in more complex scenarios with multi-level dependencies, the code gets messy fast."
   ]
  }
 ],
 "metadata": {
  "kernelspec": {
   "display_name": ".venv",
   "language": "python",
   "name": "python3"
  },
  "language_info": {
   "codemirror_mode": {
    "name": "ipython",
    "version": 3
   },
   "file_extension": ".py",
   "mimetype": "text/x-python",
   "name": "python",
   "nbconvert_exporter": "python",
   "pygments_lexer": "ipython3",
   "version": "3.12.10"
  }
 },
 "nbformat": 4,
 "nbformat_minor": 5
}
