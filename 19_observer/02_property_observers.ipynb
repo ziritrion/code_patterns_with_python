{
 "cells": [
  {
   "cell_type": "markdown",
   "id": "b7f57b64",
   "metadata": {},
   "source": [
    "# Observer: property observers\n",
    "\n",
    "> Merging Python properties with the Observer design pattern"
   ]
  },
  {
   "cell_type": "markdown",
   "id": "75e48bc2",
   "metadata": {},
   "source": [
    "You might remember than in Python, a **property** is a special kind of attribute with `__get__`, `__set__` and/or `__delete__` methods.\n",
    "\n",
    "A **property observer** tells us whenever a property is actually changed.\n",
    "\n",
    "We will now create a `PropertyObservable` class that other classes can inherit from in order to offer observable properties. We will then create a `Person` class with an `age` property that will trigger an event whenever it gets changed; we can do this from its setter:"
   ]
  },
  {
   "cell_type": "code",
   "execution_count": 1,
   "id": "1eb39de0",
   "metadata": {},
   "outputs": [],
   "source": [
    "class Event(list):\n",
    "    def __call__(self, *args, **kwargs):\n",
    "        for item in self:\n",
    "            item(*args, **kwargs)\n",
    "\n",
    "class PropertyObservable:\n",
    "    def __init__(self):\n",
    "        self.property_changed = Event()\n",
    "\n",
    "class Person(PropertyObservable):\n",
    "    def __init__(self, age=0):\n",
    "        super().__init__()\n",
    "        self._age = age\n",
    "\n",
    "    @property\n",
    "    def age(self):\n",
    "        return self._age\n",
    "\n",
    "    @age.setter\n",
    "    def age(self, value):\n",
    "        if self._age == value: # we're not actually changing the value, so there's nothing to modify or notify\n",
    "            return\n",
    "        self._age = value\n",
    "        self.property_changed('age', value) # the value changes, so we trigger an event with 2 arguments: the property name and its value"
   ]
  },
  {
   "cell_type": "markdown",
   "id": "d1ace5ef",
   "metadata": {},
   "source": [
    "Our observable property is ready; we just need to subscribe to it now. We will create a `TrafficAuthority` class that is interested in monitoring whether a `Person` is old enough to drive, so it will subscribe to that person's `age` property:"
   ]
  },
  {
   "cell_type": "code",
   "execution_count": null,
   "id": "806c922e",
   "metadata": {},
   "outputs": [],
   "source": [
    "class TrafficAuthority:\n",
    "    def __init__(self, person):\n",
    "        self.person = person\n",
    "        person.property_changed.append(self.person_changed) # subscribing to self.person's events with person_changed\n",
    "\n",
    "    def person_changed(self, name, value):\n",
    "        if name == 'age':\n",
    "            if value < 18: # change this value to whatever your country's minimum driving age is\n",
    "                print('Sorry, you still cannot drive')\n",
    "            else:\n",
    "                print('Okay, you can drive now')\n",
    "                # we don't need to be notified anymore, so we unsubscribe\n",
    "                self.person.property_changed.remove(\n",
    "                    self.person_changed\n",
    "                )"
   ]
  },
  {
   "cell_type": "markdown",
   "id": "ef16a50d",
   "metadata": {},
   "source": [
    "Let's run our code:"
   ]
  },
  {
   "cell_type": "code",
   "execution_count": 4,
   "id": "0613a370",
   "metadata": {},
   "outputs": [
    {
     "name": "stdout",
     "output_type": "stream",
     "text": [
      "Setting age to 15\n",
      "Sorry, you still cannot drive\n",
      "Setting age to 16\n",
      "Sorry, you still cannot drive\n",
      "Setting age to 17\n",
      "Sorry, you still cannot drive\n",
      "Setting age to 18\n",
      "Okay, you can drive now\n",
      "Setting age to 19\n",
      "Setting age to 20\n",
      "Setting age to 21\n"
     ]
    }
   ],
   "source": [
    "p = Person()\n",
    "ta = TrafficAuthority(p)\n",
    "for age in range(15, 22):\n",
    "    print(f'Setting age to {age}')\n",
    "    p.age = age"
   ]
  },
  {
   "cell_type": "markdown",
   "id": "7a55513d",
   "metadata": {},
   "source": [
    "As you can see from the results above, as soon as the `Person` hits the minimum driving age, the `TrafficAuthority` unsubscribes from the age property change event and stops broadcasting age checks."
   ]
  }
 ],
 "metadata": {
  "kernelspec": {
   "display_name": ".venv",
   "language": "python",
   "name": "python3"
  },
  "language_info": {
   "codemirror_mode": {
    "name": "ipython",
    "version": 3
   },
   "file_extension": ".py",
   "mimetype": "text/x-python",
   "name": "python",
   "nbconvert_exporter": "python",
   "pygments_lexer": "ipython3",
   "version": "3.12.10"
  }
 },
 "nbformat": 4,
 "nbformat_minor": 5
}
