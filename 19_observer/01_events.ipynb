{
 "cells": [
  {
   "cell_type": "markdown",
   "id": "1881798d",
   "metadata": {},
   "source": [
    "# Observer: events\n",
    "\n",
    "> Notifying objects when something happens"
   ]
  },
  {
   "cell_type": "markdown",
   "id": "dcf43d7e",
   "metadata": {},
   "source": [
    "The **Observer Design Pattern** revolves around the idea of **observers** and **observables**:\n",
    "* An *observable* is an object that generates an *event*.\n",
    "* An *observer* is an object that wants to be notified of said event.\n",
    "\n",
    "An **event** is simply something that happens, which could be anything we want: a change of properties, an action, an external occurrence, etc.\n",
    "\n",
    "There are many possible implementations for events. Our `Event` class will be a **list of functions** that will be called when an event is triggered; each one of these functions are called **subscribers**."
   ]
  },
  {
   "cell_type": "code",
   "execution_count": 16,
   "id": "a393fcf9",
   "metadata": {},
   "outputs": [],
   "source": [
    "class Event(list):\n",
    "    def __call__(self, *args, **kwargs):\n",
    "        for item in self:\n",
    "            item(*args, **kwargs)"
   ]
  },
  {
   "cell_type": "markdown",
   "id": "5593a1f2",
   "metadata": {},
   "source": [
    "> We've already seen this implementation in the *Chain of Responsibility* and *Mediator* design pattern lessons.\n",
    "\n",
    "In the following scenario we will create a notification system that will notify a doctor when somebody falls ill. We will create a `Person` class that can trigger an event when they fall ill."
   ]
  },
  {
   "cell_type": "code",
   "execution_count": 17,
   "id": "00693b5e",
   "metadata": {},
   "outputs": [],
   "source": [
    "class Person:\n",
    "    def __init__(self, name, address):\n",
    "        self.name = name\n",
    "        self.address = address\n",
    "        self.falls_ill = Event()\n",
    "\n",
    "    def catch_a_cold(self):\n",
    "        self.falls_ill(self.name, self.address)"
   ]
  },
  {
   "cell_type": "markdown",
   "id": "61e21161",
   "metadata": {},
   "source": [
    "In the code above, `falls_ill` holds the `Event` object (the list of functions). The `catch_a_cold` method will **trigger an event**: every function stored within the list of functions will be called one after another with whatever arguments we provide, which in this case are `self.name` and `self.address`.\n",
    "\n",
    "We currently don't have any functions stored within our list (subscribers), so let's create one:"
   ]
  },
  {
   "cell_type": "code",
   "execution_count": 18,
   "id": "9b3d473d",
   "metadata": {},
   "outputs": [],
   "source": [
    "def call_doctor(name, address):\n",
    "    print(f'{name} needs a doctor at {address}')"
   ]
  },
  {
   "cell_type": "markdown",
   "id": "c890f080",
   "metadata": {},
   "source": [
    "We now have everything in place to run our code:"
   ]
  },
  {
   "cell_type": "code",
   "execution_count": 19,
   "id": "108a3301",
   "metadata": {},
   "outputs": [
    {
     "name": "stdout",
     "output_type": "stream",
     "text": [
      "Sherlock needs a doctor at 221B Baker St\n"
     ]
    }
   ],
   "source": [
    "person = Person('Sherlock', '221B Baker St')\n",
    "person.falls_ill.append(call_doctor)\n",
    "person.catch_a_cold()"
   ]
  },
  {
   "cell_type": "markdown",
   "id": "64d11633",
   "metadata": {},
   "source": [
    "Here's what we did:\n",
    "1. We created a `Person`\n",
    "2. We **subscribed** the `call_doctor` function to the `falls_ill` event.\n",
    "3. The `catch_a_cold` method then triggered the `falls_ill` event and invoked every single subscriber, which in our case is just one.\n",
    "\n",
    "We can also use lambda functions to subscribe on an event:"
   ]
  },
  {
   "cell_type": "code",
   "execution_count": 20,
   "id": "7b1d50d1",
   "metadata": {},
   "outputs": [
    {
     "name": "stdout",
     "output_type": "stream",
     "text": [
      "Sherlock is ill\n",
      "Sherlock needs a doctor at 221B Baker St\n"
     ]
    }
   ],
   "source": [
    "person = Person('Sherlock', '221B Baker St')\n",
    "person.falls_ill.append(\n",
    "    lambda name, addr: print(f'{name} is ill')\n",
    ")\n",
    "person.falls_ill.append(call_doctor)\n",
    "person.catch_a_cold()"
   ]
  },
  {
   "cell_type": "markdown",
   "id": "846451b1",
   "metadata": {},
   "source": [
    "> Note that even though our lambda function only uses the `name` arg, we pass both `name` and `addr` because `catch_a_cold` will trigger an event and pass those 2 arguments, and the lambda functions needs to be able to receive both of them.\n",
    "\n",
    "Besides subscribing, we can also **unsubscribe** from an event with the `remove` method:"
   ]
  },
  {
   "cell_type": "code",
   "execution_count": 21,
   "id": "271ff91d",
   "metadata": {},
   "outputs": [
    {
     "name": "stdout",
     "output_type": "stream",
     "text": [
      "Sherlock is ill\n",
      "Sherlock needs a doctor at 221B Baker St\n",
      "---\n",
      "Sherlock is ill\n"
     ]
    }
   ],
   "source": [
    "person = Person('Sherlock', '221B Baker St')\n",
    "person.falls_ill.append(\n",
    "    lambda name, addr: print(f'{name} is ill')\n",
    ")\n",
    "person.falls_ill.append(call_doctor)\n",
    "person.catch_a_cold()\n",
    "\n",
    "print('---')\n",
    "\n",
    "person.falls_ill.remove(call_doctor)\n",
    "person.catch_a_cold()"
   ]
  },
  {
   "cell_type": "markdown",
   "id": "86a3bcd6",
   "metadata": {},
   "source": [
    "> Remember that an `Event` is a list and as such it has all the list methods, such as `append` and `remove`.\n",
    "\n",
    "As you can see, we unsubscribed `call_doctor` from the event and when we trigger the event a second time, `call_doctor` is not invoked anymore."
   ]
  }
 ],
 "metadata": {
  "kernelspec": {
   "display_name": ".venv",
   "language": "python",
   "name": "python3"
  },
  "language_info": {
   "codemirror_mode": {
    "name": "ipython",
    "version": 3
   },
   "file_extension": ".py",
   "mimetype": "text/x-python",
   "name": "python",
   "nbconvert_exporter": "python",
   "pygments_lexer": "ipython3",
   "version": "3.12.10"
  }
 },
 "nbformat": 4,
 "nbformat_minor": 5
}
