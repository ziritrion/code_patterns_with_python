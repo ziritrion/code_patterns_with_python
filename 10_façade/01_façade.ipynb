{
 "cells": [
  {
   "cell_type": "markdown",
   "metadata": {},
   "source": [
    "# Façade\n",
    "\n",
    "> Exposing several components through a single interface"
   ]
  },
  {
   "cell_type": "markdown",
   "metadata": {},
   "source": [
    "In this scenario we are going to implement a **text console**.\n",
    "\n",
    "Text consoles are deceivingly sophisticated systems that consist of many parts:\n",
    "* The **buffers** are areas of memory where you put the characters that you are going to print.\n",
    "* The **viewports** are views into those buffers that show us a small portion of all of the information stored in them.\n",
    "* The **console** allows for easy manipulation of these elements. It's a **façade** for the whole system.\n",
    "\n",
    "Let's begin by implementing the `Buffer` class. A buffer can be a 2 or 1 dimensional chunk of memory, like a list, for example. Our `Buffer` will be 2 dimensional, with width and height as attributes:"
   ]
  },
  {
   "cell_type": "code",
   "execution_count": 1,
   "metadata": {},
   "outputs": [],
   "source": [
    "class Buffer:\n",
    "  def __init__(self, width=30, height=20):\n",
    "    self.width = width\n",
    "    self.height = height\n",
    "    self.buffer = [' '] * (width*height)\n",
    "\n",
    "  def __getitem__(self, item):\n",
    "    return self.buffer.__getitem__(item)\n",
    "\n",
    "  def write(self, text):\n",
    "    self.buffer += text"
   ]
  },
  {
   "cell_type": "markdown",
   "metadata": {},
   "source": [
    "The actual buffer is `self.buffer`, which for the time being contains the empty space character repeated times width times height. We also provide a basic API for writing to the buffer and obtaining characters from the buffer.\n",
    "\n",
    "Now we will implement our `Viewport` class. A viewport shows a chunk of a buffer on screen somewhere; we will initialize it with a buffer and we will also provide an offset value, because the viewport can be offset against the beginning of the console."
   ]
  },
  {
   "cell_type": "code",
   "execution_count": 2,
   "metadata": {},
   "outputs": [],
   "source": [
    "class Viewport:\n",
    "  def __init__(self, buffer=Buffer()):\n",
    "    self.buffer = buffer\n",
    "    self.offset = 0\n",
    "\n",
    "  def get_char_at(self, index):\n",
    "    return self.buffer[self.offset+index]\n",
    "\n",
    "  def append(self, text):\n",
    "    self.buffer += text"
   ]
  },
  {
   "cell_type": "markdown",
   "metadata": {},
   "source": [
    "We also provide an API for providing a character in a particular location and we will also have a method for appending text from the viewport to the buffer.\n",
    "\n",
    "We now have our low-level constructs and are now ready to create our `Console` (in other words, our **façade** for dealing with these low-level elements).  Our `Console` will contain both a default `Buffer` and default `Viewport` attached to that buffer. We will also create lists for storing multiple buffers and viewports."
   ]
  },
  {
   "cell_type": "code",
   "execution_count": 3,
   "metadata": {},
   "outputs": [],
   "source": [
    "class Console:\n",
    "  def __init__(self):\n",
    "    b = Buffer()\n",
    "    self.current_viewport = Viewport(b)\n",
    "    self.buffers = [b]\n",
    "    self.viewports = [self.current_viewport]\n",
    "    \n",
    "  # high-level\n",
    "  def write(self, text):\n",
    "    self.current_viewport.buffer.write(text)\n",
    "\n",
    "  # low-level\n",
    "  def get_char_at(self, index):\n",
    "    return self.current_viewport.get_char_at(index)"
   ]
  },
  {
   "cell_type": "markdown",
   "metadata": {},
   "source": [
    "> For simplicity, we will only be dealing with a single buffer and viewport.\n",
    "\n",
    "As a high-level construct, our `Console` façade hides the complexity of the system and offers a simple to use, high-level API, which is represented by the `write` method above: the user is not concerned with the specifics of the implementation and simply wants to write some text, which is what this method allows them to do.\n",
    "\n",
    "However, we can also expose low level functionality from the façade as well. For power users who are familiar with the implementation, we can offer a low-level API for specific operations that allow finer control; in this case, we offer a `get_char_at` method that exposes the `Viewport`'s method of the same name which allows us to get a character from a specific location within the viewport.\n",
    "\n",
    "This is how we would use our `Console`:"
   ]
  },
  {
   "cell_type": "code",
   "execution_count": 7,
   "metadata": {},
   "outputs": [
    {
     "name": "stdout",
     "output_type": "stream",
     "text": [
      " \n"
     ]
    }
   ],
   "source": [
    "# Debug this cell to see the contents of `c` and `ch`.\n",
    "# Don't forget to add breakpoints!\n",
    "\n",
    "c = Console()\n",
    "c.write('hello')\n",
    "ch = c.get_char_at(0)\n",
    "print(ch)"
   ]
  }
 ],
 "metadata": {
  "kernelspec": {
   "display_name": ".venv",
   "language": "python",
   "name": "python3"
  },
  "language_info": {
   "codemirror_mode": {
    "name": "ipython",
    "version": 3
   },
   "file_extension": ".py",
   "mimetype": "text/x-python",
   "name": "python",
   "nbconvert_exporter": "python",
   "pygments_lexer": "ipython3",
   "version": "3.12.6"
  }
 },
 "nbformat": 4,
 "nbformat_minor": 2
}
