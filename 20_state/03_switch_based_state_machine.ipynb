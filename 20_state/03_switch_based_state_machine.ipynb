{
 "cells": [
  {
   "cell_type": "markdown",
   "id": "fa1c8cd4",
   "metadata": {},
   "source": [
    "# State: switch-based state machine\n",
    "\n",
    "> Using switch-like structures in Python versions previous to 3.10"
   ]
  },
  {
   "cell_type": "markdown",
   "id": "dddb48aa",
   "metadata": {},
   "source": [
    "Another possible implementation of state machines is done using **switch statements**.\n",
    "\n",
    "Python did not have switch statements until version 3.10, which introduced the `match` and `case` keywords.\n",
    "\n",
    "For backwards compatibility purposes, we will implement a sort of switch-based state machine using `if`/`elif`/`else` statements. In this exercise, we will model a combination lock with 3 possible states:"
   ]
  },
  {
   "cell_type": "code",
   "execution_count": 1,
   "id": "7a6f2b8b",
   "metadata": {},
   "outputs": [],
   "source": [
    "from enum import Enum, auto\n",
    "\n",
    "class State(Enum):\n",
    "    LOCKED = auto()\n",
    "    FAILED = auto()\n",
    "    UNLOCKED = auto()"
   ]
  },
  {
   "cell_type": "markdown",
   "id": "682c1656",
   "metadata": {},
   "source": [
    "We will now create a `while True` loop that will break when we reach the final state:"
   ]
  },
  {
   "cell_type": "code",
   "execution_count": 2,
   "id": "6f9fa531",
   "metadata": {},
   "outputs": [
    {
     "name": "stdout",
     "output_type": "stream",
     "text": [
      "\n",
      "1\n",
      "12\n",
      "123\n",
      "1235\n",
      "\n",
      "FAILED\n",
      "1\n",
      "12\n",
      "123\n",
      "1234\n",
      "\n",
      "UNLOCKED\n"
     ]
    }
   ],
   "source": [
    "code = '1234'\n",
    "state = State.LOCKED\n",
    "entry = ''\n",
    "\n",
    "while True:\n",
    "    if state == State.LOCKED:\n",
    "        entry += input(entry)\n",
    "        print(entry)\n",
    "\n",
    "        if entry == code:\n",
    "            state = State.UNLOCKED\n",
    "\n",
    "        if not code.startswith(entry):\n",
    "            # the code is wrong\n",
    "            state = State.FAILED\n",
    "    elif state == State.FAILED:\n",
    "        print('\\nFAILED')\n",
    "        entry = ''\n",
    "        state = State.LOCKED\n",
    "    elif state == State.UNLOCKED:\n",
    "        print('\\nUNLOCKED')\n",
    "        break"
   ]
  },
  {
   "cell_type": "markdown",
   "id": "c4dada2f",
   "metadata": {},
   "source": [
    "From Python version 3.10 onwards, the `match` and `case` keyword allow us to rewrite the code above like this:"
   ]
  },
  {
   "cell_type": "code",
   "execution_count": 3,
   "id": "a6c42258",
   "metadata": {},
   "outputs": [
    {
     "name": "stdout",
     "output_type": "stream",
     "text": [
      "1\n",
      "12\n",
      "123\n",
      "1235\n",
      "\n",
      "FAILED\n",
      "1\n",
      "12\n",
      "123\n",
      "1234\n",
      "\n",
      "UNLOCKED\n"
     ]
    }
   ],
   "source": [
    "code = '1234'\n",
    "state = State.LOCKED\n",
    "entry = ''\n",
    "\n",
    "while True:\n",
    "    match state:\n",
    "        case State.LOCKED:\n",
    "            entry += input(entry)\n",
    "            print(entry)\n",
    "            \n",
    "            if entry == code:\n",
    "                state = State.UNLOCKED\n",
    "            elif not code.startswith(entry):\n",
    "                state = State.FAILED\n",
    "        \n",
    "        case State.FAILED:\n",
    "            print('\\nFAILED')\n",
    "            entry = ''\n",
    "            state = State.LOCKED\n",
    "            \n",
    "        case State.UNLOCKED:\n",
    "            print('\\nUNLOCKED')\n",
    "            break"
   ]
  },
  {
   "cell_type": "markdown",
   "id": "f9c860f6",
   "metadata": {},
   "source": [
    "The advantage of switch-based state machines is that they don't require additional data structures for defining sets of triggers and transitions; the only thing we're required to store is the state itself.\n",
    "\n",
    "The downside is that for more complex state machines, the code can get unwieldly and difficult to understand, so it's up to the developers to decide whether or not this approach will work for their use case."
   ]
  }
 ],
 "metadata": {
  "kernelspec": {
   "display_name": ".venv",
   "language": "python",
   "name": "python3"
  },
  "language_info": {
   "codemirror_mode": {
    "name": "ipython",
    "version": 3
   },
   "file_extension": ".py",
   "mimetype": "text/x-python",
   "name": "python",
   "nbconvert_exporter": "python",
   "pygments_lexer": "ipython3",
   "version": "3.12.6"
  }
 },
 "nbformat": 4,
 "nbformat_minor": 5
}
