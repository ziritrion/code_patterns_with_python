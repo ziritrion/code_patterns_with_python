{
 "cells": [
  {
   "cell_type": "markdown",
   "id": "8de939ae",
   "metadata": {},
   "source": [
    "# State: handmade state machine\n",
    "\n",
    "> A more realistic implementation"
   ]
  },
  {
   "cell_type": "markdown",
   "id": "8255da06",
   "metadata": {},
   "source": [
    "In this example we will build a state machine for a phone call.\n",
    "\n",
    "Here are its possible **states**:\n",
    "* Off the hook\n",
    "* Connecting\n",
    "* Connected\n",
    "* On hold\n",
    "* On the hook\n",
    "\n",
    "We will also define **triggers** that will force a transition from one state to the other, e.g. dialing a call, which would trigger a transition from the off-the-hook state to the connecting state."
   ]
  },
  {
   "cell_type": "code",
   "execution_count": 1,
   "id": "932230da",
   "metadata": {},
   "outputs": [],
   "source": [
    "from enum import Enum, auto\n",
    "\n",
    "class State(Enum):\n",
    "    OFF_HOOK = auto()\n",
    "    CONNECTING = auto()\n",
    "    CONNECTED = auto()\n",
    "    ON_HOLD = auto()\n",
    "    ON_HOOK = auto()\n",
    "\n",
    "class Trigger(Enum):\n",
    "    CALL_DIALED = auto()\n",
    "    HUNG_UP = auto()\n",
    "    CALL_CONNECTED = auto()\n",
    "    PLACED_ON_HOLD = auto()\n",
    "    TAKEN_OFF_HOLD = auto()\n",
    "    LEFT_MESSAGE = auto()"
   ]
  },
  {
   "cell_type": "markdown",
   "id": "a6b9d4fb",
   "metadata": {},
   "source": [
    "With our states and triggers in place, we now need to map the state transitions; in other words, we need to define the rules by which one state can transition to another. We will create a dictionary using the states as keys and a list of tuples for values, where each tuple contains a trigger and the resulting state."
   ]
  },
  {
   "cell_type": "code",
   "execution_count": 2,
   "id": "bd3ad8dc",
   "metadata": {},
   "outputs": [],
   "source": [
    "rules = {\n",
    "    State.OFF_HOOK: [\n",
    "        (Trigger.CALL_DIALED, State.CONNECTING)\n",
    "    ],\n",
    "    State.CONNECTING: [\n",
    "        (Trigger.HUNG_UP, State.ON_HOOK),\n",
    "        (Trigger.CALL_CONNECTED, State.CONNECTED)\n",
    "    ],\n",
    "    State.CONNECTED: [\n",
    "        (Trigger.LEFT_MESSAGE, State.ON_HOOK),\n",
    "        (Trigger.HUNG_UP, State.ON_HOOK),\n",
    "        (Trigger.PLACED_ON_HOLD, State.ON_HOLD)\n",
    "    ],\n",
    "    State.ON_HOLD: [\n",
    "        (Trigger.TAKEN_OFF_HOLD, State.CONNECTED),\n",
    "        (Trigger.HUNG_UP, State.ON_HOOK)\n",
    "    ]\n",
    "}"
   ]
  },
  {
   "cell_type": "markdown",
   "id": "c641b72d",
   "metadata": {},
   "source": [
    "We're only missing 2 pieces of information: the starting state and the exiting state that will determine when the machine is done executing.\n",
    "\n",
    "> Note that some state machines are infinite, e.g. trading robots in financial markets.\n",
    "\n",
    "We're modeling a single phone call, so we will have an exit state which will represent when the call is done:"
   ]
  },
  {
   "cell_type": "code",
   "execution_count": 3,
   "id": "6017e585",
   "metadata": {},
   "outputs": [],
   "source": [
    "state = State.OFF_HOOK\n",
    "exit_state = State.ON_HOOK"
   ]
  },
  {
   "cell_type": "markdown",
   "id": "7c4de6a9",
   "metadata": {},
   "source": [
    "We now have everything in place to code the actual state machine, which will simply be a loop that checks for the exit state on each iteration and exits once it reaches it.\n",
    "\n",
    "We will request the user's input in order to figure out which state we should transition to, and keep iterating until the call is done:"
   ]
  },
  {
   "cell_type": "code",
   "execution_count": 4,
   "id": "9de80452",
   "metadata": {},
   "outputs": [
    {
     "name": "stdout",
     "output_type": "stream",
     "text": [
      "The phone is currently State.OFF_HOOK\n",
      "0: Trigger.CALL_DIALED\n",
      "User selected 0\n",
      "The phone is currently State.CONNECTING\n",
      "0: Trigger.HUNG_UP\n",
      "1: Trigger.CALL_CONNECTED\n",
      "User selected 1\n",
      "The phone is currently State.CONNECTED\n",
      "0: Trigger.LEFT_MESSAGE\n",
      "1: Trigger.HUNG_UP\n",
      "2: Trigger.PLACED_ON_HOLD\n",
      "User selected 0\n",
      "We are done using the phone.\n"
     ]
    }
   ],
   "source": [
    "while state != exit_state:\n",
    "    print(f'The phone is currently {state}')\n",
    "\n",
    "    for i in range(len(rules[state])):\n",
    "        t = rules[state][i][0]\n",
    "        print(f'{i}: {t}')\n",
    "\n",
    "    idx = int(input('Select a trigger:'))\n",
    "    print(f'User selected {idx}')\n",
    "    s = rules[state][idx][1]\n",
    "    state = s\n",
    "\n",
    "print('We are done using the phone.')"
   ]
  },
  {
   "cell_type": "markdown",
   "id": "98aeba2e",
   "metadata": {},
   "source": [
    "And that's it! This approach allows us to model more complex state machines than the classic way because the transitions are much easier to read and define."
   ]
  }
 ],
 "metadata": {
  "kernelspec": {
   "display_name": ".venv",
   "language": "python",
   "name": "python3"
  },
  "language_info": {
   "codemirror_mode": {
    "name": "ipython",
    "version": 3
   },
   "file_extension": ".py",
   "mimetype": "text/x-python",
   "name": "python",
   "nbconvert_exporter": "python",
   "pygments_lexer": "ipython3",
   "version": "3.12.6"
  }
 },
 "nbformat": 4,
 "nbformat_minor": 5
}
