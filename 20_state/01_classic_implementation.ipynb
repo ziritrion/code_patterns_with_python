{
 "cells": [
  {
   "cell_type": "markdown",
   "id": "866b8147",
   "metadata": {},
   "source": [
    "# State: classic implementation\n",
    "\n",
    "> What NOT to do in real life"
   ]
  },
  {
   "cell_type": "markdown",
   "id": "006f870c",
   "metadata": {},
   "source": [
    "The classic State example in the Gang of Four book involves a light switch: the switch can either be on or off. However, in this lesson we will see how it's possible to build a rather complicated and unnecessary state machine on top of this simple example.\n",
    "\n",
    "We will model the switch with a class, but first we will define a `State` base class from which all possible states will inherit from."
   ]
  },
  {
   "cell_type": "code",
   "execution_count": 1,
   "id": "1bdb4b6a",
   "metadata": {},
   "outputs": [],
   "source": [
    "from abc import ABC\n",
    "\n",
    "class State(ABC):\n",
    "    def on(self, switch):\n",
    "        print('Light is already on')\n",
    "\n",
    "    def off(self, switch):\n",
    "        print('Light is already off')"
   ]
  },
  {
   "cell_type": "markdown",
   "id": "28ebe049",
   "metadata": {},
   "source": [
    "In a typical **state machine** we don't necessarily need to represent states with classes; we could represent states with attributes instead. But in this example we're implementing them with classes.\n",
    "\n",
    "We will now implement the `OnState` and `OffState`:"
   ]
  },
  {
   "cell_type": "code",
   "execution_count": 2,
   "id": "ee700de7",
   "metadata": {},
   "outputs": [],
   "source": [
    "class OnState(State):\n",
    "    def __init__(self):\n",
    "        print('Light turned on')\n",
    "\n",
    "    def off(self, switch):\n",
    "        print('Turning light off...')\n",
    "        switch.state = OffState()\n",
    "\n",
    "class OffState(State):\n",
    "    def __init__(self):\n",
    "        print('Light turned off')\n",
    "\n",
    "    def on(self, switch):\n",
    "        print('Turning light on...')\n",
    "        switch.state = OnState()"
   ]
  },
  {
   "cell_type": "markdown",
   "id": "c8f7cd33",
   "metadata": {},
   "source": [
    "Note that each of these two classes use their `__init__` method to define the state and then they override the method that will allow for a state transition: from `OnState` to `OffState` and viceversa. The Base Class methods do not change state so the implementations can simply let them as they are.\n",
    "\n",
    "(Usually, for code this simple you would modify the state directly with a boolean attribute. Our implementation has the advantage of limiting self-state transitions without conditionals but it's also much wordier as a result).\n",
    "\n",
    "We are now ready to implement the `Switch` class:"
   ]
  },
  {
   "cell_type": "code",
   "execution_count": 3,
   "id": "8aaf9007",
   "metadata": {},
   "outputs": [],
   "source": [
    "class Switch:\n",
    "    def __init__(self):\n",
    "        self.state = OffState()\n",
    "        \n",
    "    def on(self):\n",
    "        self.state.on(self)\n",
    "\n",
    "    def off(self):\n",
    "        self.state.off(self)"
   ]
  },
  {
   "cell_type": "markdown",
   "id": "6fa9a75b",
   "metadata": {},
   "source": [
    "We initialize our `Switch` with its state set to `OffState`, and then we define methods to transition between states.\n",
    "\n",
    "Let's test our code:"
   ]
  },
  {
   "cell_type": "code",
   "execution_count": 6,
   "id": "1661a81c",
   "metadata": {},
   "outputs": [
    {
     "name": "stdout",
     "output_type": "stream",
     "text": [
      "Light turned off\n",
      "---\n",
      "Turning light on...\n",
      "Light turned on\n",
      "---\n",
      "Turning light off...\n",
      "Light turned off\n",
      "---\n",
      "Light is already off\n"
     ]
    }
   ],
   "source": [
    "sw = Switch()\n",
    "\n",
    "print('---')\n",
    "\n",
    "sw.on()  # Turning light on...\n",
    "            # Light turned on\n",
    "            \n",
    "print('---')\n",
    "\n",
    "sw.off()  # Turning light off...\n",
    "            # Light turned off\n",
    "            \n",
    "print('---')\n",
    "\n",
    "sw.off()  # Light is already off"
   ]
  },
  {
   "cell_type": "markdown",
   "id": "d4747a72",
   "metadata": {},
   "source": [
    "This is the classic implementation of the State Design Pattern: with classes for representing states. In most situations it's not worth it due to non-obvious behavior and because it makes the code more complicated to understand. Nowadays other approaches are preferred for building state machines, which we will see in the upcoming lessons."
   ]
  }
 ],
 "metadata": {
  "kernelspec": {
   "display_name": ".venv",
   "language": "python",
   "name": "python3"
  },
  "language_info": {
   "codemirror_mode": {
    "name": "ipython",
    "version": 3
   },
   "file_extension": ".py",
   "mimetype": "text/x-python",
   "name": "python",
   "nbconvert_exporter": "python",
   "pygments_lexer": "ipython3",
   "version": "3.12.6"
  }
 },
 "nbformat": 4,
 "nbformat_minor": 5
}
